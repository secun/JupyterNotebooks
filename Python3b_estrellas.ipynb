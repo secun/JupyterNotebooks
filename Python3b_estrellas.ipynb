{
  "nbformat": 4,
  "nbformat_minor": 0,
  "metadata": {
    "kernelspec": {
      "display_name": "Python 3",
      "language": "python",
      "name": "python3"
    },
    "language_info": {
      "codemirror_mode": {
        "name": "ipython",
        "version": 3
      },
      "file_extension": ".py",
      "mimetype": "text/x-python",
      "name": "python",
      "nbconvert_exporter": "python",
      "pygments_lexer": "ipython3",
      "version": "3.8.3"
    },
    "colab": {
      "name": "Python3b_estrellas.ipynb",
      "provenance": [],
      "include_colab_link": true
    }
  },
  "cells": [
    {
      "cell_type": "markdown",
      "metadata": {
        "id": "view-in-github",
        "colab_type": "text"
      },
      "source": [
        "<a href=\"https://colab.research.google.com/github/secun/JupyterNotebooks/blob/main/Python3b_estrellas.ipynb\" target=\"_parent\"><img src=\"https://colab.research.google.com/assets/colab-badge.svg\" alt=\"Open In Colab\"/></a>"
      ]
    },
    {
      "cell_type": "markdown",
      "metadata": {
        "id": "F5uPpRD6STcs"
      },
      "source": [
        "# El secreto del centro galáctico"
      ]
    },
    {
      "cell_type": "markdown",
      "metadata": {
        "id": "9pgld6XqSTct"
      },
      "source": [
        "La ESA nos ha proporcionado los siguientes datos. Se refieren a estrellas que orbitan el centro galáctico. \n",
        "\n",
        "Los periodos se dan en años y el semieje mayor de la óribita en UA (unidades astronómicas)"
      ]
    },
    {
      "cell_type": "code",
      "metadata": {
        "id": "c6grt54GSTct"
      },
      "source": [
        "datos = {'estrella': ['S1','S2','S8','S12','S13','S14'], 'periodo': [94.1, 15.24,67.2,54.4,36,38], 'distancia_media': [3300,980,2630,2290,1750,1800]}"
      ],
      "execution_count": null,
      "outputs": []
    },
    {
      "cell_type": "code",
      "metadata": {
        "colab": {
          "base_uri": "https://localhost:8080/"
        },
        "id": "6fTJJ2ktSTcu",
        "outputId": "5f02233f-35f1-4511-bd97-14de6721aa42"
      },
      "source": [
        "datos['estrella']"
      ],
      "execution_count": null,
      "outputs": [
        {
          "output_type": "execute_result",
          "data": {
            "text/plain": [
              "['S1', 'S2', 'S8', 'S12', 'S13', 'S14']"
            ]
          },
          "metadata": {
            "tags": []
          },
          "execution_count": 2
        }
      ]
    },
    {
      "cell_type": "code",
      "metadata": {
        "colab": {
          "base_uri": "https://localhost:8080/"
        },
        "id": "rt19dJbkSTcu",
        "outputId": "4c028373-543d-4eef-8fc6-6d49a00f262a"
      },
      "source": [
        "datos['periodo']"
      ],
      "execution_count": null,
      "outputs": [
        {
          "output_type": "execute_result",
          "data": {
            "text/plain": [
              "[94.1, 15.24, 67.2, 54.4, 36, 38]"
            ]
          },
          "metadata": {
            "tags": []
          },
          "execution_count": 3
        }
      ]
    },
    {
      "cell_type": "code",
      "metadata": {
        "colab": {
          "base_uri": "https://localhost:8080/"
        },
        "id": "YlABQH2zSTcv",
        "outputId": "21709073-11ad-4cc6-c93a-0c19d8064d57"
      },
      "source": [
        "datos['distancia_media']"
      ],
      "execution_count": null,
      "outputs": [
        {
          "output_type": "execute_result",
          "data": {
            "text/plain": [
              "[3300, 980, 2630, 2290, 1750, 1800]"
            ]
          },
          "metadata": {
            "tags": []
          },
          "execution_count": 4
        }
      ]
    },
    {
      "cell_type": "markdown",
      "metadata": {
        "id": "0czu2GAVSTcv"
      },
      "source": [
        "Conocidos el periodo y la distancia media de la órbita, podemos calcular la masa del objeto central a partir de la tercera ley de Kepler."
      ]
    },
    {
      "cell_type": "markdown",
      "metadata": {
        "id": "3uc0HgsiSTcv"
      },
      "source": [
        "## 1. Convertir las unidades al SI"
      ]
    },
    {
      "cell_type": "markdown",
      "metadata": {
        "id": "Fu9MQQdxSTcv"
      },
      "source": [
        "Definimos dos funciones que conviertan las unidades de los datos que nos ha proporcionado la ESA al SI"
      ]
    },
    {
      "cell_type": "code",
      "metadata": {
        "id": "t99jb-N5STcw"
      },
      "source": [
        "def años_a_segundos(tiempo_años):\n",
        "    \"\"\"Función que convierte unidades de tiempo de años a segundos\"\"\"\n",
        "    tiempo_segundos = tiempo_años*(365*24*3600)\n",
        "    return tiempo_segundos\n",
        "\n",
        "\n",
        "# La unidad astronómica (abreviada ua, au, UA o AU) es una unidad de longitud igual, por definición, a 149 597 870 700 m, \n",
        "# que equivale aproximadamente a la distancia media entre la Tierra y el Sol.\n",
        "\n",
        "def UA_a_metros(distancia_UA):\n",
        "    \"\"\"función que convierte unidades de distancia de UA a metros\"\"\"\n",
        "    distancia_metros = distancia_UA*149597870700\n",
        "    return distancia_metros\n",
        "    "
      ],
      "execution_count": null,
      "outputs": []
    },
    {
      "cell_type": "markdown",
      "metadata": {
        "id": "oADfR8I9STcw"
      },
      "source": [
        "## 2. Representa gráficamente el periodo frente al semieje mayor"
      ]
    },
    {
      "cell_type": "markdown",
      "metadata": {
        "id": "-YShT99nSTcw"
      },
      "source": [
        "Lo primero que haremos será crear dos listas que contengan el periodo orbital y el radio medio de la órbita en el SI."
      ]
    },
    {
      "cell_type": "code",
      "metadata": {
        "colab": {
          "base_uri": "https://localhost:8080/"
        },
        "id": "RXXVxmKaSTcw",
        "outputId": "3da0651e-a18f-486c-fefe-53adb25eac8f"
      },
      "source": [
        "periodo_orbital = []\n",
        "for i in datos['periodo']:\n",
        "    periodo_orbital.append(años_a_segundos(i))\n",
        "\n",
        "print(periodo_orbital)"
      ],
      "execution_count": null,
      "outputs": [
        {
          "output_type": "stream",
          "text": [
            "[2967537600.0, 480608640.0, 2119219200.0, 1715558400.0, 1135296000, 1198368000]\n"
          ],
          "name": "stdout"
        }
      ]
    },
    {
      "cell_type": "code",
      "metadata": {
        "colab": {
          "base_uri": "https://localhost:8080/"
        },
        "id": "xCD6RfbbSTcx",
        "outputId": "596a4f65-aaf1-47b6-cf3d-da9605717401"
      },
      "source": [
        "radio_orbital = []\n",
        "for i in range(len(datos['distancia_media'])):\n",
        "    radio_orbital.append(UA_a_metros(datos['distancia_media'][i]))\n",
        "    \n",
        "print(radio_orbital)"
      ],
      "execution_count": null,
      "outputs": [
        {
          "output_type": "stream",
          "text": [
            "[493672973310000, 146605913286000, 393442399941000, 342579123903000, 261796273725000, 269276167260000]\n"
          ],
          "name": "stdout"
        }
      ]
    },
    {
      "cell_type": "code",
      "metadata": {
        "id": "5hSYwnKoSTcx"
      },
      "source": [
        "from matplotlib import pylab as plt"
      ],
      "execution_count": null,
      "outputs": []
    },
    {
      "cell_type": "code",
      "metadata": {
        "colab": {
          "base_uri": "https://localhost:8080/",
          "height": 295
        },
        "id": "ngGfRKfWSTcx",
        "outputId": "80c735a7-9ef1-4467-d6a7-1e52de645e1c"
      },
      "source": [
        "plt.scatter(periodo_orbital,radio_orbital)\n",
        "plt.title('Estrellas orbitando SgrA*')\n",
        "plt.xlabel('R')\n",
        "plt.ylabel('T')\n",
        "plt.grid()"
      ],
      "execution_count": null,
      "outputs": [
        {
          "output_type": "display_data",
          "data": {
            "image/png": "[encoded data removed]",
            "text/plain": [
              "<Figure size 432x288 with 1 Axes>"
            ]
          },
          "metadata": {
            "tags": [],
            "needs_background": "light"
          }
        }
      ]
    },
    {
      "cell_type": "markdown",
      "metadata": {
        "id": "nEfIozOdSTcx"
      },
      "source": [
        "## 3. ¿Hay un objeto con masa en el centro de la galaxia?\n",
        "##                   Comprobad la tercera key de Kepler"
      ]
    },
    {
      "cell_type": "markdown",
      "metadata": {
        "id": "b2Iye5-7STcx"
      },
      "source": [
        "Necesitamos listas que contengan semieje mayor al cubo y periodos al cuadrado"
      ]
    },
    {
      "cell_type": "code",
      "metadata": {
        "id": "aR8u65FNSTcy"
      },
      "source": [
        "R3 = []\n",
        "for i in radio_orbital:\n",
        "    R3.append(i**3)\n",
        "\n",
        "T2 = []\n",
        "for i in periodo_orbital:\n",
        "    T2.append(i**2)"
      ],
      "execution_count": null,
      "outputs": []
    },
    {
      "cell_type": "markdown",
      "metadata": {
        "id": "KuTI5_PXSTcy"
      },
      "source": [
        "Ahora vamos a representar gráficamente dichos puntos\n",
        "\n",
        "---\n",
        "\n"
      ]
    },
    {
      "cell_type": "code",
      "metadata": {
        "colab": {
          "base_uri": "https://localhost:8080/",
          "height": 295
        },
        "id": "cPznVaAZSTcy",
        "outputId": "44369759-8fe5-45b0-aec9-db3ddba44fa7"
      },
      "source": [
        "plt.scatter(R3,T2)\n",
        "plt.title('Estrellas orbitando SgrA*')\n",
        "plt.xlabel('R^3')\n",
        "plt.ylabel('T^2')\n",
        "plt.grid()"
      ],
      "execution_count": null,
      "outputs": [
        {
          "output_type": "display_data",
          "data": {
            "image/png": "[encoded data removed]",
            "text/plain": [
              "<Figure size 432x288 with 1 Axes>"
            ]
          },
          "metadata": {
            "tags": [],
            "needs_background": "light"
          }
        }
      ]
    },
    {
      "cell_type": "code",
      "metadata": {
        "id": "eFCdG4OUkDcO"
      },
      "source": [
        ""
      ],
      "execution_count": null,
      "outputs": []
    },
    {
      "cell_type": "code",
      "metadata": {
        "colab": {
          "base_uri": "https://localhost:8080/",
          "height": 295
        },
        "id": "GpHTcx1ASTcy",
        "outputId": "97ea6247-5b53-467a-8239-8d43d484958a"
      },
      "source": [
        "plt.plot(periodo_orbital,radio_orbital)\n",
        "plt.title('Estrellas orbitando SgrA*')\n",
        "plt.xlabel('R (m)')\n",
        "plt.ylabel('T (años)')\n",
        "plt.grid()"
      ],
      "execution_count": null,
      "outputs": [
        {
          "output_type": "display_data",
          "data": {
            "image/png": "[encoded data removed]",
            "text/plain": [
              "<Figure size 432x288 with 1 Axes>"
            ]
          },
          "metadata": {
            "tags": [],
            "needs_background": "light"
          }
        }
      ]
    },
    {
      "cell_type": "markdown",
      "metadata": {
        "id": "oo2ym0EQSTcy"
      },
      "source": [
        "## 4. Obtener la masa del agujero negro central\n",
        "\n",
        "\n"
      ]
    },
    {
      "cell_type": "markdown",
      "metadata": {
        "id": "S4AF6ED0STcz"
      },
      "source": [
        "No es necesario saber hacer una regresión lineal... Podemos calcular el resultado que obtendríamos para cada estrella aplicando la tercera ley de Kepler, y hacer la media de todos los resultados para obtener un mejor resultado estadístico."
      ]
    },
    {
      "cell_type": "code",
      "metadata": {
        "id": "W1350uLmSTcz"
      },
      "source": [
        "import numpy as np\n",
        "from scipy.constants import G"
      ],
      "execution_count": null,
      "outputs": []
    },
    {
      "cell_type": "code",
      "metadata": {
        "colab": {
          "base_uri": "https://localhost:8080/"
        },
        "id": "7yQjiopkSTcz",
        "outputId": "cd2ac404-69a7-4a19-f96b-9a81a23a44b2"
      },
      "source": [
        "M_agujero_negro = []\n",
        "\n",
        "for i in range(len(R3)):\n",
        "    M_agujero_negro.append(4*np.pi**2*R3[i]/(T2[i]*G))\n",
        "    \n",
        "M_BH=sum(M_agujero_negro)/len(M_agujero_negro)\n",
        "print(M_BH)"
      ],
      "execution_count": null,
      "outputs": [
        {
          "output_type": "stream",
          "text": [
            "8.088051651284576e+36\n"
          ],
          "name": "stdout"
        }
      ]
    },
    {
      "cell_type": "markdown",
      "metadata": {
        "id": "hgkfWZ_0STcz"
      },
      "source": [
        "¿Cúanto vale la masa en unidades de masas solares?"
      ]
    },
    {
      "cell_type": "code",
      "metadata": {
        "colab": {
          "base_uri": "https://localhost:8080/"
        },
        "id": "hJLibSNOSTcz",
        "outputId": "698bf88f-a7fe-4eb2-f920-f5780dde26f3"
      },
      "source": [
        "M_Sun = 1.98840987e+30\n",
        "\n",
        "print(M_BH/M_Sun)"
      ],
      "execution_count": null,
      "outputs": [
        {
          "output_type": "stream",
          "text": [
            "4067597.819399567\n"
          ],
          "name": "stdout"
        }
      ]
    },
    {
      "cell_type": "markdown",
      "metadata": {
        "id": "LPUazq8RSTc0"
      },
      "source": [
        "### ¿Coinciden tus resultados con el de lxs investigadorxs?\n",
        "Se puede comprobar el resultado y aprender más en el artículo original: https://arxiv.org/abs/astro-ph/0210426"
      ]
    },
    {
      "cell_type": "markdown",
      "metadata": {
        "id": "nTgwiR9mSTc0"
      },
      "source": [
        "## Adicional: Regresión lineal.\n"
      ]
    },
    {
      "cell_type": "code",
      "metadata": {
        "id": "a_mUcdprSTc0"
      },
      "source": [
        "periodo = np.array(datos['periodo'])\n",
        "semiejemayor = np.array(datos['distancia_media'])\n",
        "\n",
        "x = semiejemayor**3\n",
        "y = periodo**2"
      ],
      "execution_count": null,
      "outputs": []
    },
    {
      "cell_type": "code",
      "metadata": {
        "colab": {
          "base_uri": "https://localhost:8080/"
        },
        "id": "jK9lugWQSTc0",
        "outputId": "bd3dd3df-1447-4f74-acec-447d1da8de81"
      },
      "source": [
        "p = np.polyfit(x, y, 1)\n",
        "print(p)"
      ],
      "execution_count": null,
      "outputs": [
        {
          "output_type": "stream",
          "text": [
            "[ 2.46776132e-07 -2.15016838e+00]\n"
          ],
          "name": "stdout"
        }
      ]
    },
    {
      "cell_type": "code",
      "metadata": {
        "colab": {
          "base_uri": "https://localhost:8080/",
          "height": 295
        },
        "id": "1tbYON_HSTc0",
        "outputId": "625de54b-20a3-49a0-9513-3d525f1d4c55"
      },
      "source": [
        "# Valores de y calculados del ajuste\n",
        "y_ajuste = p[0]*x + p[1]\n",
        "\n",
        "# Dibujamos los datos experimentales\n",
        "p_datos, = plt.plot(x, y, 'bo')\n",
        "# Dibujamos la recta de ajuste\n",
        "p_ajuste, = plt.plot(x, y_ajuste, 'r-')\n",
        "\n",
        "plt.title('Ajuste lineal por minimos cuadrados')\n",
        "\n",
        "plt.xlabel('Eje X')\n",
        "plt.ylabel('Eje Y')\n",
        "\n",
        "plt.legend(('Datos experimentales', 'Ajuste lineal'), loc=\"upper left\")\n",
        "plt.show()"
      ],
      "execution_count": null,
      "outputs": [
        {
          "output_type": "display_data",
          "data": {
            "image/png": "[encoded data removed]",
            "text/plain": [
              "<Figure size 432x288 with 1 Axes>"
            ]
          },
          "metadata": {
            "tags": [],
            "needs_background": "light"
          }
        }
      ]
    },
    {
      "cell_type": "code",
      "metadata": {
        "id": "0sOYXQvfSTc0"
      },
      "source": [
        ""
      ],
      "execution_count": null,
      "outputs": []
    }
  ]
}