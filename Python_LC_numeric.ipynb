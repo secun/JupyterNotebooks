{
  "nbformat": 4,
  "nbformat_minor": 0,
  "metadata": {
    "kernelspec": {
      "display_name": "Python 3",
      "language": "python",
      "name": "python3"
    },
    "language_info": {
      "codemirror_mode": {
        "name": "ipython",
        "version": 3
      },
      "file_extension": ".py",
      "mimetype": "text/x-python",
      "name": "python",
      "nbconvert_exporter": "python",
      "pygments_lexer": "ipython3",
      "version": "3.8.3"
    },
    "colab": {
      "name": "Python_LC_numeric.ipynb",
      "provenance": [],
      "collapsed_sections": [
        "WuvKFKEP4rSK",
        "KTYQ8S9i4rSb",
        "GZzdrADt4rS9",
        "cx5NgbZr4rTM",
        "ObE9E-q94rTY"
      ],
      "include_colab_link": true
    }
  },
  "cells": [
    {
      "cell_type": "markdown",
      "metadata": {
        "id": "view-in-github",
        "colab_type": "text"
      },
      "source": [
        "<a href=\"https://colab.research.google.com/github/secun/JupyterNotebooks/blob/main/Python_LC_numeric.ipynb\" target=\"_parent\"><img src=\"https://colab.research.google.com/assets/colab-badge.svg\" alt=\"Open In Colab\"/></a>"
      ]
    },
    {
      "cell_type": "markdown",
      "metadata": {
        "id": "E-WvINFU4rQk"
      },
      "source": [
        "# Cálculo numérico en Python\n",
        "\n",
        "Para trabajar con cálculo numérico en Python (incluyendo complejos, matrices, etc.) usaremos siempre el módulo \n",
        "\"numpy\""
      ]
    },
    {
      "cell_type": "markdown",
      "metadata": {
        "id": "6Pd8rZ_44rRB"
      },
      "source": [
        "## Matrices (arrays)"
      ]
    },
    {
      "cell_type": "markdown",
      "metadata": {
        "id": "gPOsbCrC4rRF"
      },
      "source": [
        "Los \"arrays\" no son matrices en sentido estricto sino vectores de cualquier dimensión. Si multiplicamos 2 arrays de dimensión 2, no hace el producto matricial sino que multiplica los arrays elemento a elemento. Hay que usar las funciones específicas para el producto matricial o definir el objeto como clase \"matrix\" (que es un tipo especial de \"array\" que tiene implementados los métodos de las matrices matemáticas)"
      ]
    },
    {
      "cell_type": "code",
      "metadata": {
        "id": "WtEcjO7C4rRJ"
      },
      "source": [
        "import numpy as np"
      ],
      "execution_count": null,
      "outputs": []
    },
    {
      "cell_type": "markdown",
      "metadata": {
        "id": "e1dOIMmV4rRO"
      },
      "source": [
        "Empezamos por convertir una lista en un array de numpy"
      ]
    },
    {
      "cell_type": "code",
      "metadata": {
        "id": "r8uc83L44rRT"
      },
      "source": [
        "list1=[0.5, 0.7, 0.9]"
      ],
      "execution_count": null,
      "outputs": []
    },
    {
      "cell_type": "code",
      "metadata": {
        "id": "R-d9FR4B4rRZ"
      },
      "source": [
        "list2=[2, 2.1, 2.2]"
      ],
      "execution_count": null,
      "outputs": []
    },
    {
      "cell_type": "code",
      "metadata": {
        "id": "I1SvIPOv4rRb"
      },
      "source": [
        "array1 = np.array(list1)\n",
        "array1"
      ],
      "execution_count": null,
      "outputs": []
    },
    {
      "cell_type": "code",
      "metadata": {
        "id": "RFxuITLB4rRd"
      },
      "source": [
        "array2=np.array(list2)"
      ],
      "execution_count": null,
      "outputs": []
    },
    {
      "cell_type": "code",
      "metadata": {
        "id": "R4OMS9st4rRf"
      },
      "source": [
        "array3 = np.array([0.5, 0, -0.777])\n",
        "array3"
      ],
      "execution_count": null,
      "outputs": []
    },
    {
      "cell_type": "code",
      "metadata": {
        "id": "c9XhR0zY4rRj"
      },
      "source": [
        "array1.shape"
      ],
      "execution_count": null,
      "outputs": []
    },
    {
      "cell_type": "code",
      "metadata": {
        "id": "vSPtFPTl4rRr"
      },
      "source": [
        "np.shape(array1)"
      ],
      "execution_count": null,
      "outputs": []
    },
    {
      "cell_type": "markdown",
      "metadata": {
        "id": "I7lP5Bbv4rRs"
      },
      "source": [
        "Y crear un array de arrays, es decir, de 2 dimensiones"
      ]
    },
    {
      "cell_type": "code",
      "metadata": {
        "id": "AUBgq4b24rRt"
      },
      "source": [
        "array1_2=np.array([array1,array2])"
      ],
      "execution_count": null,
      "outputs": []
    },
    {
      "cell_type": "code",
      "metadata": {
        "id": "XqJyrPUX4rRv"
      },
      "source": [
        "array1_2.shape\n",
        "#np.shape(array1_2)"
      ],
      "execution_count": null,
      "outputs": []
    },
    {
      "cell_type": "code",
      "metadata": {
        "id": "A5R7taeo4rRw"
      },
      "source": [
        "print(array1_2)"
      ],
      "execution_count": null,
      "outputs": []
    },
    {
      "cell_type": "code",
      "metadata": {
        "id": "eVbFabeB4rRz"
      },
      "source": [
        "array1_2"
      ],
      "execution_count": null,
      "outputs": []
    },
    {
      "cell_type": "code",
      "metadata": {
        "id": "a5utzInL4rR1"
      },
      "source": [
        "array1_3 = np.array([array1,array3])\n",
        "array1_3"
      ],
      "execution_count": null,
      "outputs": []
    },
    {
      "cell_type": "markdown",
      "metadata": {
        "id": "6Sk7beXA4rR3"
      },
      "source": [
        "Si ahora queremos añadirle otro \"array\", no se utiliza la función \"append\" de las listas, para pegarle otro array se utiliza \"concatenate\""
      ]
    },
    {
      "cell_type": "code",
      "metadata": {
        "id": "I6Z-2Fgm4rR4"
      },
      "source": [
        "array2_3 = np.concatenate((array1,array2))\n",
        "array2_3"
      ],
      "execution_count": null,
      "outputs": []
    },
    {
      "cell_type": "markdown",
      "metadata": {
        "id": "5-SZtW1u4rR7"
      },
      "source": [
        "Y si queremos añadirla en un array de 2 dimensiones hay que decirle en qué eje se lo queremos añadir"
      ]
    },
    {
      "cell_type": "code",
      "metadata": {
        "id": "uFIJ_6f94rR9"
      },
      "source": [
        "print(array1_2.shape)\n",
        "print(array1_3.shape)\n",
        "array1_2_3 = np.concatenate((array1_2, array1_3), axis=0)\n",
        "array1_2_3"
      ],
      "execution_count": null,
      "outputs": []
    },
    {
      "cell_type": "code",
      "metadata": {
        "id": "4SYQUNec4rR-"
      },
      "source": [
        "array1_2_3 = np.concatenate((array1_2, array1_3), axis=1)\n",
        "array1_2_3"
      ],
      "execution_count": null,
      "outputs": []
    },
    {
      "cell_type": "markdown",
      "metadata": {
        "id": "6ZrP61TG4rSA"
      },
      "source": [
        "Para generar una secuencia regular con numpy existe la función \"linspace\" (o \"logspace\" si lo queremos en escala logarítmica, pero se indican los exponentes para el comienzo y el final de la secuencia).\n",
        "Se indica el primer valor de la secuencia, el último, y el número total de puntos de la secuencia.\n",
        "En este caso $\\bf{SÍ}$ se incluye el valor final."
      ]
    },
    {
      "cell_type": "code",
      "metadata": {
        "id": "kg_mjB5x4rSE"
      },
      "source": [
        "N=101 \n",
        "#Notar que N suele ser el número de puntos que queremos +1 porque incluye el primero y el último\n",
        "t=np.linspace(0,10,N)\n",
        "print(t)"
      ],
      "execution_count": null,
      "outputs": []
    },
    {
      "cell_type": "code",
      "metadata": {
        "id": "99riAorL4rSI"
      },
      "source": [
        "type(t)\n",
        "#print(t)"
      ],
      "execution_count": null,
      "outputs": []
    },
    {
      "cell_type": "code",
      "metadata": {
        "id": "HMHFXI534rSJ"
      },
      "source": [
        "tlog = np.logspace(0,2,11) #desde 10^0 hasta 10^2, ambos inclusive\n",
        "print(tlog)"
      ],
      "execution_count": null,
      "outputs": []
    },
    {
      "cell_type": "markdown",
      "metadata": {
        "id": "WuvKFKEP4rSK"
      },
      "source": [
        "# Integral numerica"
      ]
    },
    {
      "cell_type": "markdown",
      "metadata": {
        "id": "sTKN_S2x4rSL"
      },
      "source": [
        "Vamos a comenzar a hacer cálculo numérico. Empezaremos con la integral del $sin(x)$ entre $0$  y $\\pi$"
      ]
    },
    {
      "cell_type": "code",
      "metadata": {
        "id": "oGFxTY274rSN"
      },
      "source": [
        "N = 10000 #Nº de puntos para hacer la integral\n",
        "x = np.linspace(0, np.pi , N)\n",
        "print(x[-1], np.pi)"
      ],
      "execution_count": null,
      "outputs": []
    },
    {
      "cell_type": "code",
      "metadata": {
        "id": "E7bW6mFw4rSO"
      },
      "source": [
        "y = np.sin(x)\n",
        "print(y[-1])"
      ],
      "execution_count": null,
      "outputs": []
    },
    {
      "cell_type": "markdown",
      "metadata": {
        "id": "zpowTAsd4rSP"
      },
      "source": [
        "Haremos la integral numérica con el método del trapecio: $$\\sum_{i=1}^{N}\\frac{f(x_{i-1})+f(x_{i})}{2}\\cdot \\Delta x$$"
      ]
    },
    {
      "cell_type": "code",
      "metadata": {
        "id": "bhpMqx3-4rSR"
      },
      "source": [
        "f = y\n",
        "f.shape"
      ],
      "execution_count": null,
      "outputs": []
    },
    {
      "cell_type": "code",
      "metadata": {
        "id": "s8HtLDqg4rSS"
      },
      "source": [
        "integr= 0.0\n",
        "for i in range(1,N):\n",
        "    integr = integr + ((f[i-1]+f[i])/2)*(x[i]-x[i-1])\n",
        "    \n",
        "print(integr)"
      ],
      "execution_count": null,
      "outputs": []
    },
    {
      "cell_type": "code",
      "metadata": {
        "id": "V1SKOarM4rSU"
      },
      "source": [
        "2-integr"
      ],
      "execution_count": null,
      "outputs": []
    },
    {
      "cell_type": "markdown",
      "metadata": {
        "id": "J7uFbJ714rSV"
      },
      "source": [
        "Y finalmente usando la propia función de Python para calcular integrales numéricas por el método del \"Trapecio\""
      ]
    },
    {
      "cell_type": "code",
      "metadata": {
        "id": "tIXV1rar4rSV"
      },
      "source": [
        "integr=np.trapz(y,x)\n",
        "print(integr)"
      ],
      "execution_count": null,
      "outputs": []
    },
    {
      "cell_type": "markdown",
      "metadata": {
        "id": "KTYQ8S9i4rSb"
      },
      "source": [
        "\n",
        "# Cálculo del radio del planeta"
      ]
    },
    {
      "cell_type": "markdown",
      "metadata": {
        "id": "PQxxXFHy4rSc"
      },
      "source": [
        "Como conocemos el valor de la gravedad \"g\" vamos a calcular el radio del planeta, $R_{P}$ usando la definición del campo gravitatorio para un cuerpo de radio R, conocida su densidad. Su módulo se puede escribir como:\n",
        "$$g(R_P)=G\\frac{M}{R_P^2}=\\frac{G}{R_P^2} {\\int_{0}^{R_P}{\\rho(r) 4\\pi r^2} dr}$$\n"
      ]
    },
    {
      "cell_type": "markdown",
      "metadata": {
        "id": "iB2O4Ljb4rSd"
      },
      "source": [
        "Como nos dicen que su densidad varía linealmente desde el hierro fundido en el núcleo ($\\rho_{0}=11 g/cm^3$) hasta los silicatos ($\\rho_{1}=2.7 g/cm^3$) en la corteza, la escribiremos como:\n",
        "$$\\rho(r) = (\\rho_{1} - \\rho_{0}) \\frac{r}{R_{P}}+\\rho_{0}$$"
      ]
    },
    {
      "cell_type": "markdown",
      "metadata": {
        "id": "5ZBYEqpk4rSe"
      },
      "source": [
        "Comenzamos por calcular el valor de la masa del planeta de radio R para, después, calcular el valor de su gravedad"
      ]
    },
    {
      "cell_type": "code",
      "metadata": {
        "id": "rYxkZp4_4rSe"
      },
      "source": [
        "R = 6370000  #ponemos un valor como el de la Tierra para ver qué saldría\n",
        "G = 6.674e-11\n",
        "rho0 = 11000\n",
        "rho1 = 2700"
      ],
      "execution_count": null,
      "outputs": []
    },
    {
      "cell_type": "code",
      "metadata": {
        "id": "tL25Crga4rSg"
      },
      "source": [
        "r = np.linspace(0,R,1001)\n",
        "r"
      ],
      "execution_count": null,
      "outputs": []
    },
    {
      "cell_type": "code",
      "metadata": {
        "id": "w1tTsEQP4rSo"
      },
      "source": [
        "rho = r*(rho1-rho0)/R + rho0\n",
        "rho"
      ],
      "execution_count": null,
      "outputs": []
    },
    {
      "cell_type": "code",
      "metadata": {
        "id": "BZ-yffWP4rSr"
      },
      "source": [
        "f=4*np.pi*r*r*rho"
      ],
      "execution_count": null,
      "outputs": []
    },
    {
      "cell_type": "code",
      "metadata": {
        "id": "rKmzTEGX4rSs"
      },
      "source": [
        "M = np.trapz(f,r)\n",
        "M"
      ],
      "execution_count": null,
      "outputs": []
    },
    {
      "cell_type": "code",
      "metadata": {
        "id": "64ovY8cO4rSx"
      },
      "source": [
        "g = G*M/(R*R)\n",
        "g"
      ],
      "execution_count": null,
      "outputs": []
    },
    {
      "cell_type": "markdown",
      "metadata": {
        "id": "e9EOewiW4rS0"
      },
      "source": [
        "Como no sabemos qué radio tiene el planeta tendremos que ir variando el radio para luego comparar el valor de la gravedad con el valor dado"
      ]
    },
    {
      "cell_type": "code",
      "metadata": {
        "id": "WACUDwBd4rS1"
      },
      "source": [
        "R_i = 6370000  #valor arbitrario para el radio del planeta\n",
        "N = 1001 # Número de puntos para calcular la integral\n",
        "rho0 = 11000\n",
        "rho1 = 2700\n",
        "r = np.linspace(0,R_i,N)\n",
        "rho = rho0 + r*(rho1 - rho0)/R_i\n",
        "f = 4*np.pi*r*r*rho\n",
        "M = np.trapz(f,r)\n",
        "g = G*M/(R_i*R_i)\n",
        "g"
      ],
      "execution_count": null,
      "outputs": []
    },
    {
      "cell_type": "markdown",
      "metadata": {
        "id": "-x5VCa8b4rS3"
      },
      "source": [
        "Como ya tenemos el bloque de programa para calcular la gravedad para un radio dado $R_i$, lo vamos a meter en una función"
      ]
    },
    {
      "cell_type": "code",
      "metadata": {
        "id": "NQ8BB1HX4rS5"
      },
      "source": [
        "def gravedad(R_i,N):\n",
        "    r = np.linspace(0,R_i,N)\n",
        "    rho = rho0 + r*(rho1 - rho0)/R_i\n",
        "    f = 4*np.pi*r*r*rho\n",
        "    M = np.trapz(f,r)\n",
        "    g = G*M/(R_i*R_i)\n",
        "    return g\n"
      ],
      "execution_count": null,
      "outputs": []
    },
    {
      "cell_type": "code",
      "metadata": {
        "id": "KMwwWa2J4rS6"
      },
      "source": [
        "gravedad(6370000,1000)"
      ],
      "execution_count": null,
      "outputs": []
    },
    {
      "cell_type": "code",
      "metadata": {
        "id": "-A3j176a4rS8"
      },
      "source": [
        ""
      ],
      "execution_count": null,
      "outputs": []
    },
    {
      "cell_type": "markdown",
      "metadata": {
        "id": "GZzdrADt4rS9"
      },
      "source": [
        " ### Cálculo de los valores de la gravedad en función del radio del planeta"
      ]
    },
    {
      "cell_type": "code",
      "metadata": {
        "id": "QRJuL8Fu4rS-"
      },
      "source": [
        "R0 = 1000000 #comenzamos con un valor de 1.000km\n",
        "R1 = 10000000\n",
        "N_R = 21  # Número de radios de planeta para los que vamos a calcular la gravedad\n",
        "\n",
        "R_vect = np.linspace(R0,R1,N_R)\n",
        "print((R_vect))"
      ],
      "execution_count": null,
      "outputs": []
    },
    {
      "cell_type": "markdown",
      "metadata": {
        "id": "5efs5e9u4rS_"
      },
      "source": [
        "Y ahora vamos a hacerlo para todo el conjunto de valores de Radios de Planetas:"
      ]
    },
    {
      "cell_type": "code",
      "metadata": {
        "id": "5cpwnO3X4rTA"
      },
      "source": [
        "g_real = 5.6\n",
        "G = 6.674e-11\n",
        "rho0 = 11000\n",
        "rho1 = 2700\n",
        "\n",
        "R0 = 1000000 #comenzamos con un valor de 1.000km\n",
        "R1 = 10000000 #radio final\n",
        "N_R = 21  # Número de radios de planeta para los que vamos a calcular la gravedad\n",
        "N_r = 10000 #número de puntos del linspace para calcular la masa del planeta\n",
        "\n",
        "R_vect = np.linspace(R0,R1,N_R)\n",
        "g_i=np.empty(len(R_vect))\n",
        "\n",
        "i=0\n",
        "for R_i in R_vect:\n",
        "    g_i[i] = gravedad(R_i,N_r)\n",
        "    print(R_i, g_i[i])\n",
        "    i += 1\n"
      ],
      "execution_count": null,
      "outputs": []
    },
    {
      "cell_type": "markdown",
      "metadata": {
        "id": "6QczYyhv4rTD"
      },
      "source": [
        "Y ahora lo podemos representar en una gráfica"
      ]
    },
    {
      "cell_type": "code",
      "metadata": {
        "id": "XO5UEnjx4rTE"
      },
      "source": [
        "from matplotlib import pylab as plt\n",
        "\n",
        "plt.plot(R_vect,g_i)\n",
        "plt.xlabel('R(m)')\n",
        "plt.ylabel('g(m/s^2)')\n",
        "plt.grid(True)\n",
        "plt.minorticks_on()\n",
        "plt.grid(b=True, which='minor', color='#999999', linestyle='-', alpha=0.2)\n",
        "plt.axis([0.1e7, 1e7, 0., 15])\n",
        "plt.title('Valores de la gravedad')\n",
        "#plt.savefig('valores_gravedad.jpg')\n",
        "plt.show()\n"
      ],
      "execution_count": null,
      "outputs": []
    },
    {
      "cell_type": "code",
      "metadata": {
        "id": "o-aFvOpV4rTG"
      },
      "source": [
        ""
      ],
      "execution_count": null,
      "outputs": []
    },
    {
      "cell_type": "code",
      "metadata": {
        "id": "mXs_8HDV4rTG"
      },
      "source": [
        ""
      ],
      "execution_count": null,
      "outputs": []
    },
    {
      "cell_type": "markdown",
      "metadata": {
        "id": "JGjuQ66B4rTH"
      },
      "source": [
        "# Bucle    $\\bf{While}$  "
      ]
    },
    {
      "cell_type": "markdown",
      "metadata": {
        "id": "tWIgFdmB4rTI"
      },
      "source": [
        "Ya hemos visto el bucle $\\bf{for}$ y ahora vamos a ver el otro bucle que se utiliza mucho: $\\bf{while}$"
      ]
    },
    {
      "cell_type": "markdown",
      "metadata": {
        "id": "JMN7w6Cj4rTK"
      },
      "source": [
        "En este caso el bloque de programa se va a repetir MIENTRAS se cumpla la condición.\n",
        "Recordar que después de la condición hay que poner el signo $\\bf{:}$, y el conjunto de instrucciones se tienen que estar $\\bf{tabulado}$ para que Python sepa cuáles son las que tiene que ejecutar"
      ]
    },
    {
      "cell_type": "markdown",
      "metadata": {
        "id": "cx5NgbZr4rTM"
      },
      "source": [
        "### Cálculo del radio por aproximaciones sucesivas"
      ]
    },
    {
      "cell_type": "markdown",
      "metadata": {
        "id": "gSl_Ugkr4rTN"
      },
      "source": [
        "Para aproximarnos al valor real lo vamos a hacer por sucesivas aproximaciones. En lugar de ir tomando incrementos constantes para los valores del radio del planeta, comenzamos por un valor inicial del Radio y vamos a ir haciendo aproximaciones al radio: Si nos quedamos cortos lo hacemos más grande, y  si nos pasamos hacemos el radio más pequeño, y hacemos la variación  más pequeña."
      ]
    },
    {
      "cell_type": "markdown",
      "metadata": {
        "id": "3Iv6xk-k4rTO"
      },
      "source": [
        "$$\\rm{Si} \\hspace{5mm} g < g_{real} \\hspace{5mm} R=r+\\Delta R$$\n",
        "$$\\rm{Si} \\hspace{5mm} g > g_{real} \\hspace{5mm} R=r-\\Delta R$$  \n",
        "$$\\rm{Si} \\hspace{5mm} g > g_{real} \\hspace{5mm} \\Delta R  =   \\Delta R /2$$\n"
      ]
    },
    {
      "cell_type": "code",
      "metadata": {
        "id": "4iDHCZpj4rTP"
      },
      "source": [
        "g_real = 5.6\n",
        "error_g = 0.05"
      ],
      "execution_count": null,
      "outputs": []
    },
    {
      "cell_type": "markdown",
      "metadata": {
        "id": "FXHe55BH4rTQ"
      },
      "source": [
        "Vamos a calcular la integral numérica del campo gravitatoria para el planeta de los pájaros enfadados"
      ]
    },
    {
      "cell_type": "code",
      "metadata": {
        "id": "NTPC1z1w4rTS"
      },
      "source": [
        "g_real = 5.6\n",
        "error_g = 0.05\n",
        "error=1\n",
        "R_i=1000000\n",
        "Delta_R = 500000  #comenzamos con un \"paso\" de 500 km\n",
        "N_r = 1000 #número de valores de radios para hacer la integral\n",
        "\n",
        "while abs(error)>error_g:\n",
        "    g = gravedad (R_i,N_r)\n",
        "    error = g - g_real\n",
        "    print('R_i=',R_i, '; g=',g, '; error:',error)\n",
        "    if error > 0:\n",
        "        R_i = R_i - Delta_R\n",
        "        Delta_R = Delta_R/2\n",
        "    else:\n",
        "        R_i = R_i + Delta_R\n",
        "    print('Delta_R:', Delta_R, '; nuevo radio:',R_i)\n",
        "print('valor de g=',g, ' para R_i=',R_i)"
      ],
      "execution_count": null,
      "outputs": []
    },
    {
      "cell_type": "code",
      "metadata": {
        "id": "D_bTXdGs4rTT"
      },
      "source": [
        ""
      ],
      "execution_count": null,
      "outputs": []
    },
    {
      "cell_type": "code",
      "metadata": {
        "id": "kiyKPryt4rTV"
      },
      "source": [
        ""
      ],
      "execution_count": null,
      "outputs": []
    },
    {
      "cell_type": "markdown",
      "metadata": {
        "id": "ObE9E-q94rTY"
      },
      "source": [
        " ### Problema"
      ]
    },
    {
      "cell_type": "markdown",
      "metadata": {
        "id": "NwapqJtT4rTZ"
      },
      "source": [
        "Vamos a calcular cuántos huevos, de masa 100g, habría que lanzarle al cerdo, de masa 50kg, para detenerlo, si se movía con una velocidad de 1 m/s, y los huevos los disparábamos a 10m/s"
      ]
    },
    {
      "cell_type": "markdown",
      "metadata": {
        "id": "BpKsf5Y04rTa"
      },
      "source": [
        "Primero  definimos los parámetros del problema:"
      ]
    },
    {
      "cell_type": "code",
      "metadata": {
        "id": "BWOHtIh84rTb"
      },
      "source": [
        "mc = 50 # masa del cerdo\n",
        "mh = 0.1  #masa de los huevos\n",
        "vc0 = 1 #velocidad inicial del cerdo\n",
        "vh = 10 #velocidad de los huevos\n",
        "\n",
        "#vci: \"velocidad del cerdo antes del choque\"\n",
        "#vcf: \"velocidad del cerdo después del choque\"\n",
        "vci = vc0 #inicializamos la variable \"velociad del cerdo antes del choque\"\n",
        "vcf = vc0 #inicializamos la variable \"velociad del cerdo después del choque\""
      ],
      "execution_count": null,
      "outputs": []
    },
    {
      "cell_type": "code",
      "metadata": {
        "id": "kwWH-Qh_4rTe"
      },
      "source": [
        "n=0\n",
        "while vcf > 0: #ejecuta mientras que la velocidad final del cerso sea positiva (hacia la derecha)\n",
        "    vcf = (mc*vci - mh*vh)/(mc+mh)  #ecuación del choque ineslástico\n",
        "    vci = vcf  #después del choque, actualizamos la nueva velocidad \"antes\" del choque\n",
        "    mc = mc+mh  #después de comerse el huevo aumenta su masa\n",
        "    n = n+1  #lanzamos otro huevo\n",
        "print(n)"
      ],
      "execution_count": null,
      "outputs": []
    },
    {
      "cell_type": "code",
      "metadata": {
        "id": "MSBczn9P4rTf"
      },
      "source": [
        ""
      ],
      "execution_count": null,
      "outputs": []
    }
  ]
}