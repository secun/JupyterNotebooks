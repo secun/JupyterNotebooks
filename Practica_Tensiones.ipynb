{
  "nbformat": 4,
  "nbformat_minor": 0,
  "metadata": {
    "colab": {
      "name": "Ecuacion_primer_grado.ipynb",
      "provenance": [],
      "collapsed_sections": [],
      "authorship_tag": "ABX9TyNjKUXEzYmU5MKpJsxQ00XD",
      "include_colab_link": true
    },
    "kernelspec": {
      "name": "python3",
      "display_name": "Python 3"
    }
  },
  "cells": [
    {
      "cell_type": "markdown",
      "metadata": {
        "id": "view-in-github",
        "colab_type": "text"
      },
      "source": [
        "<a href=\"https://colab.research.google.com/github/secun/JupyterNotebooks/blob/main/Practica_Tensiones.ipynb\" target=\"_parent\"><img src=\"https://colab.research.google.com/assets/colab-badge.svg\" alt=\"Open In Colab\"/></a>"
      ]
    },
    {
      "cell_type": "code",
      "metadata": {
        "id": "lJ8osSDOGekF"
      },
      "source": [
        "\r\n",
        "#Código para práctica de laboratorio de Física (4 ESO) . \r\n",
        "#Medida de tensiones con 2 dinamómetros y con varias masas \r\n",
        "\r\n",
        "#Paso 1:Transformación de datos de laboratorio (teniones) a coeficientes de\r\n",
        "#ecuacion de segundo grado \r\n",
        "################################Datos lab (tomados de izquierda a derecha)\r\n",
        "#Datos en cm (si bien sería igual)\r\n",
        "horizontal1= 19.5\r\n",
        "vertical1=0.7\r\n",
        "horizontal2=21 \r\n",
        "vertical2=8\r\n",
        "masa= 50/1000 #dato en g que se transforma en Kg\r\n",
        "################################Transformacion de datos\r\n",
        "from math import sqrt\r\n",
        "a=horizontal1 / sqrt(vertical1**2+horizontal1**2)\r\n",
        "b=horizontal2 / sqrt(vertical2**2+horizontal2**2) * -1\r\n",
        "c=0\r\n",
        "d=vertical1 / sqrt(vertical1**2+horizontal1**2)\r\n",
        "e=vertical2 / sqrt(vertical2**2+horizontal2**2)\r\n",
        "f=masa* 9.8\r\n"
      ],
      "execution_count": null,
      "outputs": []
    },
    {
      "cell_type": "code",
      "metadata": {
        "id": "S7foLIhiChFf"
      },
      "source": [
        "print (a)\r\n",
        "print (b)\r\n",
        "print (d)\r\n",
        "print (e)"
      ],
      "execution_count": null,
      "outputs": []
    },
    {
      "cell_type": "code",
      "metadata": {
        "id": "n3d5d7mABkL_"
      },
      "source": [
        "#Paso 2: Codigo para resolver ecuaciones de primer grado\r\n",
        "#con 2 ecuaciones con esta notación\r\n",
        "#ax+by=c\r\n",
        "#dx+ey=f\r\n",
        "a = float(a)\r\n",
        "b = float(b)\r\n",
        "c = float(c)\r\n",
        "d = float(d)\r\n",
        "e = float(e)\r\n",
        "f = float(f)\r\n",
        "\r\n",
        "import numpy as np\r\n",
        "Amat = np.matrix([[a, b],[d, e]])\r\n",
        "Bmat = np.matrix([[c],[f]])\r\n",
        "x = (Amat**-1)*Bmat\r\n",
        "\r\n",
        "\r\n"
      ],
      "execution_count": null,
      "outputs": []
    },
    {
      "cell_type": "code",
      "metadata": {
        "colab": {
          "base_uri": "https://localhost:8080/"
        },
        "id": "_pYWcEqTJcmV",
        "outputId": "96402ddd-6f47-4247-cd30-404bb4fffbb9"
      },
      "source": [
        "#Sacamos resultados para X, Y\r\n",
        "print (\"La solucion al sistema es T1= %.2f e T2= %.2f\" % (x[0], x[1]))\r\n"
      ],
      "execution_count": null,
      "outputs": [
        {
          "output_type": "stream",
          "text": [
            "La solucion al sistema es T1= 1.18 e T2= 1.26\n"
          ],
          "name": "stdout"
        }
      ]
    },
    {
      "cell_type": "code",
      "metadata": {
        "id": "uZGLyRyEGETt"
      },
      "source": [
        "#Metodo alternativo\r\n",
        "det = a * e - b * d\r\n",
        "\r\n",
        "if det != 0 :\r\n",
        "    x = (e * c - b * f) / det\r\n",
        "    y = (a * f - d * c) / det\r\n",
        "\r\n",
        "    print (\"La solucion al sistema es x= %d e y= %d\" % (x, y))\r\n",
        "\r\n",
        "else :\r\n",
        "    m = d / a\r\n",
        "\r\n",
        "    if m * c == f :\r\n",
        "        print (\"El sistema tiene infinitas soluciones\")\r\n",
        "    else:\r\n",
        "        print (\"El sistema no tiene soluciones\")\r\n"
      ],
      "execution_count": null,
      "outputs": []
    }
  ]
}