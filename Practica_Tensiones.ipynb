{
  "nbformat": 4,
  "nbformat_minor": 0,
  "metadata": {
    "colab": {
      "name": "Ecuacion_primer_grado.ipynb",
      "provenance": [],
      "collapsed_sections": [],
      "authorship_tag": "ABX9TyO2xWCRrtBGuN1SiJ8M6/Xl",
      "include_colab_link": true
    },
    "kernelspec": {
      "name": "python3",
      "display_name": "Python 3"
    }
  },
  "cells": [
    {
      "cell_type": "markdown",
      "metadata": {
        "id": "view-in-github",
        "colab_type": "text"
      },
      "source": [
        "<a href=\"https://colab.research.google.com/github/secun/JupyterNotebooks/blob/main/Practica_Tensiones.ipynb\" target=\"_parent\"><img src=\"https://colab.research.google.com/assets/colab-badge.svg\" alt=\"Open In Colab\"/></a>"
      ]
    },
    {
      "cell_type": "markdown",
      "metadata": {
        "id": "1xoKGkconrz-"
      },
      "source": [
        "El siguiente código resuelve cálculos matemáticos de una práctica de Fisica para alumnso de 4º ESO"
      ]
    },
    {
      "cell_type": "code",
      "metadata": {
        "id": "lJ8osSDOGekF"
      },
      "source": [
        "\n",
        "#Código para práctica de laboratorio de Física (4 ESO) . \n",
        "#Medida de tensiones con 2 dinamómetros y con varias masas \n",
        "\n",
        "#Paso 1:Transformación de datos de laboratorio (teniones) a coeficientes de\n",
        "#ecuacion de segundo grado \n",
        "################################Datos lab (tomados de izquierda a derecha)\n",
        "#Datos en cm (si bien sería igual)\n",
        "horizontal1= 19.5\n",
        "vertical1=0.7\n",
        "horizontal2=21 \n",
        "vertical2=8\n",
        "masa= 50/1000 #dato en g que se transforma en Kg\n",
        "################################Transformacion de datos\n",
        "from math import sqrt\n",
        "a=horizontal1 / sqrt(vertical1**2+horizontal1**2)\n",
        "b=horizontal2 / sqrt(vertical2**2+horizontal2**2) * -1\n",
        "c=0\n",
        "d=vertical1 / sqrt(vertical1**2+horizontal1**2)\n",
        "e=vertical2 / sqrt(vertical2**2+horizontal2**2)\n",
        "f=masa* 9.8\n"
      ],
      "execution_count": null,
      "outputs": []
    },
    {
      "cell_type": "code",
      "metadata": {
        "id": "S7foLIhiChFf"
      },
      "source": [
        "print (a)\n",
        "print (b)\n",
        "print (d)\n",
        "print (e)"
      ],
      "execution_count": null,
      "outputs": []
    },
    {
      "cell_type": "code",
      "metadata": {
        "id": "n3d5d7mABkL_"
      },
      "source": [
        "#Paso 2: Codigo para resolver ecuaciones de primer grado\n",
        "#con 2 ecuaciones con esta notación\n",
        "#ax+by=c\n",
        "#dx+ey=f\n",
        "a = float(a)\n",
        "b = float(b)\n",
        "c = float(c)\n",
        "d = float(d)\n",
        "e = float(e)\n",
        "f = float(f)\n",
        "\n",
        "import numpy as np\n",
        "Amat = np.matrix([[a, b],[d, e]])\n",
        "Bmat = np.matrix([[c],[f]])\n",
        "x = (Amat**-1)*Bmat\n",
        "\n",
        "\n"
      ],
      "execution_count": null,
      "outputs": []
    },
    {
      "cell_type": "code",
      "metadata": {
        "colab": {
          "base_uri": "https://localhost:8080/"
        },
        "id": "_pYWcEqTJcmV",
        "outputId": "96402ddd-6f47-4247-cd30-404bb4fffbb9"
      },
      "source": [
        "#Sacamos resultados para X, Y\n",
        "print (\"La solucion al sistema es T1= %.2f e T2= %.2f\" % (x[0], x[1]))\n"
      ],
      "execution_count": null,
      "outputs": [
        {
          "output_type": "stream",
          "text": [
            "La solucion al sistema es T1= 1.18 e T2= 1.26\n"
          ],
          "name": "stdout"
        }
      ]
    },
    {
      "cell_type": "markdown",
      "metadata": {
        "id": "NWRwehA8nnih"
      },
      "source": [
        "A continuacion se muestra una solución alternativa"
      ]
    },
    {
      "cell_type": "code",
      "metadata": {
        "id": "uZGLyRyEGETt"
      },
      "source": [
        "#Metodo alternativo\n",
        "det = a * e - b * d\n",
        "\n",
        "if det != 0 :\n",
        "    x = (e * c - b * f) / det\n",
        "    y = (a * f - d * c) / det\n",
        "\n",
        "    print (\"La solucion al sistema es x= %d e y= %d\" % (x, y))\n",
        "\n",
        "else :\n",
        "    m = d / a\n",
        "\n",
        "    if m * c == f :\n",
        "        print (\"El sistema tiene infinitas soluciones\")\n",
        "    else:\n",
        "        print (\"El sistema no tiene soluciones\")\n"
      ],
      "execution_count": null,
      "outputs": []
    }
  ]
}