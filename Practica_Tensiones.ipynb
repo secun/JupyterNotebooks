{
  "nbformat": 4,
  "nbformat_minor": 0,
  "metadata": {
    "colab": {
      "name": "Ecuacion_primer_grado.ipynb",
      "provenance": [],
      "authorship_tag": "ABX9TyPwWRrvI6KHcekii0ZMOdo+",
      "include_colab_link": true
    },
    "kernelspec": {
      "name": "python3",
      "display_name": "Python 3"
    }
  },
  "cells": [
    {
      "cell_type": "markdown",
      "metadata": {
        "id": "view-in-github",
        "colab_type": "text"
      },
      "source": [
        "<a href=\"https://colab.research.google.com/github/secun/JupyterNotebooks/blob/main/Practica_Tensiones.ipynb\" target=\"_parent\"><img src=\"https://colab.research.google.com/assets/colab-badge.svg\" alt=\"Open In Colab\"/></a>"
      ]
    },
    {
      "cell_type": "code",
      "metadata": {
        "id": "lJ8osSDOGekF"
      },
      "source": [
        "\r\n",
        "#Código para práctica de laboratorio de Física (4 ESO) . \r\n",
        "#Medida de tensiones con 2 dinamómetros y con varias masas \r\n",
        "\r\n",
        "\r\n",
        "#Paso 1:Transformación de datos de laboratorio (teniones) a coeficientes de\r\n",
        "# ecuacion de segundo grado \r\n",
        "\r\n",
        "\r\n",
        "#Paso 2: Codigo para resolver ecuaciones de primer grado\r\n",
        "#con 2 ecuaciones\r\n",
        "#con esta notación\r\n",
        "#ax+by=c\r\n",
        "#dx+ey=f\r\n",
        "\r\n",
        "a=1\r\n",
        "b=1\r\n",
        "c=120\r\n",
        "d=1\r\n",
        "e=-1\r\n",
        "f=4\r\n",
        "\r\n",
        "a = float(a)\r\n",
        "b = float(b)\r\n",
        "c = float(c)\r\n",
        "d = float(d)\r\n",
        "e = float(e)\r\n",
        "f = float(f)\r\n",
        "\r\n",
        "\r\n",
        "import numpy as np\r\n",
        "A = np.matrix([[a, b],[d, e]])\r\n",
        "b = np.matrix([[c],[f]])\r\n",
        "x = (A**-1)*b\r\n",
        "\r\n",
        "\r\n"
      ],
      "execution_count": null,
      "outputs": []
    },
    {
      "cell_type": "code",
      "metadata": {
        "colab": {
          "base_uri": "https://localhost:8080/"
        },
        "id": "_pYWcEqTJcmV",
        "outputId": "4c11150c-9ccb-4c91-d545-875165141d2e"
      },
      "source": [
        "#Sacamos resultados para X, Y\r\n",
        "print (\"La solucion al sistema es x= %d e y= %d\" % (x[0], x[1]))\r\n"
      ],
      "execution_count": null,
      "outputs": [
        {
          "output_type": "stream",
          "text": [
            "La solucion al sistema es x= 62 e y= 58\n"
          ],
          "name": "stdout"
        }
      ]
    },
    {
      "cell_type": "code",
      "metadata": {
        "id": "uZGLyRyEGETt"
      },
      "source": [
        "#Metodo alternativo\r\n",
        "det = a * e - b * d\r\n",
        "\r\n",
        "if det != 0 :\r\n",
        "    x = (e * c - b * f) / det\r\n",
        "    y = (a * f - d * c) / det\r\n",
        "\r\n",
        "    print (\"La solucion al sistema es x= %d e y= %d\" % (x, y))\r\n",
        "\r\n",
        "else :\r\n",
        "    m = d / a\r\n",
        "\r\n",
        "    if m * c == f :\r\n",
        "        print (\"El sistema tiene infinitas soluciones\")\r\n",
        "    else:\r\n",
        "        print (\"El sistema no tiene soluciones\")\r\n"
      ],
      "execution_count": null,
      "outputs": []
    }
  ]
}