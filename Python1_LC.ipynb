{
  "nbformat": 4,
  "nbformat_minor": 0,
  "metadata": {
    "kernelspec": {
      "display_name": "Python 3",
      "language": "python",
      "name": "python3"
    },
    "language_info": {
      "codemirror_mode": {
        "name": "ipython",
        "version": 3
      },
      "file_extension": ".py",
      "mimetype": "text/x-python",
      "name": "python",
      "nbconvert_exporter": "python",
      "pygments_lexer": "ipython3",
      "version": "3.7.4"
    },
    "colab": {
      "name": "Python1_LC.ipynb",
      "provenance": []
    }
  },
  "cells": [
    {
      "cell_type": "markdown",
      "metadata": {
        "id": "CBRHfH56UzK7"
      },
      "source": [
        "## Empezando con Python\n",
        "\n",
        "Vamos a empezar contando varias caracteríaticas que pueden definir al Python.\n",
        "1. Es un lenguaje **interpretado**, no compilado.\n",
        "2. Es un lenguaje de __alto nivel__.\n",
        "3. Python por los _Monty Python_ no por la serpiente.\n",
        "\n",
        "Python tiene dos modos diferentes de trabajar: modo interactivo y modo estándar. El modo interactivo te permite hacer pruebas de tu código linea a linea o expresión tras expresión. Esta modo es útil si estamos probando comandos, ejemplos, etc.. Por el contrario, el modo estándar es ideal para correr los programas del principio al final.\n",
        "\n",
        "Aquí vamos a trabajar en modo interactivo. Vamos a hacer el primer programa. Hola Mundo"
      ]
    },
    {
      "cell_type": "code",
      "metadata": {
        "id": "mY6cbZQhUzLJ",
        "outputId": "89afaac6-3ad2-4570-e6f7-9a35e6743108",
        "colab": {
          "base_uri": "https://localhost:8080/"
        }
      },
      "source": [
        "print(\"Hola, Mundo\")"
      ],
      "execution_count": 4,
      "outputs": [
        {
          "output_type": "stream",
          "text": [
            "Hola, Mundo\n"
          ],
          "name": "stdout"
        }
      ]
    },
    {
      "cell_type": "markdown",
      "metadata": {
        "id": "yK8SMs2DUzLN"
      },
      "source": [
        "### Todos son objetos.\n",
        "\n",
        "En Python todos los datos de un programa son objetos. Y tenemos dos tipos de objetos: $\\textbf{mutables}$ e $\\textbf{inmutables}$\n",
        "\n",
        "1. Mutables son aquellos que su valor puede cambiar en el curso de la ejecución.\n",
        "2. Inmutables cuyo valor no puede cambiar. \n"
      ]
    },
    {
      "cell_type": "markdown",
      "metadata": {
        "id": "rOArAF1HUzLO"
      },
      "source": [
        "Cada objeto tiene tres características: type, value, identity. \n",
        "\n",
        "Vamos a jugar con el type de cada objeto. "
      ]
    },
    {
      "cell_type": "code",
      "metadata": {
        "id": "mktbQhkrUzLP",
        "outputId": "90faa531-31a1-4ba7-b0d1-2802110a2d84",
        "colab": {
          "base_uri": "https://localhost:8080/",
          "height": 35
        }
      },
      "source": [
        "name = \"javier\"\n",
        "name # value"
      ],
      "execution_count": 6,
      "outputs": [
        {
          "output_type": "execute_result",
          "data": {
            "application/vnd.google.colaboratory.intrinsic+json": {
              "type": "string"
            },
            "text/plain": [
              "'javier'"
            ]
          },
          "metadata": {
            "tags": []
          },
          "execution_count": 6
        }
      ]
    },
    {
      "cell_type": "code",
      "metadata": {
        "id": "qupS2fteUzLQ",
        "outputId": "93af4209-1db2-4b30-d425-f8239c3e71d5",
        "colab": {
          "base_uri": "https://localhost:8080/"
        }
      },
      "source": [
        "# Nos dice que tipo de objeto tenemos. \n",
        "#En este caso es un string. \n",
        "\n",
        "type(name) #type"
      ],
      "execution_count": 7,
      "outputs": [
        {
          "output_type": "execute_result",
          "data": {
            "text/plain": [
              "str"
            ]
          },
          "metadata": {
            "tags": []
          },
          "execution_count": 7
        }
      ]
    },
    {
      "cell_type": "code",
      "metadata": {
        "id": "g51hB2gZUzLR",
        "outputId": "9b69a7b2-3be0-4dc6-9845-c394dcf9bd26",
        "colab": {
          "base_uri": "https://localhost:8080/"
        }
      },
      "source": [
        "id(name) #identity"
      ],
      "execution_count": 9,
      "outputs": [
        {
          "output_type": "execute_result",
          "data": {
            "text/plain": [
              "139911243342600"
            ]
          },
          "metadata": {
            "tags": []
          },
          "execution_count": 9
        }
      ]
    },
    {
      "cell_type": "code",
      "metadata": {
        "id": "stexOtCxUzLS",
        "outputId": "09228ed6-b261-4d51-d665-067e84e014b4",
        "colab": {
          "base_uri": "https://localhost:8080/"
        }
      },
      "source": [
        "# Resulta que cada tipo tienen datos o funciones asociados\n",
        "# Estos se conocen como atributos. \n",
        "dir(name)"
      ],
      "execution_count": 10,
      "outputs": [
        {
          "output_type": "execute_result",
          "data": {
            "text/plain": [
              "['__add__',\n",
              " '__class__',\n",
              " '__contains__',\n",
              " '__delattr__',\n",
              " '__dir__',\n",
              " '__doc__',\n",
              " '__eq__',\n",
              " '__format__',\n",
              " '__ge__',\n",
              " '__getattribute__',\n",
              " '__getitem__',\n",
              " '__getnewargs__',\n",
              " '__gt__',\n",
              " '__hash__',\n",
              " '__init__',\n",
              " '__init_subclass__',\n",
              " '__iter__',\n",
              " '__le__',\n",
              " '__len__',\n",
              " '__lt__',\n",
              " '__mod__',\n",
              " '__mul__',\n",
              " '__ne__',\n",
              " '__new__',\n",
              " '__reduce__',\n",
              " '__reduce_ex__',\n",
              " '__repr__',\n",
              " '__rmod__',\n",
              " '__rmul__',\n",
              " '__setattr__',\n",
              " '__sizeof__',\n",
              " '__str__',\n",
              " '__subclasshook__',\n",
              " 'capitalize',\n",
              " 'casefold',\n",
              " 'center',\n",
              " 'count',\n",
              " 'encode',\n",
              " 'endswith',\n",
              " 'expandtabs',\n",
              " 'find',\n",
              " 'format',\n",
              " 'format_map',\n",
              " 'index',\n",
              " 'isalnum',\n",
              " 'isalpha',\n",
              " 'isdecimal',\n",
              " 'isdigit',\n",
              " 'isidentifier',\n",
              " 'islower',\n",
              " 'isnumeric',\n",
              " 'isprintable',\n",
              " 'isspace',\n",
              " 'istitle',\n",
              " 'isupper',\n",
              " 'join',\n",
              " 'ljust',\n",
              " 'lower',\n",
              " 'lstrip',\n",
              " 'maketrans',\n",
              " 'partition',\n",
              " 'replace',\n",
              " 'rfind',\n",
              " 'rindex',\n",
              " 'rjust',\n",
              " 'rpartition',\n",
              " 'rsplit',\n",
              " 'rstrip',\n",
              " 'split',\n",
              " 'splitlines',\n",
              " 'startswith',\n",
              " 'strip',\n",
              " 'swapcase',\n",
              " 'title',\n",
              " 'translate',\n",
              " 'upper',\n",
              " 'zfill']"
            ]
          },
          "metadata": {
            "tags": []
          },
          "execution_count": 10
        }
      ]
    },
    {
      "cell_type": "code",
      "metadata": {
        "id": "8TN_xJtlUzLS",
        "outputId": "38468db4-0d7a-4052-f1db-958391dd82f4",
        "colab": {
          "base_uri": "https://localhost:8080/"
        }
      },
      "source": [
        "#Juguemos con algunos atributos\n",
        "print(name.upper())\n",
        "print(name.title())\n",
        "print(name)\n"
      ],
      "execution_count": 16,
      "outputs": [
        {
          "output_type": "stream",
          "text": [
            "JAVIER\n",
            "Javier\n",
            "javier\n"
          ],
          "name": "stdout"
        }
      ]
    },
    {
      "cell_type": "code",
      "metadata": {
        "id": "iq8oq2SfUzLT"
      },
      "source": [
        "import numpy as np"
      ],
      "execution_count": 17,
      "outputs": []
    },
    {
      "cell_type": "code",
      "metadata": {
        "id": "7Ih3vqrcaHp8",
        "outputId": "7d22a0ca-4317-4969-cc11-ab0feca83bc2",
        "colab": {
          "base_uri": "https://localhost:8080/"
        }
      },
      "source": [
        "#Veamos los metodos de la librería\r\n",
        "dir(np)"
      ],
      "execution_count": 18,
      "outputs": [
        {
          "output_type": "execute_result",
          "data": {
            "text/plain": [
              "['ALLOW_THREADS',\n",
              " 'AxisError',\n",
              " 'BUFSIZE',\n",
              " 'CLIP',\n",
              " 'ComplexWarning',\n",
              " 'DataSource',\n",
              " 'ERR_CALL',\n",
              " 'ERR_DEFAULT',\n",
              " 'ERR_IGNORE',\n",
              " 'ERR_LOG',\n",
              " 'ERR_PRINT',\n",
              " 'ERR_RAISE',\n",
              " 'ERR_WARN',\n",
              " 'FLOATING_POINT_SUPPORT',\n",
              " 'FPE_DIVIDEBYZERO',\n",
              " 'FPE_INVALID',\n",
              " 'FPE_OVERFLOW',\n",
              " 'FPE_UNDERFLOW',\n",
              " 'False_',\n",
              " 'Inf',\n",
              " 'Infinity',\n",
              " 'MAXDIMS',\n",
              " 'MAY_SHARE_BOUNDS',\n",
              " 'MAY_SHARE_EXACT',\n",
              " 'MachAr',\n",
              " 'ModuleDeprecationWarning',\n",
              " 'NAN',\n",
              " 'NINF',\n",
              " 'NZERO',\n",
              " 'NaN',\n",
              " 'PINF',\n",
              " 'PZERO',\n",
              " 'RAISE',\n",
              " 'RankWarning',\n",
              " 'SHIFT_DIVIDEBYZERO',\n",
              " 'SHIFT_INVALID',\n",
              " 'SHIFT_OVERFLOW',\n",
              " 'SHIFT_UNDERFLOW',\n",
              " 'ScalarType',\n",
              " 'Tester',\n",
              " 'TooHardError',\n",
              " 'True_',\n",
              " 'UFUNC_BUFSIZE_DEFAULT',\n",
              " 'UFUNC_PYVALS_NAME',\n",
              " 'VisibleDeprecationWarning',\n",
              " 'WRAP',\n",
              " '_NoValue',\n",
              " '_UFUNC_API',\n",
              " '__NUMPY_SETUP__',\n",
              " '__all__',\n",
              " '__builtins__',\n",
              " '__cached__',\n",
              " '__config__',\n",
              " '__doc__',\n",
              " '__file__',\n",
              " '__git_revision__',\n",
              " '__loader__',\n",
              " '__name__',\n",
              " '__package__',\n",
              " '__path__',\n",
              " '__spec__',\n",
              " '__version__',\n",
              " '_add_newdoc_ufunc',\n",
              " '_distributor_init',\n",
              " '_globals',\n",
              " '_mat',\n",
              " '_pytesttester',\n",
              " 'abs',\n",
              " 'absolute',\n",
              " 'add',\n",
              " 'add_docstring',\n",
              " 'add_newdoc',\n",
              " 'add_newdoc_ufunc',\n",
              " 'alen',\n",
              " 'all',\n",
              " 'allclose',\n",
              " 'alltrue',\n",
              " 'amax',\n",
              " 'amin',\n",
              " 'angle',\n",
              " 'any',\n",
              " 'append',\n",
              " 'apply_along_axis',\n",
              " 'apply_over_axes',\n",
              " 'arange',\n",
              " 'arccos',\n",
              " 'arccosh',\n",
              " 'arcsin',\n",
              " 'arcsinh',\n",
              " 'arctan',\n",
              " 'arctan2',\n",
              " 'arctanh',\n",
              " 'argmax',\n",
              " 'argmin',\n",
              " 'argpartition',\n",
              " 'argsort',\n",
              " 'argwhere',\n",
              " 'around',\n",
              " 'array',\n",
              " 'array2string',\n",
              " 'array_equal',\n",
              " 'array_equiv',\n",
              " 'array_repr',\n",
              " 'array_split',\n",
              " 'array_str',\n",
              " 'asanyarray',\n",
              " 'asarray',\n",
              " 'asarray_chkfinite',\n",
              " 'ascontiguousarray',\n",
              " 'asfarray',\n",
              " 'asfortranarray',\n",
              " 'asmatrix',\n",
              " 'asscalar',\n",
              " 'atleast_1d',\n",
              " 'atleast_2d',\n",
              " 'atleast_3d',\n",
              " 'average',\n",
              " 'bartlett',\n",
              " 'base_repr',\n",
              " 'binary_repr',\n",
              " 'bincount',\n",
              " 'bitwise_and',\n",
              " 'bitwise_not',\n",
              " 'bitwise_or',\n",
              " 'bitwise_xor',\n",
              " 'blackman',\n",
              " 'block',\n",
              " 'bmat',\n",
              " 'bool',\n",
              " 'bool8',\n",
              " 'bool_',\n",
              " 'broadcast',\n",
              " 'broadcast_arrays',\n",
              " 'broadcast_to',\n",
              " 'busday_count',\n",
              " 'busday_offset',\n",
              " 'busdaycalendar',\n",
              " 'byte',\n",
              " 'byte_bounds',\n",
              " 'bytes0',\n",
              " 'bytes_',\n",
              " 'c_',\n",
              " 'can_cast',\n",
              " 'cast',\n",
              " 'cbrt',\n",
              " 'cdouble',\n",
              " 'ceil',\n",
              " 'cfloat',\n",
              " 'char',\n",
              " 'character',\n",
              " 'chararray',\n",
              " 'choose',\n",
              " 'clip',\n",
              " 'clongdouble',\n",
              " 'clongfloat',\n",
              " 'column_stack',\n",
              " 'common_type',\n",
              " 'compare_chararrays',\n",
              " 'compat',\n",
              " 'complex',\n",
              " 'complex128',\n",
              " 'complex256',\n",
              " 'complex64',\n",
              " 'complex_',\n",
              " 'complexfloating',\n",
              " 'compress',\n",
              " 'concatenate',\n",
              " 'conj',\n",
              " 'conjugate',\n",
              " 'convolve',\n",
              " 'copy',\n",
              " 'copysign',\n",
              " 'copyto',\n",
              " 'core',\n",
              " 'corrcoef',\n",
              " 'correlate',\n",
              " 'cos',\n",
              " 'cosh',\n",
              " 'count_nonzero',\n",
              " 'cov',\n",
              " 'cross',\n",
              " 'csingle',\n",
              " 'ctypeslib',\n",
              " 'cumprod',\n",
              " 'cumproduct',\n",
              " 'cumsum',\n",
              " 'datetime64',\n",
              " 'datetime_as_string',\n",
              " 'datetime_data',\n",
              " 'deg2rad',\n",
              " 'degrees',\n",
              " 'delete',\n",
              " 'deprecate',\n",
              " 'deprecate_with_doc',\n",
              " 'diag',\n",
              " 'diag_indices',\n",
              " 'diag_indices_from',\n",
              " 'diagflat',\n",
              " 'diagonal',\n",
              " 'diff',\n",
              " 'digitize',\n",
              " 'disp',\n",
              " 'divide',\n",
              " 'divmod',\n",
              " 'dot',\n",
              " 'double',\n",
              " 'dsplit',\n",
              " 'dstack',\n",
              " 'dtype',\n",
              " 'e',\n",
              " 'ediff1d',\n",
              " 'einsum',\n",
              " 'einsum_path',\n",
              " 'emath',\n",
              " 'empty',\n",
              " 'empty_like',\n",
              " 'equal',\n",
              " 'errstate',\n",
              " 'euler_gamma',\n",
              " 'exp',\n",
              " 'exp2',\n",
              " 'expand_dims',\n",
              " 'expm1',\n",
              " 'extract',\n",
              " 'eye',\n",
              " 'fabs',\n",
              " 'fastCopyAndTranspose',\n",
              " 'fft',\n",
              " 'fill_diagonal',\n",
              " 'find_common_type',\n",
              " 'finfo',\n",
              " 'fix',\n",
              " 'flatiter',\n",
              " 'flatnonzero',\n",
              " 'flexible',\n",
              " 'flip',\n",
              " 'fliplr',\n",
              " 'flipud',\n",
              " 'float',\n",
              " 'float128',\n",
              " 'float16',\n",
              " 'float32',\n",
              " 'float64',\n",
              " 'float_',\n",
              " 'float_power',\n",
              " 'floating',\n",
              " 'floor',\n",
              " 'floor_divide',\n",
              " 'fmax',\n",
              " 'fmin',\n",
              " 'fmod',\n",
              " 'format_float_positional',\n",
              " 'format_float_scientific',\n",
              " 'format_parser',\n",
              " 'frexp',\n",
              " 'frombuffer',\n",
              " 'fromfile',\n",
              " 'fromfunction',\n",
              " 'fromiter',\n",
              " 'frompyfunc',\n",
              " 'fromregex',\n",
              " 'fromstring',\n",
              " 'full',\n",
              " 'full_like',\n",
              " 'fv',\n",
              " 'gcd',\n",
              " 'generic',\n",
              " 'genfromtxt',\n",
              " 'geomspace',\n",
              " 'get_array_wrap',\n",
              " 'get_include',\n",
              " 'get_printoptions',\n",
              " 'getbufsize',\n",
              " 'geterr',\n",
              " 'geterrcall',\n",
              " 'geterrobj',\n",
              " 'gradient',\n",
              " 'greater',\n",
              " 'greater_equal',\n",
              " 'half',\n",
              " 'hamming',\n",
              " 'hanning',\n",
              " 'heaviside',\n",
              " 'histogram',\n",
              " 'histogram2d',\n",
              " 'histogram_bin_edges',\n",
              " 'histogramdd',\n",
              " 'hsplit',\n",
              " 'hstack',\n",
              " 'hypot',\n",
              " 'i0',\n",
              " 'identity',\n",
              " 'iinfo',\n",
              " 'imag',\n",
              " 'in1d',\n",
              " 'index_exp',\n",
              " 'indices',\n",
              " 'inexact',\n",
              " 'inf',\n",
              " 'info',\n",
              " 'infty',\n",
              " 'inner',\n",
              " 'insert',\n",
              " 'int',\n",
              " 'int0',\n",
              " 'int16',\n",
              " 'int32',\n",
              " 'int64',\n",
              " 'int8',\n",
              " 'int_',\n",
              " 'intc',\n",
              " 'integer',\n",
              " 'interp',\n",
              " 'intersect1d',\n",
              " 'intp',\n",
              " 'invert',\n",
              " 'ipmt',\n",
              " 'irr',\n",
              " 'is_busday',\n",
              " 'isclose',\n",
              " 'iscomplex',\n",
              " 'iscomplexobj',\n",
              " 'isfinite',\n",
              " 'isfortran',\n",
              " 'isin',\n",
              " 'isinf',\n",
              " 'isnan',\n",
              " 'isnat',\n",
              " 'isneginf',\n",
              " 'isposinf',\n",
              " 'isreal',\n",
              " 'isrealobj',\n",
              " 'isscalar',\n",
              " 'issctype',\n",
              " 'issubclass_',\n",
              " 'issubdtype',\n",
              " 'issubsctype',\n",
              " 'iterable',\n",
              " 'ix_',\n",
              " 'kaiser',\n",
              " 'kernel_version',\n",
              " 'kron',\n",
              " 'lcm',\n",
              " 'ldexp',\n",
              " 'left_shift',\n",
              " 'less',\n",
              " 'less_equal',\n",
              " 'lexsort',\n",
              " 'lib',\n",
              " 'linalg',\n",
              " 'linspace',\n",
              " 'little_endian',\n",
              " 'load',\n",
              " 'loads',\n",
              " 'loadtxt',\n",
              " 'log',\n",
              " 'log10',\n",
              " 'log1p',\n",
              " 'log2',\n",
              " 'logaddexp',\n",
              " 'logaddexp2',\n",
              " 'logical_and',\n",
              " 'logical_not',\n",
              " 'logical_or',\n",
              " 'logical_xor',\n",
              " 'logspace',\n",
              " 'long',\n",
              " 'longcomplex',\n",
              " 'longdouble',\n",
              " 'longfloat',\n",
              " 'longlong',\n",
              " 'lookfor',\n",
              " 'ma',\n",
              " 'mafromtxt',\n",
              " 'mask_indices',\n",
              " 'mat',\n",
              " 'math',\n",
              " 'matmul',\n",
              " 'matrix',\n",
              " 'matrixlib',\n",
              " 'max',\n",
              " 'maximum',\n",
              " 'maximum_sctype',\n",
              " 'may_share_memory',\n",
              " 'mean',\n",
              " 'median',\n",
              " 'memmap',\n",
              " 'meshgrid',\n",
              " 'mgrid',\n",
              " 'min',\n",
              " 'min_scalar_type',\n",
              " 'minimum',\n",
              " 'mintypecode',\n",
              " 'mirr',\n",
              " 'mod',\n",
              " 'modf',\n",
              " 'moveaxis',\n",
              " 'msort',\n",
              " 'multiply',\n",
              " 'nan',\n",
              " 'nan_to_num',\n",
              " 'nanargmax',\n",
              " 'nanargmin',\n",
              " 'nancumprod',\n",
              " 'nancumsum',\n",
              " 'nanmax',\n",
              " 'nanmean',\n",
              " 'nanmedian',\n",
              " 'nanmin',\n",
              " 'nanpercentile',\n",
              " 'nanprod',\n",
              " 'nanquantile',\n",
              " 'nanstd',\n",
              " 'nansum',\n",
              " 'nanvar',\n",
              " 'nbytes',\n",
              " 'ndarray',\n",
              " 'ndenumerate',\n",
              " 'ndfromtxt',\n",
              " 'ndim',\n",
              " 'ndindex',\n",
              " 'nditer',\n",
              " 'negative',\n",
              " 'nested_iters',\n",
              " 'newaxis',\n",
              " 'nextafter',\n",
              " 'nonzero',\n",
              " 'not_equal',\n",
              " 'nper',\n",
              " 'npv',\n",
              " 'numarray',\n",
              " 'number',\n",
              " 'obj2sctype',\n",
              " 'object',\n",
              " 'object0',\n",
              " 'object_',\n",
              " 'ogrid',\n",
              " 'oldnumeric',\n",
              " 'ones',\n",
              " 'ones_like',\n",
              " 'os',\n",
              " 'outer',\n",
              " 'packbits',\n",
              " 'pad',\n",
              " 'partition',\n",
              " 'percentile',\n",
              " 'pi',\n",
              " 'piecewise',\n",
              " 'place',\n",
              " 'pmt',\n",
              " 'poly',\n",
              " 'poly1d',\n",
              " 'polyadd',\n",
              " 'polyder',\n",
              " 'polydiv',\n",
              " 'polyfit',\n",
              " 'polyint',\n",
              " 'polymul',\n",
              " 'polynomial',\n",
              " 'polysub',\n",
              " 'polyval',\n",
              " 'positive',\n",
              " 'power',\n",
              " 'ppmt',\n",
              " 'printoptions',\n",
              " 'prod',\n",
              " 'product',\n",
              " 'promote_types',\n",
              " 'ptp',\n",
              " 'put',\n",
              " 'put_along_axis',\n",
              " 'putmask',\n",
              " 'pv',\n",
              " 'quantile',\n",
              " 'r_',\n",
              " 'rad2deg',\n",
              " 'radians',\n",
              " 'random',\n",
              " 'rate',\n",
              " 'ravel',\n",
              " 'ravel_multi_index',\n",
              " 'real',\n",
              " 'real_if_close',\n",
              " 'rec',\n",
              " 'recarray',\n",
              " 'recfromcsv',\n",
              " 'recfromtxt',\n",
              " 'reciprocal',\n",
              " 'record',\n",
              " 'remainder',\n",
              " 'repeat',\n",
              " 'require',\n",
              " 'reshape',\n",
              " 'resize',\n",
              " 'result_type',\n",
              " 'right_shift',\n",
              " 'rint',\n",
              " 'roll',\n",
              " 'rollaxis',\n",
              " 'roots',\n",
              " 'rot90',\n",
              " 'round',\n",
              " 'round_',\n",
              " 'row_stack',\n",
              " 's_',\n",
              " 'safe_eval',\n",
              " 'save',\n",
              " 'savetxt',\n",
              " 'savez',\n",
              " 'savez_compressed',\n",
              " 'sctype2char',\n",
              " 'sctypeDict',\n",
              " 'sctypeNA',\n",
              " 'sctypes',\n",
              " 'searchsorted',\n",
              " 'select',\n",
              " 'set_numeric_ops',\n",
              " 'set_printoptions',\n",
              " 'set_string_function',\n",
              " 'setbufsize',\n",
              " 'setdiff1d',\n",
              " 'seterr',\n",
              " 'seterrcall',\n",
              " 'seterrobj',\n",
              " 'setxor1d',\n",
              " 'shape',\n",
              " 'shares_memory',\n",
              " 'short',\n",
              " 'show_config',\n",
              " 'sign',\n",
              " 'signbit',\n",
              " 'signedinteger',\n",
              " 'sin',\n",
              " 'sinc',\n",
              " 'single',\n",
              " 'singlecomplex',\n",
              " 'sinh',\n",
              " 'size',\n",
              " 'sometrue',\n",
              " 'sort',\n",
              " 'sort_complex',\n",
              " 'source',\n",
              " 'spacing',\n",
              " 'split',\n",
              " 'sqrt',\n",
              " 'square',\n",
              " 'squeeze',\n",
              " 'stack',\n",
              " 'std',\n",
              " 'str',\n",
              " 'str0',\n",
              " 'str_',\n",
              " 'string_',\n",
              " 'subtract',\n",
              " 'sum',\n",
              " 'swapaxes',\n",
              " 'sys',\n",
              " 'take',\n",
              " 'take_along_axis',\n",
              " 'tan',\n",
              " 'tanh',\n",
              " 'tensordot',\n",
              " 'test',\n",
              " 'testing',\n",
              " 'tile',\n",
              " 'timedelta64',\n",
              " 'trace',\n",
              " 'tracemalloc_domain',\n",
              " 'transpose',\n",
              " 'trapz',\n",
              " 'tri',\n",
              " 'tril',\n",
              " 'tril_indices',\n",
              " 'tril_indices_from',\n",
              " 'trim_zeros',\n",
              " 'triu',\n",
              " 'triu_indices',\n",
              " 'triu_indices_from',\n",
              " 'true_divide',\n",
              " 'trunc',\n",
              " 'typeDict',\n",
              " 'typeNA',\n",
              " 'typecodes',\n",
              " 'typename',\n",
              " 'ubyte',\n",
              " 'ufunc',\n",
              " 'uint',\n",
              " 'uint0',\n",
              " 'uint16',\n",
              " 'uint32',\n",
              " 'uint64',\n",
              " 'uint8',\n",
              " 'uintc',\n",
              " 'uintp',\n",
              " 'ulonglong',\n",
              " 'unicode',\n",
              " 'unicode_',\n",
              " 'union1d',\n",
              " 'unique',\n",
              " 'unpackbits',\n",
              " 'unravel_index',\n",
              " 'unsignedinteger',\n",
              " 'unwrap',\n",
              " 'use_hugepage',\n",
              " 'ushort',\n",
              " 'vander',\n",
              " 'var',\n",
              " 'vdot',\n",
              " 'vectorize',\n",
              " 'version',\n",
              " 'void',\n",
              " 'void0',\n",
              " 'vsplit',\n",
              " 'vstack',\n",
              " 'warnings',\n",
              " 'where',\n",
              " 'who',\n",
              " 'zeros',\n",
              " 'zeros_like']"
            ]
          },
          "metadata": {
            "tags": []
          },
          "execution_count": 18
        }
      ]
    },
    {
      "cell_type": "code",
      "metadata": {
        "id": "1O_OoBR0UzLU",
        "outputId": "2ebdf3ea-0cba-40d4-c67c-e8d1578ad28e",
        "colab": {
          "base_uri": "https://localhost:8080/"
        }
      },
      "source": [
        "x=np.array([1,3,5])\n",
        "y=np.array([1,5,9])\n",
        "type(x)"
      ],
      "execution_count": 19,
      "outputs": [
        {
          "output_type": "execute_result",
          "data": {
            "text/plain": [
              "numpy.ndarray"
            ]
          },
          "metadata": {
            "tags": []
          },
          "execution_count": 19
        }
      ]
    },
    {
      "cell_type": "markdown",
      "metadata": {
        "id": "HOYAk2RwUzLU"
      },
      "source": [
        "Los atributos pueden ser de dos tipos: methods y data attributes. \n",
        "\n",
        "Un $\\textbf{data attributes}$ es un valor que está asociado a un objeto específico. Por el contrario, un $\\textbf{method}$ es una función que está asociada al objeto y realiza una operación sobre este objeto."
      ]
    },
    {
      "cell_type": "code",
      "metadata": {
        "id": "r2naUsAVUzLV",
        "outputId": "3342abcf-2745-4264-ebbd-bbe1ac4d92aa",
        "colab": {
          "base_uri": "https://localhost:8080/"
        }
      },
      "source": [
        "# mean() es un método, que se puede \n",
        "# llamar de dos maneras x.mean() o np.mean(x)\n",
        "x.mean()"
      ],
      "execution_count": 20,
      "outputs": [
        {
          "output_type": "execute_result",
          "data": {
            "text/plain": [
              "3.0"
            ]
          },
          "metadata": {
            "tags": []
          },
          "execution_count": 20
        }
      ]
    },
    {
      "cell_type": "code",
      "metadata": {
        "id": "G8n1nwl6UzLW",
        "outputId": "4e5a7f2f-f808-4809-a79b-a993e7f3b7d4",
        "colab": {
          "base_uri": "https://localhost:8080/"
        }
      },
      "source": [
        "np.mean(y)"
      ],
      "execution_count": 21,
      "outputs": [
        {
          "output_type": "execute_result",
          "data": {
            "text/plain": [
              "5.0"
            ]
          },
          "metadata": {
            "tags": []
          },
          "execution_count": 21
        }
      ]
    },
    {
      "cell_type": "code",
      "metadata": {
        "id": "88Tq_b76UzLW",
        "outputId": "f2f670ce-3dd5-4286-9330-16c0d117cde0",
        "colab": {
          "base_uri": "https://localhost:8080/"
        }
      },
      "source": [
        "# En cambio y.shape es un data attributes. \n",
        "# Se ve porque no se necesita poner los paréntesis. \n",
        "y.shape"
      ],
      "execution_count": 23,
      "outputs": [
        {
          "output_type": "execute_result",
          "data": {
            "text/plain": [
              "(3,)"
            ]
          },
          "metadata": {
            "tags": []
          },
          "execution_count": 23
        }
      ]
    },
    {
      "cell_type": "code",
      "metadata": {
        "id": "bOnw-rFvc3TN"
      },
      "source": [
        "np.mean?"
      ],
      "execution_count": 26,
      "outputs": []
    },
    {
      "cell_type": "markdown",
      "metadata": {
        "id": "VZcp7mULUzLX"
      },
      "source": [
        "## Módulos \n",
        "\n",
        "Los módulos de Python son librerías de código que podemos importar con el statment import.\n",
        "\n"
      ]
    },
    {
      "cell_type": "code",
      "metadata": {
        "id": "zxKV2ErHUzLX"
      },
      "source": [
        "import math"
      ],
      "execution_count": null,
      "outputs": []
    },
    {
      "cell_type": "code",
      "metadata": {
        "id": "C0WlIIGMUzLY",
        "outputId": "47c0a0fd-0eec-4aea-ebb4-10947a36b314"
      },
      "source": [
        "math.pi"
      ],
      "execution_count": null,
      "outputs": [
        {
          "output_type": "execute_result",
          "data": {
            "text/plain": [
              "3.141592653589793"
            ]
          },
          "metadata": {
            "tags": []
          },
          "execution_count": 12
        }
      ]
    },
    {
      "cell_type": "code",
      "metadata": {
        "id": "HdAmx1XBUzLY",
        "outputId": "f9a85841-3f40-425f-8d81-2bd658e6852a"
      },
      "source": [
        "math.sqrt(10)"
      ],
      "execution_count": null,
      "outputs": [
        {
          "output_type": "execute_result",
          "data": {
            "text/plain": [
              "3.1622776601683795"
            ]
          },
          "metadata": {
            "tags": []
          },
          "execution_count": 13
        }
      ]
    },
    {
      "cell_type": "code",
      "metadata": {
        "id": "3HxzF96wUzLZ",
        "outputId": "b4b75896-0892-47f1-c8e2-52eacb7e638d"
      },
      "source": [
        "math.sin(math.pi/2)"
      ],
      "execution_count": null,
      "outputs": [
        {
          "output_type": "execute_result",
          "data": {
            "text/plain": [
              "1.0"
            ]
          },
          "metadata": {
            "tags": []
          },
          "execution_count": 14
        }
      ]
    },
    {
      "cell_type": "code",
      "metadata": {
        "id": "QMz4wjtaUzLZ"
      },
      "source": [
        "from math import * \r\n",
        "# No se recomienda por consumo de memoria, ya que importa todo lo que hay en la función\r\n"
      ],
      "execution_count": 28,
      "outputs": []
    },
    {
      "cell_type": "code",
      "metadata": {
        "id": "dzXPkwOjUzLa",
        "outputId": "e6f0b5eb-1473-48b1-89e4-243efab3b3f1",
        "colab": {
          "base_uri": "https://localhost:8080/"
        }
      },
      "source": [
        "print(pi)\n",
        "print(cos(pi))"
      ],
      "execution_count": 30,
      "outputs": [
        {
          "output_type": "stream",
          "text": [
            "3.141592653589793\n",
            "-1.0\n"
          ],
          "name": "stdout"
        }
      ]
    },
    {
      "cell_type": "markdown",
      "metadata": {
        "id": "FThgsKhVUzLa"
      },
      "source": [
        "A veces, no queremos importar un módulo entero, quizás sólo queremos una única función de dicho módulo. Entonces hacemos esto"
      ]
    },
    {
      "cell_type": "code",
      "metadata": {
        "id": "K2oZSAy-UzLb"
      },
      "source": [
        "from math import pi"
      ],
      "execution_count": 31,
      "outputs": []
    },
    {
      "cell_type": "code",
      "metadata": {
        "id": "Osz5z2rpUzLc",
        "outputId": "34fc3277-0184-424f-b70d-8bb5febe9e83",
        "colab": {
          "base_uri": "https://localhost:8080/"
        }
      },
      "source": [
        "pi"
      ],
      "execution_count": 32,
      "outputs": [
        {
          "output_type": "execute_result",
          "data": {
            "text/plain": [
              "3.141592653589793"
            ]
          },
          "metadata": {
            "tags": []
          },
          "execution_count": 32
        }
      ]
    },
    {
      "cell_type": "code",
      "metadata": {
        "id": "4KvS0oa8UzLc"
      },
      "source": [
        "import math\n",
        "import numpy as np"
      ],
      "execution_count": 33,
      "outputs": []
    },
    {
      "cell_type": "code",
      "metadata": {
        "id": "4C0cogd2UzLd",
        "outputId": "e87b94b6-aafb-4509-d3c1-ec77b0fa5861",
        "colab": {
          "base_uri": "https://localhost:8080/"
        }
      },
      "source": [
        "math.sqrt(10)"
      ],
      "execution_count": 34,
      "outputs": [
        {
          "output_type": "execute_result",
          "data": {
            "text/plain": [
              "3.1622776601683795"
            ]
          },
          "metadata": {
            "tags": []
          },
          "execution_count": 34
        }
      ]
    },
    {
      "cell_type": "code",
      "metadata": {
        "id": "HoxbMNYJUzLd",
        "outputId": "33e0843e-c479-41ac-c431-3623c4519ec8",
        "colab": {
          "base_uri": "https://localhost:8080/"
        }
      },
      "source": [
        "np.sqrt(10)"
      ],
      "execution_count": 35,
      "outputs": [
        {
          "output_type": "execute_result",
          "data": {
            "text/plain": [
              "3.1622776601683795"
            ]
          },
          "metadata": {
            "tags": []
          },
          "execution_count": 35
        }
      ]
    },
    {
      "cell_type": "code",
      "metadata": {
        "id": "MGkxmdIUUzLe",
        "outputId": "2181112c-7287-4e7e-ad1b-4c08fc0da85f",
        "colab": {
          "base_uri": "https://localhost:8080/"
        }
      },
      "source": [
        "np.sqrt([2,3,4])"
      ],
      "execution_count": 36,
      "outputs": [
        {
          "output_type": "execute_result",
          "data": {
            "text/plain": [
              "array([1.41421356, 1.73205081, 2.        ])"
            ]
          },
          "metadata": {
            "tags": []
          },
          "execution_count": 36
        }
      ]
    },
    {
      "cell_type": "code",
      "metadata": {
        "id": "okrf1TewUzLe",
        "outputId": "8b6a7765-f710-4ff5-c690-08d5aa05468c",
        "colab": {
          "base_uri": "https://localhost:8080/",
          "height": 164
        }
      },
      "source": [
        "math.sqrt([2,3,4])"
      ],
      "execution_count": 37,
      "outputs": [
        {
          "output_type": "error",
          "ename": "TypeError",
          "evalue": "ignored",
          "traceback": [
            "\u001b[0;31m---------------------------------------------------------------------------\u001b[0m",
            "\u001b[0;31mTypeError\u001b[0m                                 Traceback (most recent call last)",
            "\u001b[0;32m<ipython-input-37-6d0ccf18090e>\u001b[0m in \u001b[0;36m<module>\u001b[0;34m()\u001b[0m\n\u001b[0;32m----> 1\u001b[0;31m \u001b[0mmath\u001b[0m\u001b[0;34m.\u001b[0m\u001b[0msqrt\u001b[0m\u001b[0;34m(\u001b[0m\u001b[0;34m[\u001b[0m\u001b[0;36m2\u001b[0m\u001b[0;34m,\u001b[0m\u001b[0;36m3\u001b[0m\u001b[0;34m,\u001b[0m\u001b[0;36m4\u001b[0m\u001b[0;34m]\u001b[0m\u001b[0;34m)\u001b[0m\u001b[0;34m\u001b[0m\u001b[0;34m\u001b[0m\u001b[0m\n\u001b[0m",
            "\u001b[0;31mTypeError\u001b[0m: must be real number, not list"
          ]
        }
      ]
    },
    {
      "cell_type": "code",
      "metadata": {
        "id": "irW4FVoFUzLf"
      },
      "source": [
        "from scipy.constants import physical_constants as pc"
      ],
      "execution_count": 38,
      "outputs": []
    },
    {
      "cell_type": "code",
      "metadata": {
        "id": "poLFwt0LUzLf",
        "outputId": "547c3ebe-edb1-43ea-96d4-21d772ac29ad",
        "colab": {
          "base_uri": "https://localhost:8080/"
        }
      },
      "source": [
        "pc.keys()\n"
      ],
      "execution_count": 39,
      "outputs": [
        {
          "output_type": "execute_result",
          "data": {
            "text/plain": [
              "dict_keys(['Wien displacement law constant', 'atomic unit of 1st hyperpolarizablity', 'atomic unit of 2nd hyperpolarizablity', 'atomic unit of electric dipole moment', 'atomic unit of electric polarizablity', 'atomic unit of electric quadrupole moment', 'atomic unit of magn. dipole moment', 'atomic unit of magn. flux density', 'deuteron magn. moment', 'deuteron magn. moment to Bohr magneton ratio', 'deuteron magn. moment to nuclear magneton ratio', 'deuteron-electron magn. moment ratio', 'deuteron-proton magn. moment ratio', 'deuteron-neutron magn. moment ratio', 'electron gyromagn. ratio', 'electron gyromagn. ratio over 2 pi', 'electron magn. moment', 'electron magn. moment to Bohr magneton ratio', 'electron magn. moment to nuclear magneton ratio', 'electron magn. moment anomaly', 'electron to shielded proton magn. moment ratio', 'electron to shielded helion magn. moment ratio', 'electron-deuteron magn. moment ratio', 'electron-muon magn. moment ratio', 'electron-neutron magn. moment ratio', 'electron-proton magn. moment ratio', 'magn. constant', 'magn. flux quantum', 'muon magn. moment', 'muon magn. moment to Bohr magneton ratio', 'muon magn. moment to nuclear magneton ratio', 'muon-proton magn. moment ratio', 'neutron gyromagn. ratio', 'neutron gyromagn. ratio over 2 pi', 'neutron magn. moment', 'neutron magn. moment to Bohr magneton ratio', 'neutron magn. moment to nuclear magneton ratio', 'neutron to shielded proton magn. moment ratio', 'neutron-electron magn. moment ratio', 'neutron-proton magn. moment ratio', 'proton gyromagn. ratio', 'proton gyromagn. ratio over 2 pi', 'proton magn. moment', 'proton magn. moment to Bohr magneton ratio', 'proton magn. moment to nuclear magneton ratio', 'proton magn. shielding correction', 'proton-neutron magn. moment ratio', 'shielded helion gyromagn. ratio', 'shielded helion gyromagn. ratio over 2 pi', 'shielded helion magn. moment', 'shielded helion magn. moment to Bohr magneton ratio', 'shielded helion magn. moment to nuclear magneton ratio', 'shielded helion to proton magn. moment ratio', 'shielded helion to shielded proton magn. moment ratio', 'shielded proton magn. moment', 'shielded proton magn. moment to Bohr magneton ratio', 'shielded proton magn. moment to nuclear magneton ratio', '{220} lattice spacing of silicon', 'lattice spacing of silicon', 'alpha particle-electron mass ratio', 'alpha particle mass', 'alpha particle mass energy equivalent', 'alpha particle mass energy equivalent in MeV', 'alpha particle mass in u', 'alpha particle molar mass', 'alpha particle-proton mass ratio', 'Angstrom star', 'atomic mass constant', 'atomic mass constant energy equivalent', 'atomic mass constant energy equivalent in MeV', 'atomic mass unit-electron volt relationship', 'atomic mass unit-hartree relationship', 'atomic mass unit-hertz relationship', 'atomic mass unit-inverse meter relationship', 'atomic mass unit-joule relationship', 'atomic mass unit-kelvin relationship', 'atomic mass unit-kilogram relationship', 'atomic unit of 1st hyperpolarizability', 'atomic unit of 2nd hyperpolarizability', 'atomic unit of action', 'atomic unit of charge', 'atomic unit of charge density', 'atomic unit of current', 'atomic unit of electric dipole mom.', 'atomic unit of electric field', 'atomic unit of electric field gradient', 'atomic unit of electric polarizability', 'atomic unit of electric potential', 'atomic unit of electric quadrupole mom.', 'atomic unit of energy', 'atomic unit of force', 'atomic unit of length', 'atomic unit of mag. dipole mom.', 'atomic unit of mag. flux density', 'atomic unit of magnetizability', 'atomic unit of mass', 'atomic unit of momentum', 'atomic unit of permittivity', 'atomic unit of time', 'atomic unit of velocity', 'Avogadro constant', 'Bohr magneton', 'Bohr magneton in eV/T', 'Bohr magneton in Hz/T', 'Bohr magneton in inverse meters per tesla', 'Bohr magneton in K/T', 'Bohr radius', 'Boltzmann constant', 'Boltzmann constant in eV/K', 'Boltzmann constant in Hz/K', 'Boltzmann constant in inverse meters per kelvin', 'characteristic impedance of vacuum', 'classical electron radius', 'Compton wavelength', 'Compton wavelength over 2 pi', 'conductance quantum', 'conventional value of Josephson constant', 'conventional value of von Klitzing constant', 'Cu x unit', 'deuteron-electron mag. mom. ratio', 'deuteron-electron mass ratio', 'deuteron g factor', 'deuteron mag. mom.', 'deuteron mag. mom. to Bohr magneton ratio', 'deuteron mag. mom. to nuclear magneton ratio', 'deuteron mass', 'deuteron mass energy equivalent', 'deuteron mass energy equivalent in MeV', 'deuteron mass in u', 'deuteron molar mass', 'deuteron-neutron mag. mom. ratio', 'deuteron-proton mag. mom. ratio', 'deuteron-proton mass ratio', 'deuteron rms charge radius', 'electric constant', 'electron charge to mass quotient', 'electron-deuteron mag. mom. ratio', 'electron-deuteron mass ratio', 'electron g factor', 'electron gyromag. ratio', 'electron gyromag. ratio over 2 pi', 'electron mag. mom.', 'electron mag. mom. anomaly', 'electron mag. mom. to Bohr magneton ratio', 'electron mag. mom. to nuclear magneton ratio', 'electron mass', 'electron mass energy equivalent', 'electron mass energy equivalent in MeV', 'electron mass in u', 'electron molar mass', 'electron-muon mag. mom. ratio', 'electron-muon mass ratio', 'electron-neutron mag. mom. ratio', 'electron-neutron mass ratio', 'electron-proton mag. mom. ratio', 'electron-proton mass ratio', 'electron-tau mass ratio', 'electron to alpha particle mass ratio', 'electron to shielded helion mag. mom. ratio', 'electron to shielded proton mag. mom. ratio', 'electron volt', 'electron volt-atomic mass unit relationship', 'electron volt-hartree relationship', 'electron volt-hertz relationship', 'electron volt-inverse meter relationship', 'electron volt-joule relationship', 'electron volt-kelvin relationship', 'electron volt-kilogram relationship', 'elementary charge', 'elementary charge over h', 'Faraday constant', 'Faraday constant for conventional electric current', 'Fermi coupling constant', 'fine-structure constant', 'first radiation constant', 'first radiation constant for spectral radiance', 'hartree-atomic mass unit relationship', 'hartree-electron volt relationship', 'Hartree energy', 'Hartree energy in eV', 'hartree-hertz relationship', 'hartree-inverse meter relationship', 'hartree-joule relationship', 'hartree-kelvin relationship', 'hartree-kilogram relationship', 'helion-electron mass ratio', 'helion mass', 'helion mass energy equivalent', 'helion mass energy equivalent in MeV', 'helion mass in u', 'helion molar mass', 'helion-proton mass ratio', 'hertz-atomic mass unit relationship', 'hertz-electron volt relationship', 'hertz-hartree relationship', 'hertz-inverse meter relationship', 'hertz-joule relationship', 'hertz-kelvin relationship', 'hertz-kilogram relationship', 'inverse fine-structure constant', 'inverse meter-atomic mass unit relationship', 'inverse meter-electron volt relationship', 'inverse meter-hartree relationship', 'inverse meter-hertz relationship', 'inverse meter-joule relationship', 'inverse meter-kelvin relationship', 'inverse meter-kilogram relationship', 'inverse of conductance quantum', 'Josephson constant', 'joule-atomic mass unit relationship', 'joule-electron volt relationship', 'joule-hartree relationship', 'joule-hertz relationship', 'joule-inverse meter relationship', 'joule-kelvin relationship', 'joule-kilogram relationship', 'kelvin-atomic mass unit relationship', 'kelvin-electron volt relationship', 'kelvin-hartree relationship', 'kelvin-hertz relationship', 'kelvin-inverse meter relationship', 'kelvin-joule relationship', 'kelvin-kilogram relationship', 'kilogram-atomic mass unit relationship', 'kilogram-electron volt relationship', 'kilogram-hartree relationship', 'kilogram-hertz relationship', 'kilogram-inverse meter relationship', 'kilogram-joule relationship', 'kilogram-kelvin relationship', 'lattice parameter of silicon', 'Loschmidt constant (273.15 K, 101.325 kPa)', 'mag. constant', 'mag. flux quantum', 'molar gas constant', 'molar mass constant', 'molar mass of carbon-12', 'molar Planck constant', 'molar Planck constant times c', 'molar volume of ideal gas (273.15 K, 100 kPa)', 'molar volume of ideal gas (273.15 K, 101.325 kPa)', 'molar volume of silicon', 'Mo x unit', 'muon Compton wavelength', 'muon Compton wavelength over 2 pi', 'muon-electron mass ratio', 'muon g factor', 'muon mag. mom.', 'muon mag. mom. anomaly', 'muon mag. mom. to Bohr magneton ratio', 'muon mag. mom. to nuclear magneton ratio', 'muon mass', 'muon mass energy equivalent', 'muon mass energy equivalent in MeV', 'muon mass in u', 'muon molar mass', 'muon-neutron mass ratio', 'muon-proton mag. mom. ratio', 'muon-proton mass ratio', 'muon-tau mass ratio', 'natural unit of action', 'natural unit of action in eV s', 'natural unit of energy', 'natural unit of energy in MeV', 'natural unit of length', 'natural unit of mass', 'natural unit of momentum', 'natural unit of momentum in MeV/c', 'natural unit of time', 'natural unit of velocity', 'neutron Compton wavelength', 'neutron Compton wavelength over 2 pi', 'neutron-electron mag. mom. ratio', 'neutron-electron mass ratio', 'neutron g factor', 'neutron gyromag. ratio', 'neutron gyromag. ratio over 2 pi', 'neutron mag. mom.', 'neutron mag. mom. to Bohr magneton ratio', 'neutron mag. mom. to nuclear magneton ratio', 'neutron mass', 'neutron mass energy equivalent', 'neutron mass energy equivalent in MeV', 'neutron mass in u', 'neutron molar mass', 'neutron-muon mass ratio', 'neutron-proton mag. mom. ratio', 'neutron-proton mass ratio', 'neutron-tau mass ratio', 'neutron to shielded proton mag. mom. ratio', 'Newtonian constant of gravitation', 'Newtonian constant of gravitation over h-bar c', 'nuclear magneton', 'nuclear magneton in eV/T', 'nuclear magneton in inverse meters per tesla', 'nuclear magneton in K/T', 'nuclear magneton in MHz/T', 'Planck constant', 'Planck constant in eV s', 'Planck constant over 2 pi', 'Planck constant over 2 pi in eV s', 'Planck constant over 2 pi times c in MeV fm', 'Planck length', 'Planck mass', 'Planck mass energy equivalent in GeV', 'Planck temperature', 'Planck time', 'proton charge to mass quotient', 'proton Compton wavelength', 'proton Compton wavelength over 2 pi', 'proton-electron mass ratio', 'proton g factor', 'proton gyromag. ratio', 'proton gyromag. ratio over 2 pi', 'proton mag. mom.', 'proton mag. mom. to Bohr magneton ratio', 'proton mag. mom. to nuclear magneton ratio', 'proton mag. shielding correction', 'proton mass', 'proton mass energy equivalent', 'proton mass energy equivalent in MeV', 'proton mass in u', 'proton molar mass', 'proton-muon mass ratio', 'proton-neutron mag. mom. ratio', 'proton-neutron mass ratio', 'proton rms charge radius', 'proton-tau mass ratio', 'quantum of circulation', 'quantum of circulation times 2', 'Rydberg constant', 'Rydberg constant times c in Hz', 'Rydberg constant times hc in eV', 'Rydberg constant times hc in J', 'Sackur-Tetrode constant (1 K, 100 kPa)', 'Sackur-Tetrode constant (1 K, 101.325 kPa)', 'second radiation constant', 'shielded helion gyromag. ratio', 'shielded helion gyromag. ratio over 2 pi', 'shielded helion mag. mom.', 'shielded helion mag. mom. to Bohr magneton ratio', 'shielded helion mag. mom. to nuclear magneton ratio', 'shielded helion to proton mag. mom. ratio', 'shielded helion to shielded proton mag. mom. ratio', 'shielded proton gyromag. ratio', 'shielded proton gyromag. ratio over 2 pi', 'shielded proton mag. mom.', 'shielded proton mag. mom. to Bohr magneton ratio', 'shielded proton mag. mom. to nuclear magneton ratio', 'speed of light in vacuum', 'standard acceleration of gravity', 'standard atmosphere', 'Stefan-Boltzmann constant', 'tau Compton wavelength', 'tau Compton wavelength over 2 pi', 'tau-electron mass ratio', 'tau mass', 'tau mass energy equivalent', 'tau mass energy equivalent in MeV', 'tau mass in u', 'tau molar mass', 'tau-muon mass ratio', 'tau-neutron mass ratio', 'tau-proton mass ratio', 'Thomson cross section', 'triton-electron mag. mom. ratio', 'triton-electron mass ratio', 'triton g factor', 'triton mag. mom.', 'triton mag. mom. to Bohr magneton ratio', 'triton mag. mom. to nuclear magneton ratio', 'triton mass', 'triton mass energy equivalent', 'triton mass energy equivalent in MeV', 'triton mass in u', 'triton molar mass', 'triton-neutron mag. mom. ratio', 'triton-proton mag. mom. ratio', 'triton-proton mass ratio', 'unified atomic mass unit', 'von Klitzing constant', 'weak mixing angle', 'Wien frequency displacement law constant', 'Wien wavelength displacement law constant', 'atomic unit of mom.um', 'electron-helion mass ratio', 'electron-triton mass ratio', 'helion g factor', 'helion mag. mom.', 'helion mag. mom. to Bohr magneton ratio', 'helion mag. mom. to nuclear magneton ratio', 'Loschmidt constant (273.15 K, 100 kPa)', 'natural unit of mom.um', 'natural unit of mom.um in MeV/c', 'neutron-proton mass difference', 'neutron-proton mass difference energy equivalent', 'neutron-proton mass difference energy equivalent in MeV', 'neutron-proton mass difference in u', 'standard-state pressure', 'alpha particle relative atomic mass', 'Bohr magneton in inverse meter per tesla', 'Boltzmann constant in inverse meter per kelvin', 'conventional value of ampere-90', 'conventional value of coulomb-90', 'conventional value of farad-90', 'conventional value of henry-90', 'conventional value of ohm-90', 'conventional value of volt-90', 'conventional value of watt-90', 'deuteron relative atomic mass', 'electron gyromag. ratio in MHz/T', 'electron relative atomic mass', 'elementary charge over h-bar', 'helion relative atomic mass', 'helion shielding shift', 'hyperfine transition frequency of Cs-133', 'lattice spacing of ideal Si (220)', 'luminous efficacy', 'neutron gyromag. ratio in MHz/T', 'neutron relative atomic mass', 'nuclear magneton in inverse meter per tesla', 'Planck constant in eV/Hz', 'proton gyromag. ratio in MHz/T', 'proton relative atomic mass', 'reduced Compton wavelength', 'reduced muon Compton wavelength', 'reduced neutron Compton wavelength', 'reduced Planck constant', 'reduced Planck constant in eV s', 'reduced Planck constant times c in MeV fm', 'reduced proton Compton wavelength', 'reduced tau Compton wavelength', 'shielded helion gyromag. ratio in MHz/T', 'shielded proton gyromag. ratio in MHz/T', 'shielding difference of d and p in HD', 'shielding difference of t and p in HT', 'tau energy equivalent', 'triton relative atomic mass', 'triton to proton mag. mom. ratio', 'vacuum electric permittivity', 'vacuum mag. permeability', 'W to Z mass ratio'])"
            ]
          },
          "metadata": {
            "tags": []
          },
          "execution_count": 39
        }
      ]
    },
    {
      "cell_type": "code",
      "metadata": {
        "id": "owOC9ZvRgPNe",
        "outputId": "08e93266-7e64-4ea6-b86d-493632f3f9ea",
        "colab": {
          "base_uri": "https://localhost:8080/"
        }
      },
      "source": [
        "pc['alpha particle mass']"
      ],
      "execution_count": 41,
      "outputs": [
        {
          "output_type": "execute_result",
          "data": {
            "text/plain": [
              "(6.6446573357e-27, 'kg', 2e-36)"
            ]
          },
          "metadata": {
            "tags": []
          },
          "execution_count": 41
        }
      ]
    },
    {
      "cell_type": "code",
      "metadata": {
        "id": "Py7HjmjVUzLg"
      },
      "source": [
        "value,unit,precision = pc['Avogadro constant']"
      ],
      "execution_count": 43,
      "outputs": []
    },
    {
      "cell_type": "code",
      "metadata": {
        "id": "W7xTMb96UzLg",
        "outputId": "27dee36b-b706-425a-cad7-14be1d00c491",
        "colab": {
          "base_uri": "https://localhost:8080/"
        }
      },
      "source": [
        "type(pc['Avogadro constant'])"
      ],
      "execution_count": 42,
      "outputs": [
        {
          "output_type": "execute_result",
          "data": {
            "text/plain": [
              "tuple"
            ]
          },
          "metadata": {
            "tags": []
          },
          "execution_count": 42
        }
      ]
    },
    {
      "cell_type": "code",
      "metadata": {
        "id": "-yjXH4inhqfr",
        "outputId": "bcf63f19-7e8b-44d5-8622-52e1ac0f19aa",
        "colab": {
          "base_uri": "https://localhost:8080/"
        }
      },
      "source": [
        "pc['Compton wavelength over 2 pi']"
      ],
      "execution_count": 46,
      "outputs": [
        {
          "output_type": "execute_result",
          "data": {
            "text/plain": [
              "(3.8615926764e-13, 'm', 1.8e-22)"
            ]
          },
          "metadata": {
            "tags": []
          },
          "execution_count": 46
        }
      ]
    },
    {
      "cell_type": "code",
      "metadata": {
        "id": "MlmxHWudUzLh",
        "outputId": "9827c74c-51c4-4f28-93cb-9c686c039a63"
      },
      "source": [
        "value"
      ],
      "execution_count": null,
      "outputs": [
        {
          "output_type": "execute_result",
          "data": {
            "text/plain": [
              "6.022140857e+23"
            ]
          },
          "metadata": {
            "tags": []
          },
          "execution_count": 42
        }
      ]
    },
    {
      "cell_type": "code",
      "metadata": {
        "id": "fitxbDEEUzLh"
      },
      "source": [
        "from scipy.constants import R, c, k"
      ],
      "execution_count": 44,
      "outputs": []
    },
    {
      "cell_type": "code",
      "metadata": {
        "id": "I9j8nXyLUzLi",
        "outputId": "fb95d375-b62f-4b5f-c845-e20c275d5d8d",
        "colab": {
          "base_uri": "https://localhost:8080/"
        }
      },
      "source": [
        "print(R)"
      ],
      "execution_count": 45,
      "outputs": [
        {
          "output_type": "stream",
          "text": [
            "8.314462618\n"
          ],
          "name": "stdout"
        }
      ]
    },
    {
      "cell_type": "code",
      "metadata": {
        "id": "fnqcE78_UzLi",
        "outputId": "9ed81dfc-864a-4441-f7b6-15295fdeb188"
      },
      "source": [
        "R"
      ],
      "execution_count": null,
      "outputs": [
        {
          "output_type": "execute_result",
          "data": {
            "text/plain": [
              "8.3144598"
            ]
          },
          "metadata": {
            "tags": []
          },
          "execution_count": 45
        }
      ]
    },
    {
      "cell_type": "code",
      "metadata": {
        "id": "gdJc_1bkUzLj",
        "outputId": "994278b5-f83b-43c8-efdf-625d3957b7b0"
      },
      "source": [
        "c"
      ],
      "execution_count": null,
      "outputs": [
        {
          "output_type": "execute_result",
          "data": {
            "text/plain": [
              "299792458.0"
            ]
          },
          "metadata": {
            "tags": []
          },
          "execution_count": 46
        }
      ]
    },
    {
      "cell_type": "code",
      "metadata": {
        "id": "754dlnZ2UzLj",
        "outputId": "f11d9332-2e16-4ac5-b70a-96062e5e685a"
      },
      "source": [
        "k"
      ],
      "execution_count": null,
      "outputs": [
        {
          "output_type": "execute_result",
          "data": {
            "text/plain": [
              "1.38064852e-23"
            ]
          },
          "metadata": {
            "tags": []
          },
          "execution_count": 47
        }
      ]
    },
    {
      "cell_type": "code",
      "metadata": {
        "id": "aFPnQXl-UzLj"
      },
      "source": [
        ""
      ],
      "execution_count": null,
      "outputs": []
    }
  ]
}