{
  "nbformat": 4,
  "nbformat_minor": 0,
  "metadata": {
    "colab": {
      "name": "Python3a_Chempy_Colab.ipynb",
      "provenance": [],
      "collapsed_sections": [],
      "include_colab_link": true
    },
    "kernelspec": {
      "name": "python3",
      "display_name": "Python 3"
    }
  },
  "cells": [
    {
      "cell_type": "markdown",
      "metadata": {
        "id": "view-in-github",
        "colab_type": "text"
      },
      "source": [
        "<a href=\"https://colab.research.google.com/github/secun/JupyterNotebooks/blob/main/Python3a_Chempy_Colab.ipynb\" target=\"_parent\"><img src=\"https://colab.research.google.com/assets/colab-badge.svg\" alt=\"Open In Colab\"/></a>"
      ]
    },
    {
      "cell_type": "markdown",
      "metadata": {
        "id": "qnWhF8VqNZaf"
      },
      "source": [
        "## ChemPy: A package useful for chemistry written in Python\n",
        "creado por Björn Dahlgren1 de la KTH Royal Institute of Technology, Stockholm, Sweden.\n",
        "\n",
        "Dahlgren, (2018). ChemPy: A package useful for chemistry written in Python. Journal of Open Source Software, 3(24), 565, https://doi.org/10.21105/joss.00565\n",
        "\n",
        "Vamos a trabajar con este paquete de química para python, que pensamos que podrá ser muy útil para los estudiantes de bachillerato."
      ]
    },
    {
      "cell_type": "code",
      "metadata": {
        "id": "OTG5aeAUyDkY",
        "colab": {
          "base_uri": "https://localhost:8080/",
          "height": 300
        },
        "outputId": "3bc3d980-9178-4885-aca0-f880f84bad4a"
      },
      "source": [
        "import chempy\n"
      ],
      "execution_count": null,
      "outputs": [
        {
          "output_type": "error",
          "ename": "ModuleNotFoundError",
          "evalue": "ignored",
          "traceback": [
            "\u001b[0;31m---------------------------------------------------------------------------\u001b[0m",
            "\u001b[0;31mModuleNotFoundError\u001b[0m                       Traceback (most recent call last)",
            "\u001b[0;32m<ipython-input-1-1bef35973d2a>\u001b[0m in \u001b[0;36m<module>\u001b[0;34m()\u001b[0m\n\u001b[0;32m----> 1\u001b[0;31m \u001b[0;32mimport\u001b[0m \u001b[0mchempy\u001b[0m\u001b[0;34m\u001b[0m\u001b[0;34m\u001b[0m\u001b[0m\n\u001b[0m",
            "\u001b[0;31mModuleNotFoundError\u001b[0m: No module named 'chempy'",
            "",
            "\u001b[0;31m---------------------------------------------------------------------------\u001b[0;32m\nNOTE: If your import is failing due to a missing package, you can\nmanually install dependencies using either !pip or !apt.\n\nTo view examples of installing some common dependencies, click the\n\"Open Examples\" button below.\n\u001b[0;31m---------------------------------------------------------------------------\u001b[0m\n"
          ]
        }
      ]
    },
    {
      "cell_type": "code",
      "metadata": {
        "id": "eYibpbcSyKUc",
        "colab": {
          "base_uri": "https://localhost:8080/"
        },
        "outputId": "13b7c9a3-f391-40a6-ede5-5d0fcbf55966"
      },
      "source": [
        "!pip install chempy"
      ],
      "execution_count": null,
      "outputs": [
        {
          "output_type": "stream",
          "text": [
            "Collecting chempy\n",
            "\u001b[?25l  Downloading https://files.pythonhosted.org/packages/e3/e1/2951b7ebe18e8ac7ee439a3bc34fc9fd89c45ce1f1979b08dbfe33da4373/chempy-0.7.10.tar.gz (167kB)\n",
            "\r\u001b[K     |██                              | 10kB 16.0MB/s eta 0:00:01\r\u001b[K     |████                            | 20kB 21.7MB/s eta 0:00:01\r\u001b[K     |█████▉                          | 30kB 15.5MB/s eta 0:00:01\r\u001b[K     |███████▉                        | 40kB 14.8MB/s eta 0:00:01\r\u001b[K     |█████████▉                      | 51kB 15.9MB/s eta 0:00:01\r\u001b[K     |███████████▊                    | 61kB 14.3MB/s eta 0:00:01\r\u001b[K     |█████████████▊                  | 71kB 11.9MB/s eta 0:00:01\r\u001b[K     |███████████████▋                | 81kB 13.0MB/s eta 0:00:01\r\u001b[K     |█████████████████▋              | 92kB 11.5MB/s eta 0:00:01\r\u001b[K     |███████████████████▋            | 102kB 11.9MB/s eta 0:00:01\r\u001b[K     |█████████████████████▌          | 112kB 11.9MB/s eta 0:00:01\r\u001b[K     |███████████████████████▌        | 122kB 11.9MB/s eta 0:00:01\r\u001b[K     |█████████████████████████▌      | 133kB 11.9MB/s eta 0:00:01\r\u001b[K     |███████████████████████████▍    | 143kB 11.9MB/s eta 0:00:01\r\u001b[K     |█████████████████████████████▍  | 153kB 11.9MB/s eta 0:00:01\r\u001b[K     |███████████████████████████████▎| 163kB 11.9MB/s eta 0:00:01\r\u001b[K     |████████████████████████████████| 174kB 11.9MB/s \n",
            "\u001b[?25hRequirement already satisfied: numpy>1.11.3 in /usr/local/lib/python3.6/dist-packages (from chempy) (1.19.5)\n",
            "Requirement already satisfied: scipy>=1.0.1 in /usr/local/lib/python3.6/dist-packages (from chempy) (1.4.1)\n",
            "Requirement already satisfied: matplotlib>=2.2.3 in /usr/local/lib/python3.6/dist-packages (from chempy) (3.2.2)\n",
            "Requirement already satisfied: sympy!=1.2,>=1.1.1 in /usr/local/lib/python3.6/dist-packages (from chempy) (1.1.1)\n",
            "Collecting quantities>=0.12.1\n",
            "\u001b[?25l  Downloading https://files.pythonhosted.org/packages/2b/4f/2e8ce7d6c16fb07c43036f8539962322b2bf241e7397e87f318a1aa2f7c4/quantities-0.12.4.tar.gz (83kB)\n",
            "\u001b[K     |████████████████████████████████| 92kB 7.3MB/s \n",
            "\u001b[?25hCollecting pyneqsys>=0.5.5\n",
            "  Downloading https://files.pythonhosted.org/packages/32/2e/e462e8565f1472cc46bebf7a0bca7dc8a452a29dc73c341e4b3f70eaea86/pyneqsys-0.5.7.tar.gz\n",
            "Collecting pyodesys>=0.12.5\n",
            "\u001b[?25l  Downloading https://files.pythonhosted.org/packages/15/a3/7a77ad0fb49e77b0534e711df933aa29d982c6627ac3c110f44aa7597662/pyodesys-0.13.0.tar.gz (107kB)\n",
            "\u001b[K     |████████████████████████████████| 112kB 24.3MB/s \n",
            "\u001b[?25hRequirement already satisfied: pyparsing>=2.0.3 in /usr/local/lib/python3.6/dist-packages (from chempy) (2.4.7)\n",
            "Collecting sym>=0.3.4\n",
            "  Downloading https://files.pythonhosted.org/packages/f5/07/cc80b30b933c7430597fc884305c499e973f2e4c0a3a6208880ced5cefba/sym-0.3.4.tar.gz\n",
            "Requirement already satisfied: jupyter in /usr/local/lib/python3.6/dist-packages (from chempy) (1.0.0)\n",
            "Collecting pulp>=1.6.8\n",
            "\u001b[?25l  Downloading https://files.pythonhosted.org/packages/14/c4/0eec14a0123209c261de6ff154ef3be5cad3fd557c084f468356662e0585/PuLP-2.4-py3-none-any.whl (40.6MB)\n",
            "\u001b[K     |████████████████████████████████| 40.6MB 110kB/s \n",
            "\u001b[?25hCollecting dot2tex>=2.11.3\n",
            "  Downloading https://files.pythonhosted.org/packages/ca/9e/26e11dfd9762eda401181b4cf388de5421d4ccfdddef0ddc1a8c9256e072/dot2tex-2.11.3-py2.py3-none-any.whl\n",
            "Requirement already satisfied: python-dateutil>=2.1 in /usr/local/lib/python3.6/dist-packages (from matplotlib>=2.2.3->chempy) (2.8.1)\n",
            "Requirement already satisfied: cycler>=0.10 in /usr/local/lib/python3.6/dist-packages (from matplotlib>=2.2.3->chempy) (0.10.0)\n",
            "Requirement already satisfied: kiwisolver>=1.0.1 in /usr/local/lib/python3.6/dist-packages (from matplotlib>=2.2.3->chempy) (1.3.1)\n",
            "Requirement already satisfied: mpmath>=0.19 in /usr/local/lib/python3.6/dist-packages (from sympy!=1.2,>=1.1.1->chempy) (1.1.0)\n",
            "Requirement already satisfied: notebook in /usr/local/lib/python3.6/dist-packages (from jupyter->chempy) (5.3.1)\n",
            "Requirement already satisfied: ipywidgets in /usr/local/lib/python3.6/dist-packages (from jupyter->chempy) (7.6.3)\n",
            "Requirement already satisfied: qtconsole in /usr/local/lib/python3.6/dist-packages (from jupyter->chempy) (5.0.1)\n",
            "Requirement already satisfied: nbconvert in /usr/local/lib/python3.6/dist-packages (from jupyter->chempy) (5.6.1)\n",
            "Requirement already satisfied: jupyter-console in /usr/local/lib/python3.6/dist-packages (from jupyter->chempy) (5.2.0)\n",
            "Requirement already satisfied: ipykernel in /usr/local/lib/python3.6/dist-packages (from jupyter->chempy) (4.10.1)\n",
            "Collecting amply>=0.1.2\n",
            "  Downloading https://files.pythonhosted.org/packages/f3/c5/dfa09dd2595a2ab2ab4e6fa7bebef9565812722e1980d04b0edce5032066/amply-0.1.4-py3-none-any.whl\n",
            "Requirement already satisfied: six>=1.5 in /usr/local/lib/python3.6/dist-packages (from python-dateutil>=2.1->matplotlib>=2.2.3->chempy) (1.15.0)\n",
            "Requirement already satisfied: ipython-genutils in /usr/local/lib/python3.6/dist-packages (from notebook->jupyter->chempy) (0.2.0)\n",
            "Requirement already satisfied: jinja2 in /usr/local/lib/python3.6/dist-packages (from notebook->jupyter->chempy) (2.11.2)\n",
            "Requirement already satisfied: traitlets>=4.2.1 in /usr/local/lib/python3.6/dist-packages (from notebook->jupyter->chempy) (4.3.3)\n",
            "Requirement already satisfied: terminado>=0.8.1 in /usr/local/lib/python3.6/dist-packages (from notebook->jupyter->chempy) (0.9.2)\n",
            "Requirement already satisfied: jupyter-client>=5.2.0 in /usr/local/lib/python3.6/dist-packages (from notebook->jupyter->chempy) (5.3.5)\n",
            "Requirement already satisfied: jupyter-core>=4.4.0 in /usr/local/lib/python3.6/dist-packages (from notebook->jupyter->chempy) (4.7.0)\n",
            "Requirement already satisfied: Send2Trash in /usr/local/lib/python3.6/dist-packages (from notebook->jupyter->chempy) (1.5.0)\n",
            "Requirement already satisfied: nbformat in /usr/local/lib/python3.6/dist-packages (from notebook->jupyter->chempy) (5.0.8)\n",
            "Requirement already satisfied: tornado>=4 in /usr/local/lib/python3.6/dist-packages (from notebook->jupyter->chempy) (5.1.1)\n",
            "Requirement already satisfied: widgetsnbextension~=3.5.0 in /usr/local/lib/python3.6/dist-packages (from ipywidgets->jupyter->chempy) (3.5.1)\n",
            "Requirement already satisfied: ipython>=4.0.0; python_version >= \"3.3\" in /usr/local/lib/python3.6/dist-packages (from ipywidgets->jupyter->chempy) (5.5.0)\n",
            "Requirement already satisfied: jupyterlab-widgets>=1.0.0; python_version >= \"3.6\" in /usr/local/lib/python3.6/dist-packages (from ipywidgets->jupyter->chempy) (1.0.0)\n",
            "Requirement already satisfied: pyzmq>=17.1 in /usr/local/lib/python3.6/dist-packages (from qtconsole->jupyter->chempy) (20.0.0)\n",
            "Requirement already satisfied: qtpy in /usr/local/lib/python3.6/dist-packages (from qtconsole->jupyter->chempy) (1.9.0)\n",
            "Requirement already satisfied: pygments in /usr/local/lib/python3.6/dist-packages (from qtconsole->jupyter->chempy) (2.6.1)\n",
            "Requirement already satisfied: defusedxml in /usr/local/lib/python3.6/dist-packages (from nbconvert->jupyter->chempy) (0.6.0)\n",
            "Requirement already satisfied: pandocfilters>=1.4.1 in /usr/local/lib/python3.6/dist-packages (from nbconvert->jupyter->chempy) (1.4.3)\n",
            "Requirement already satisfied: entrypoints>=0.2.2 in /usr/local/lib/python3.6/dist-packages (from nbconvert->jupyter->chempy) (0.3)\n",
            "Requirement already satisfied: mistune<2,>=0.8.1 in /usr/local/lib/python3.6/dist-packages (from nbconvert->jupyter->chempy) (0.8.4)\n",
            "Requirement already satisfied: bleach in /usr/local/lib/python3.6/dist-packages (from nbconvert->jupyter->chempy) (3.2.1)\n",
            "Requirement already satisfied: testpath in /usr/local/lib/python3.6/dist-packages (from nbconvert->jupyter->chempy) (0.4.4)\n",
            "Requirement already satisfied: prompt-toolkit<2.0.0,>=1.0.0 in /usr/local/lib/python3.6/dist-packages (from jupyter-console->jupyter->chempy) (1.0.18)\n",
            "Requirement already satisfied: docutils>=0.3 in /usr/local/lib/python3.6/dist-packages (from amply>=0.1.2->pulp>=1.6.8->chempy) (0.16)\n",
            "Requirement already satisfied: MarkupSafe>=0.23 in /usr/local/lib/python3.6/dist-packages (from jinja2->notebook->jupyter->chempy) (1.1.1)\n",
            "Requirement already satisfied: decorator in /usr/local/lib/python3.6/dist-packages (from traitlets>=4.2.1->notebook->jupyter->chempy) (4.4.2)\n",
            "Requirement already satisfied: ptyprocess; os_name != \"nt\" in /usr/local/lib/python3.6/dist-packages (from terminado>=0.8.1->notebook->jupyter->chempy) (0.7.0)\n",
            "Requirement already satisfied: jsonschema!=2.5.0,>=2.4 in /usr/local/lib/python3.6/dist-packages (from nbformat->notebook->jupyter->chempy) (2.6.0)\n",
            "Requirement already satisfied: setuptools>=18.5 in /usr/local/lib/python3.6/dist-packages (from ipython>=4.0.0; python_version >= \"3.3\"->ipywidgets->jupyter->chempy) (51.3.3)\n",
            "Requirement already satisfied: simplegeneric>0.8 in /usr/local/lib/python3.6/dist-packages (from ipython>=4.0.0; python_version >= \"3.3\"->ipywidgets->jupyter->chempy) (0.8.1)\n",
            "Requirement already satisfied: pickleshare in /usr/local/lib/python3.6/dist-packages (from ipython>=4.0.0; python_version >= \"3.3\"->ipywidgets->jupyter->chempy) (0.7.5)\n",
            "Requirement already satisfied: pexpect; sys_platform != \"win32\" in /usr/local/lib/python3.6/dist-packages (from ipython>=4.0.0; python_version >= \"3.3\"->ipywidgets->jupyter->chempy) (4.8.0)\n",
            "Requirement already satisfied: packaging in /usr/local/lib/python3.6/dist-packages (from bleach->nbconvert->jupyter->chempy) (20.8)\n",
            "Requirement already satisfied: webencodings in /usr/local/lib/python3.6/dist-packages (from bleach->nbconvert->jupyter->chempy) (0.5.1)\n",
            "Requirement already satisfied: wcwidth in /usr/local/lib/python3.6/dist-packages (from prompt-toolkit<2.0.0,>=1.0.0->jupyter-console->jupyter->chempy) (0.2.5)\n",
            "Building wheels for collected packages: chempy, quantities, pyneqsys, pyodesys, sym\n",
            "  Building wheel for chempy (setup.py) ... \u001b[?25l\u001b[?25hdone\n",
            "  Created wheel for chempy: filename=chempy-0.7.10-py2.py3-none-any.whl size=206046 sha256=347fbb213daab079bdd7867df8ad675c8970a8ba08a48f735615ac87bc365895\n",
            "  Stored in directory: /root/.cache/pip/wheels/39/87/ce/040d9ca0df05bcf5c4d305196a2203c6d0175c4a313a37fef3\n",
            "  Building wheel for quantities (setup.py) ... \u001b[?25l\u001b[?25hdone\n",
            "  Created wheel for quantities: filename=quantities-0.12.4-cp36-none-any.whl size=79167 sha256=fd37709276bdb688c761dc99c6ad54294e071477db170812de37fcddbf05c81f\n",
            "  Stored in directory: /root/.cache/pip/wheels/2c/27/a5/62fb2a57d167d7b7164278de7399ba1504321c1d6c3a3802d5\n",
            "  Building wheel for pyneqsys (setup.py) ... \u001b[?25l\u001b[?25hdone\n",
            "  Created wheel for pyneqsys: filename=pyneqsys-0.5.7-py2.py3-none-any.whl size=27266 sha256=5266d99dd4297c69f8af183281f294fe9cf2c15d48b9c7c0c5377b9472d7227f\n",
            "  Stored in directory: /root/.cache/pip/wheels/e8/ae/4e/ab1d94afa5c9e1e7d116b74ece9ee382cbddf36bd1189a3d87\n",
            "  Building wheel for pyodesys (setup.py) ... \u001b[?25l\u001b[?25hdone\n",
            "  Created wheel for pyodesys: filename=pyodesys-0.13.0-py2.py3-none-any.whl size=122489 sha256=58eae72c9ffa40aee59332ac7045295c075e859a79227c18d573a15b68d24e06\n",
            "  Stored in directory: /root/.cache/pip/wheels/6f/31/ce/fab8da2cfba0530ba85e98c909c5b828e86afbbd672ce7f5ba\n",
            "  Building wheel for sym (setup.py) ... \u001b[?25l\u001b[?25hdone\n",
            "  Created wheel for sym: filename=sym-0.3.4-py2.py3-none-any.whl size=20822 sha256=39afce921469b7a541f6ef93bf3c3e17d20580a1054c88f06b86332ec1136f54\n",
            "  Stored in directory: /root/.cache/pip/wheels/54/29/cb/99f5eaa94bbaac78e725b1dadae048b551808ce9a15317482a\n",
            "Successfully built chempy quantities pyneqsys pyodesys sym\n",
            "\u001b[31mERROR: pyneqsys 0.5.7 has requirement sympy>=1.3, but you'll have sympy 1.1.1 which is incompatible.\u001b[0m\n",
            "Installing collected packages: quantities, sym, pyneqsys, pyodesys, amply, pulp, dot2tex, chempy\n",
            "Successfully installed amply-0.1.4 chempy-0.7.10 dot2tex-2.11.3 pulp-2.4 pyneqsys-0.5.7 pyodesys-0.13.0 quantities-0.12.4 sym-0.3.4\n"
          ],
          "name": "stdout"
        }
      ]
    },
    {
      "cell_type": "markdown",
      "metadata": {
        "id": "EsuCioBu7PfW"
      },
      "source": [
        "Parece que tenemos un error con la versión de sympy (python simbólico), así que voy a actualizar sympy, para no tener problemas."
      ]
    },
    {
      "cell_type": "code",
      "metadata": {
        "id": "QvNHShpj2Jal",
        "colab": {
          "base_uri": "https://localhost:8080/"
        },
        "outputId": "f937be65-754e-4234-ff63-2277c2cb0954"
      },
      "source": [
        "!pip install --upgrade sympy"
      ],
      "execution_count": null,
      "outputs": [
        {
          "output_type": "stream",
          "text": [
            "Collecting sympy\n",
            "\u001b[?25l  Downloading https://files.pythonhosted.org/packages/ff/69/b16fc81b939d3efdd0b552f2e3e54f7fa1423d0c320cced2e69e675dde26/sympy-1.7.1-py3-none-any.whl (5.9MB)\n",
            "\u001b[K     |████████████████████████████████| 5.9MB 11.8MB/s \n",
            "\u001b[?25hRequirement already satisfied, skipping upgrade: mpmath>=0.19 in /usr/local/lib/python3.6/dist-packages (from sympy) (1.1.0)\n",
            "Installing collected packages: sympy\n",
            "  Found existing installation: sympy 1.1.1\n",
            "    Uninstalling sympy-1.1.1:\n",
            "      Successfully uninstalled sympy-1.1.1\n",
            "Successfully installed sympy-1.7.1\n"
          ],
          "name": "stdout"
        }
      ]
    },
    {
      "cell_type": "code",
      "metadata": {
        "id": "VD0wfYji3Nx9"
      },
      "source": [
        "import chempy"
      ],
      "execution_count": null,
      "outputs": []
    },
    {
      "cell_type": "markdown",
      "metadata": {
        "id": "_mHfeVJ67jHR"
      },
      "source": [
        "Parece por tanto que ya puedo escribir mis programas para usar chempy."
      ]
    },
    {
      "cell_type": "markdown",
      "metadata": {
        "id": "d8eL95Gg-403"
      },
      "source": [
        "## Síntesis del Amoniaco\n",
        "\n",
        "Como primer ejemplo, vamos a ver una cosa sencilla la síntesis del amoniaco según el proceso Haber-Bosch; gracias a lo cual le sirvió para ser valedor del Premio Nobel de Química en 1918 al científico Fritz Haber.\n",
        "\n",
        "\\begin{equation}\n",
        "N_2 + H_2 \\rightarrow NH_3\n",
        "\\end{equation}\n",
        "\n",
        "La reacción es sencilla y casi de manera inmediata podemos hacer la aproximación para hacer el ajuste estequiométrico. \n",
        "Pero hagámoslo con Python.\n"
      ]
    },
    {
      "cell_type": "code",
      "metadata": {
        "id": "IsD7DS0cBLC1"
      },
      "source": [
        "from pprint import pprint\n",
        "\n",
        "from chempy import balance_stoichiometry"
      ],
      "execution_count": null,
      "outputs": []
    },
    {
      "cell_type": "markdown",
      "metadata": {
        "id": "hVgG3FIb9Czy"
      },
      "source": [
        "Vamos a importar una función que nos va a ayudar a escribir la fórmula como es la función `pprint`, y de la librería de `chempy` vamos a usar `balance_stoichiometry`. "
      ]
    },
    {
      "cell_type": "code",
      "metadata": {
        "id": "-P4NoMRyCVjT"
      },
      "source": [
        "r,p=balance_stoichiometry({'N2','H2'},{'NH3'})"
      ],
      "execution_count": null,
      "outputs": []
    },
    {
      "cell_type": "code",
      "metadata": {
        "colab": {
          "base_uri": "https://localhost:8080/"
        },
        "id": "n1WH94ngCZkD",
        "outputId": "d91a0fdd-d094-47d0-f4b9-d52c454d7cfd"
      },
      "source": [
        "pprint(dict(r))"
      ],
      "execution_count": null,
      "outputs": [
        {
          "output_type": "stream",
          "text": [
            "{'H2': 3, 'N2': 1}\n"
          ],
          "name": "stdout"
        }
      ]
    },
    {
      "cell_type": "code",
      "metadata": {
        "colab": {
          "base_uri": "https://localhost:8080/"
        },
        "id": "JBCR2Za3Ck4r",
        "outputId": "848a0848-c41a-4851-e780-a0a631ed37da"
      },
      "source": [
        "pprint(dict(p))"
      ],
      "execution_count": null,
      "outputs": [
        {
          "output_type": "stream",
          "text": [
            "{'NH3': 2}\n"
          ],
          "name": "stdout"
        }
      ]
    },
    {
      "cell_type": "markdown",
      "metadata": {
        "id": "7ZFA_nTkDVyd"
      },
      "source": [
        "Como vemos la reacción ajustada estequiométricamente es:\n",
        "\n",
        "\\begin{equation}\n",
        "N_2 + 3H_2 \\rightarrow 2NH_3\n",
        "\\end{equation}"
      ]
    },
    {
      "cell_type": "markdown",
      "metadata": {
        "id": "3a_qnE42D9Gs"
      },
      "source": [
        "Pero supongamos que queremos hacer algún cálculo más como por ejemplo saber el peso molecular del amoniaco.\n",
        "Primero definiremos la fórmula, añadiremos su composición con los pesos atómicos, para obtener su peso molecular."
      ]
    },
    {
      "cell_type": "code",
      "metadata": {
        "id": "RUmm7YI1EQoK"
      },
      "source": [
        "from chempy import Substance\n",
        "\n",
        "NH3 = Substance.from_formula('NH3')\n"
      ],
      "execution_count": null,
      "outputs": []
    },
    {
      "cell_type": "code",
      "metadata": {
        "colab": {
          "base_uri": "https://localhost:8080/",
          "height": 37
        },
        "id": "QmProagDEiTt",
        "outputId": "efde7151-c05d-4c2f-bb32-1d8167c6fc58"
      },
      "source": [
        "NH3"
      ],
      "execution_count": null,
      "outputs": [
        {
          "output_type": "execute_result",
          "data": {
            "text/html": [
              "NH<sub>3</sub>"
            ],
            "text/plain": [
              "<Substance(name=NH3, ...)>"
            ]
          },
          "metadata": {
            "tags": []
          },
          "execution_count": 14
        }
      ]
    },
    {
      "cell_type": "code",
      "metadata": {
        "colab": {
          "base_uri": "https://localhost:8080/"
        },
        "id": "5uXslnJyEmDp",
        "outputId": "3842bfbd-5eef-4113-cdb9-27e7cbc5d87b"
      },
      "source": [
        "NH3.composition == {7:1, 1:3}\n",
        "\n",
        "PMNH3=NH3.mass\n",
        "PMNH3"
      ],
      "execution_count": null,
      "outputs": [
        {
          "output_type": "execute_result",
          "data": {
            "text/plain": [
              "17.031"
            ]
          },
          "metadata": {
            "tags": []
          },
          "execution_count": 16
        }
      ]
    },
    {
      "cell_type": "markdown",
      "metadata": {
        "id": "emBNWtx4JVYf"
      },
      "source": [
        "A partir de aquí por ejemplo podríamos hacer pequeñas funciones que nos calcularan número de moles y número de gramos en una reacción a partir de los datos de algún problema clásico de estequiometría de primero de bachillerato."
      ]
    },
    {
      "cell_type": "markdown",
      "metadata": {
        "id": "QWKgpP4qK_Ly"
      },
      "source": [
        "## Alguna composición más difícil\n",
        "Por ejemplo se me ocurre que podemos tener que escribir alguna composición algo más compleja con aniones o cationes como por ejemplo el ferricianuro $Fe(CN)_{6}^{3-}$\n",
        "\n",
        "Podemos buscarlo en wikipedia, [Ferricianuro](https://es.wikipedia.org/wiki/Ferricianuro)"
      ]
    },
    {
      "cell_type": "code",
      "metadata": {
        "colab": {
          "base_uri": "https://localhost:8080/"
        },
        "id": "oq0q4GwmKON7",
        "outputId": "30fabf0c-8743-4059-862f-a1f0d90cd648"
      },
      "source": [
        "from chempy import Substance\n",
        "ferricyanide = Substance.from_formula('Fe(CN)6-3')\n",
        "ferricyanide.composition == {0: -3, 26: 1, 6: 6, 7: 6}"
      ],
      "execution_count": null,
      "outputs": [
        {
          "output_type": "execute_result",
          "data": {
            "text/plain": [
              "True"
            ]
          },
          "metadata": {
            "tags": []
          },
          "execution_count": 17
        }
      ]
    },
    {
      "cell_type": "markdown",
      "metadata": {
        "id": "mcxtF7gqME4L"
      },
      "source": [
        "La parte interesante es que tnemos que poner el $0$ como la parte electrónica del compuesto y ponerle su valor, en este caso $-3$"
      ]
    },
    {
      "cell_type": "code",
      "metadata": {
        "colab": {
          "base_uri": "https://localhost:8080/"
        },
        "id": "oxZ6fbygKTf6",
        "outputId": "ab8e623a-a4f8-4f7f-f480-82058acd37d2"
      },
      "source": [
        "print(ferricyanide.unicode_name)"
      ],
      "execution_count": null,
      "outputs": [
        {
          "output_type": "stream",
          "text": [
            "Fe(CN)₆³⁻\n"
          ],
          "name": "stdout"
        }
      ]
    },
    {
      "cell_type": "code",
      "metadata": {
        "colab": {
          "base_uri": "https://localhost:8080/"
        },
        "id": "MHcn9RSDKp9s",
        "outputId": "07a19204-2b61-4f7b-dd9d-5f96491faf85"
      },
      "source": [
        "print(ferricyanide.latex_name + \", \" + ferricyanide.html_name)"
      ],
      "execution_count": null,
      "outputs": [
        {
          "output_type": "stream",
          "text": [
            "Fe(CN)_{6}^{3-}, Fe(CN)<sub>6</sub><sup>3-</sup>\n"
          ],
          "name": "stdout"
        }
      ]
    },
    {
      "cell_type": "code",
      "metadata": {
        "colab": {
          "base_uri": "https://localhost:8080/"
        },
        "id": "NNrzICBAKJhG",
        "outputId": "f4705603-0fc4-486e-a4ff-62a303b7af06"
      },
      "source": [
        "print('%.3f' % ferricyanide.mass)"
      ],
      "execution_count": null,
      "outputs": [
        {
          "output_type": "stream",
          "text": [
            "211.955\n"
          ],
          "name": "stdout"
        }
      ]
    },
    {
      "cell_type": "markdown",
      "metadata": {
        "id": "mLpWhYcR7w2h"
      },
      "source": [
        "## Reacción de los cohetes de la NASA.\n",
        "Parece que en los últimos años la NASA quiere volver a retomar los viajes a la Luna, como salto a viajes más largos, como por ejemplo Marte. \n",
        "Curiosamente, los chohetes que tenemos en la actualidad son peores que los que utilizaron en las misiones Apolo. \n",
        "\n",
        "Veamos alguna de esas reacciones para impulsar los cohetes e intentemos hacer el balance estequiométrico de dichas reacciones.\n"
      ]
    },
    {
      "cell_type": "code",
      "metadata": {
        "id": "Q0VfVj4e7LAf"
      },
      "source": [
        "from pprint import pprint\n",
        "\n",
        "from chempy import balance_stoichiometry"
      ],
      "execution_count": null,
      "outputs": []
    },
    {
      "cell_type": "code",
      "metadata": {
        "id": "HcMRTQi98iIb"
      },
      "source": [
        "reac, prod = balance_stoichiometry({'NH4ClO4', 'Al'},{'Al2O3', 'HCl', 'H2O', 'N2'})"
      ],
      "execution_count": null,
      "outputs": []
    },
    {
      "cell_type": "code",
      "metadata": {
        "colab": {
          "base_uri": "https://localhost:8080/"
        },
        "id": "LunMkNF0-EXo",
        "outputId": "2525d167-0cc7-4bea-e40f-271fdc6bb9c3"
      },
      "source": [
        "pprint(dict(reac))"
      ],
      "execution_count": null,
      "outputs": [
        {
          "output_type": "stream",
          "text": [
            "{'Al': 10, 'NH4ClO4': 6}\n"
          ],
          "name": "stdout"
        }
      ]
    },
    {
      "cell_type": "code",
      "metadata": {
        "colab": {
          "base_uri": "https://localhost:8080/"
        },
        "id": "wgjJOvLj-LhO",
        "outputId": "43773ab1-1c6b-4ae9-e71a-923ed7950eee"
      },
      "source": [
        "pprint(dict(prod))"
      ],
      "execution_count": null,
      "outputs": [
        {
          "output_type": "stream",
          "text": [
            "{'Al2O3': 5, 'H2O': 9, 'HCl': 6, 'N2': 3}\n"
          ],
          "name": "stdout"
        }
      ]
    },
    {
      "cell_type": "markdown",
      "metadata": {
        "id": "Ank9h00cRhv6"
      },
      "source": [
        "## La Tabla periódica\n",
        "\n",
        "Una de las maravillas de la ciencia que nos va a tocar explicar a nuestros alumnos es la Tabla periódica de Mendeley. Es probablemente una de las maravillas de la ciencia, aunque suele darnos mucha guerra a la hora de explicarla. Os proponemos un paquete llamado `mendeleev` y que nos va a ayudar con todos esos datos que tienen que estudiar nuestros alumnos."
      ]
    },
    {
      "cell_type": "code",
      "metadata": {
        "colab": {
          "base_uri": "https://localhost:8080/"
        },
        "id": "9X4L9BqM-QYw",
        "outputId": "d6005ef7-666e-4e2a-ee6b-87cdeadd3f06"
      },
      "source": [
        "! pip install mendeleev"
      ],
      "execution_count": null,
      "outputs": [
        {
          "output_type": "stream",
          "text": [
            "Collecting mendeleev\n",
            "\u001b[?25l  Downloading https://files.pythonhosted.org/packages/f0/75/5863bb298aa1390cb9ecb0548a62b8213ef085273f9d3c73e513b9c36214/mendeleev-0.6.1.tar.gz (193kB)\n",
            "\r\u001b[K     |█▊                              | 10kB 17.2MB/s eta 0:00:01\r\u001b[K     |███▍                            | 20kB 23.3MB/s eta 0:00:01\r\u001b[K     |█████                           | 30kB 17.5MB/s eta 0:00:01\r\u001b[K     |██████▉                         | 40kB 14.7MB/s eta 0:00:01\r\u001b[K     |████████▌                       | 51kB 14.4MB/s eta 0:00:01\r\u001b[K     |██████████▏                     | 61kB 14.9MB/s eta 0:00:01\r\u001b[K     |███████████▉                    | 71kB 12.0MB/s eta 0:00:01\r\u001b[K     |█████████████▋                  | 81kB 13.1MB/s eta 0:00:01\r\u001b[K     |███████████████▎                | 92kB 11.7MB/s eta 0:00:01\r\u001b[K     |█████████████████               | 102kB 11.2MB/s eta 0:00:01\r\u001b[K     |██████████████████▊             | 112kB 11.2MB/s eta 0:00:01\r\u001b[K     |████████████████████▍           | 122kB 11.2MB/s eta 0:00:01\r\u001b[K     |██████████████████████          | 133kB 11.2MB/s eta 0:00:01\r\u001b[K     |███████████████████████▊        | 143kB 11.2MB/s eta 0:00:01\r\u001b[K     |█████████████████████████▌      | 153kB 11.2MB/s eta 0:00:01\r\u001b[K     |███████████████████████████▏    | 163kB 11.2MB/s eta 0:00:01\r\u001b[K     |████████████████████████████▉   | 174kB 11.2MB/s eta 0:00:01\r\u001b[K     |██████████████████████████████▌ | 184kB 11.2MB/s eta 0:00:01\r\u001b[K     |████████████████████████████████| 194kB 11.2MB/s \n",
            "\u001b[?25hRequirement already satisfied: numpy in /usr/local/lib/python3.6/dist-packages (from mendeleev) (1.19.5)\n",
            "Requirement already satisfied: pandas in /usr/local/lib/python3.6/dist-packages (from mendeleev) (1.1.5)\n",
            "Requirement already satisfied: sqlalchemy>=1.3.0 in /usr/local/lib/python3.6/dist-packages (from mendeleev) (1.3.22)\n",
            "Collecting colorama\n",
            "  Downloading https://files.pythonhosted.org/packages/44/98/5b86278fbbf250d239ae0ecb724f8572af1c91f4a11edf4d36a206189440/colorama-0.4.4-py2.py3-none-any.whl\n",
            "Collecting pyfiglet\n",
            "\u001b[?25l  Downloading https://files.pythonhosted.org/packages/33/07/fcfdd7a2872f5b348953de35acce1544dab0c1e8368dca54279b1cde5c15/pyfiglet-0.8.post1-py2.py3-none-any.whl (865kB)\n",
            "\u001b[K     |████████████████████████████████| 870kB 10.6MB/s \n",
            "\u001b[?25hRequirement already satisfied: pytz>=2017.2 in /usr/local/lib/python3.6/dist-packages (from pandas->mendeleev) (2018.9)\n",
            "Requirement already satisfied: python-dateutil>=2.7.3 in /usr/local/lib/python3.6/dist-packages (from pandas->mendeleev) (2.8.1)\n",
            "Requirement already satisfied: six>=1.5 in /usr/local/lib/python3.6/dist-packages (from python-dateutil>=2.7.3->pandas->mendeleev) (1.15.0)\n",
            "Building wheels for collected packages: mendeleev\n",
            "  Building wheel for mendeleev (setup.py) ... \u001b[?25l\u001b[?25hdone\n",
            "  Created wheel for mendeleev: filename=mendeleev-0.6.1-py2.py3-none-any.whl size=174964 sha256=fa59974a64916f94313e5ded0922523f6cc42a9929f094bca3ce5879cb51dcbd\n",
            "  Stored in directory: /root/.cache/pip/wheels/fb/28/5d/95e69a718b35dd00169889b0139a692f6c265d399cab3aa097\n",
            "Successfully built mendeleev\n",
            "Installing collected packages: colorama, pyfiglet, mendeleev\n",
            "Successfully installed colorama-0.4.4 mendeleev-0.6.1 pyfiglet-0.8.post1\n"
          ],
          "name": "stdout"
        }
      ]
    },
    {
      "cell_type": "markdown",
      "metadata": {
        "id": "kkxSVJidTYX0"
      },
      "source": [
        "Con este paquete instalado podemos acceder de manera simple a los elementos de la la tabla periódica importando los elementos de `mendeleev` como símbolos."
      ]
    },
    {
      "cell_type": "code",
      "metadata": {
        "colab": {
          "base_uri": "https://localhost:8080/"
        },
        "id": "TUepDYSoOjSw",
        "outputId": "1c97316a-6f51-4f60-efbe-d94ae0de8887"
      },
      "source": [
        "from mendeleev import Si, Fe, O\n",
        "print(\"Si's name: \", Si.name)\n",
        "print(\"Fe's atomic number:\", Fe.atomic_number)\n",
        "print(\"O's atomic weight: \", O.atomic_weight)"
      ],
      "execution_count": null,
      "outputs": [
        {
          "output_type": "stream",
          "text": [
            "Si's name:  Silicon\n",
            "Fe's atomic number: 26\n",
            "O's atomic weight:  15.999\n"
          ],
          "name": "stdout"
        }
      ]
    },
    {
      "cell_type": "markdown",
      "metadata": {
        "id": "VkZeWOEmUZKf"
      },
      "source": [
        "Una manera alternativa de acceder a los datos es usando la función element que devuelve un objeto de tipo elemento dependiendo de los argumentos de la función. "
      ]
    },
    {
      "cell_type": "code",
      "metadata": {
        "id": "LplUMNNNO0HY"
      },
      "source": [
        "from mendeleev import element\n"
      ],
      "execution_count": null,
      "outputs": []
    },
    {
      "cell_type": "markdown",
      "metadata": {
        "id": "nmAzt08-VCaB"
      },
      "source": [
        "El método `element` acepta tres identificadores: **número atómico**, **símbolo atómico** o **nombre del elemento** en inglés. Por ejemplo el silicio *Si*"
      ]
    },
    {
      "cell_type": "code",
      "metadata": {
        "colab": {
          "base_uri": "https://localhost:8080/"
        },
        "id": "RzpEDNTeO7NP",
        "outputId": "a961d9d3-29e9-4bc2-d236-176a28db4749"
      },
      "source": [
        "si = element('Si')\n",
        "si"
      ],
      "execution_count": null,
      "outputs": [
        {
          "output_type": "execute_result",
          "data": {
            "text/plain": [
              "Element(\n",
              "\tabundance_crust=282000.0,\n",
              " \tabundance_sea=2.2,\n",
              " \tannotation='',\n",
              " \tatomic_number=14,\n",
              " \tatomic_radius=110.0,\n",
              " \tatomic_radius_rahm=231.99999999999997,\n",
              " \tatomic_volume=12.1,\n",
              " \tatomic_weight=28.085,\n",
              " \tatomic_weight_uncertainty=None,\n",
              " \tblock='p',\n",
              " \tboiling_point=2628.0,\n",
              " \tc6=305.0,\n",
              " \tc6_gb=308.0,\n",
              " \tcas='7440-21-3',\n",
              " \tcovalent_radius_bragg=117.0,\n",
              " \tcovalent_radius_cordero=111.00000000000001,\n",
              " \tcovalent_radius_pyykko=115.99999999999999,\n",
              " \tcovalent_radius_pyykko_double=107.0,\n",
              " \tcovalent_radius_pyykko_triple=102.0,\n",
              " \tcpk_color='#daa520',\n",
              " \tdensity=2.33,\n",
              " \tdescription=\"Metalloid element belonging to group 14 of the periodic table. It is the second most abundant element in the Earth's crust, making up 25.7% of it by weight. Chemically less reactive than carbon. First identified by Lavoisier in 1787 and first isolated in 1823 by Berzelius.\",\n",
              " \tdipole_polarizability=37.3,\n",
              " \tdipole_polarizability_unc=0.7,\n",
              " \tdiscoverers='Jöns Berzelius',\n",
              " \tdiscovery_location='Sweden',\n",
              " \tdiscovery_year=1824,\n",
              " \tec=<ElectronicConfiguration(conf=\"1s2 2s2 2p6 3s2 3p2\")>,\n",
              " \teconf='[Ne] 3s2 3p2',\n",
              " \telectron_affinity=1.3895211,\n",
              " \ten_allen=11.33,\n",
              " \ten_ghosh=0.178503,\n",
              " \ten_pauling=1.9,\n",
              " \tevaporation_heat=383.0,\n",
              " \tfusion_heat=50.6,\n",
              " \tgas_basicity=814.1,\n",
              " \tgeochemical_class='major',\n",
              " \tglawe_number=85,\n",
              " \tgoldschmidt_class='litophile',\n",
              " \tgroup=<Group(symbol=IVA, name=Carbon group)>,\n",
              " \tgroup_id=14,\n",
              " \theat_of_formation=450.0,\n",
              " \tionic_radii=[IonicRadius(\n",
              "\tatomic_number=14,\n",
              " \tcharge=4,\n",
              " \tcoordination='IV',\n",
              " \tcrystal_radius=40.0,\n",
              " \teconf='2p6',\n",
              " \tid=379,\n",
              " \tionic_radius=26.0,\n",
              " \tmost_reliable=True,\n",
              " \torigin='',\n",
              " \tspin='',\n",
              "), IonicRadius(\n",
              "\tatomic_number=14,\n",
              " \tcharge=4,\n",
              " \tcoordination='VI',\n",
              " \tcrystal_radius=54.0,\n",
              " \teconf='2p6',\n",
              " \tid=380,\n",
              " \tionic_radius=40.0,\n",
              " \tmost_reliable=True,\n",
              " \torigin='from r^3 vs V plots, ',\n",
              " \tspin='',\n",
              ")],\n",
              " \tis_monoisotopic=None,\n",
              " \tis_radioactive=False,\n",
              " \tisotopes=[<Isotope(Z=14, A=28, mass=27.976926535, abundance=0.92191)>, <Isotope(Z=14, A=29, mass=28.976494665, abundance=0.04699)>, <Isotope(Z=14, A=30, mass=29.97377001, abundance=0.0311)>],\n",
              " \tjmol_color='#f0c8a0',\n",
              " \tlattice_constant=5.43,\n",
              " \tlattice_structure='DIA',\n",
              " \tmelting_point=1683.0,\n",
              " \tmendeleev_number=88,\n",
              " \tmetallic_radius=117.0,\n",
              " \tmetallic_radius_c12=138.0,\n",
              " \tmolcas_gv_color='#f0c8a0',\n",
              " \tname='Silicon',\n",
              " \tname_origin='Latin: silex, silicus, (flint).',\n",
              " \tperiod=3,\n",
              " \tpettifor_number=85,\n",
              " \tproton_affinity=837.0,\n",
              " \tscreening_constants=[<ScreeningConstant(Z=  14, n=  1, s=s, screening=    0.4255)>, <ScreeningConstant(Z=  14, n=  2, s=p, screening=    4.0550)>, <ScreeningConstant(Z=  14, n=  2, s=s, screening=    4.9800)>, <ScreeningConstant(Z=  14, n=  3, s=p, screening=    9.7148)>, <ScreeningConstant(Z=  14, n=  3, s=s, screening=    9.0968)>],\n",
              " \tsources='Makes up major portion of clay, granite, quartz (SiO2), and sand. Commercial production depends on a reaction between sand (SiO2) and carbon at a temperature of around 2200 °C.',\n",
              " \tspecific_heat=0.703,\n",
              " \tsymbol='Si',\n",
              " \tthermal_conductivity=149.0,\n",
              " \tuses='Used in glass as silicon dioxide (SiO2). Silicon carbide (SiC) is one of the hardest substances known and used in polishing. Also the crystalline form is used in semiconductors.',\n",
              " \tvdw_radius=210.0,\n",
              " \tvdw_radius_alvarez=219.0,\n",
              " \tvdw_radius_batsanov=210.0,\n",
              " \tvdw_radius_bondi=210.0,\n",
              " \tvdw_radius_dreiding=426.99999999999994,\n",
              " \tvdw_radius_mm3=229.0,\n",
              " \tvdw_radius_rt=None,\n",
              " \tvdw_radius_truhlar=None,\n",
              " \tvdw_radius_uff=429.5,\n",
              ")"
            ]
          },
          "metadata": {
            "tags": []
          },
          "execution_count": 32
        }
      ]
    },
    {
      "cell_type": "markdown",
      "metadata": {
        "id": "7UOKlcGaVg_n"
      },
      "source": [
        "Lo impresionante es que si llamamos al elemento tenemos una enorme cantidad de información sobre el elemento.\n",
        "\n",
        "Podemos llamarlo también por su número atómico, por ejemplo el $13$ o por su nombre en inglés, por ejemplo Oxygen"
      ]
    },
    {
      "cell_type": "code",
      "metadata": {
        "colab": {
          "base_uri": "https://localhost:8080/"
        },
        "id": "va1UDDG8O-nq",
        "outputId": "dc6bc752-95bf-44dc-ceb8-c699c252c66d"
      },
      "source": [
        "al = element(13)\n",
        "print(al.name)"
      ],
      "execution_count": null,
      "outputs": [
        {
          "output_type": "stream",
          "text": [
            "Aluminum\n"
          ],
          "name": "stdout"
        }
      ]
    },
    {
      "cell_type": "code",
      "metadata": {
        "colab": {
          "base_uri": "https://localhost:8080/"
        },
        "id": "P2jfcANKPHTO",
        "outputId": "67b7ca8e-d9cc-4688-c99a-d77dd097183c"
      },
      "source": [
        "o = element('Oxygen')\n",
        "print(o.atomic_number)"
      ],
      "execution_count": null,
      "outputs": [
        {
          "output_type": "stream",
          "text": [
            "8\n"
          ],
          "name": "stdout"
        }
      ]
    },
    {
      "cell_type": "markdown",
      "metadata": {
        "id": "SbqJ3_y3V_5e"
      },
      "source": [
        "Podemos saber los estados de oxidación de un elemento, veamos en este caso para el hierro."
      ]
    },
    {
      "cell_type": "code",
      "metadata": {
        "colab": {
          "base_uri": "https://localhost:8080/"
        },
        "id": "KHmSZicnPLvh",
        "outputId": "29fa0123-0bb8-472a-f8fb-9b04ebb523fc"
      },
      "source": [
        "fe = element('Fe')\n",
        "print(fe.oxistates)"
      ],
      "execution_count": null,
      "outputs": [
        {
          "output_type": "stream",
          "text": [
            "[3, 2]\n"
          ],
          "name": "stdout"
        }
      ]
    },
    {
      "cell_type": "markdown",
      "metadata": {
        "id": "bUuxxd_1WVkq"
      },
      "source": [
        "Otra cosa que podemos saber es la configuración electrónica de un elemento. \n",
        "Nos da un diccionario OrderedDict que tiene como keys una tupla con el número cuántico principal y el nivel, y nos da su número de ocupación. "
      ]
    },
    {
      "cell_type": "code",
      "metadata": {
        "colab": {
          "base_uri": "https://localhost:8080/"
        },
        "id": "KFv7bSzKPR6H",
        "outputId": "117161e7-a3f7-42c7-e437-e9cd37775c06"
      },
      "source": [
        "si.ec.conf"
      ],
      "execution_count": null,
      "outputs": [
        {
          "output_type": "execute_result",
          "data": {
            "text/plain": [
              "OrderedDict([((1, 's'), 2),\n",
              "             ((2, 's'), 2),\n",
              "             ((2, 'p'), 6),\n",
              "             ((3, 's'), 2),\n",
              "             ((3, 'p'), 2)])"
            ]
          },
          "metadata": {
            "tags": []
          },
          "execution_count": 35
        }
      ]
    },
    {
      "cell_type": "code",
      "metadata": {
        "id": "zwrPuQI9PW8r"
      },
      "source": [
        ""
      ],
      "execution_count": null,
      "outputs": []
    }
  ]
}