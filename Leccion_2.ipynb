{
  "nbformat": 4,
  "nbformat_minor": 0,
  "metadata": {
    "kernelspec": {
      "display_name": "Python 3",
      "language": "python",
      "name": "python3"
    },
    "language_info": {
      "codemirror_mode": {
        "name": "ipython",
        "version": 3
      },
      "file_extension": ".py",
      "mimetype": "text/x-python",
      "name": "python",
      "nbconvert_exporter": "python",
      "pygments_lexer": "ipython3",
      "version": "3.7.4"
    },
    "colab": {
      "name": "Python2_LC (1).ipynb",
      "provenance": [],
      "include_colab_link": true
    }
  },
  "cells": [
    {
      "cell_type": "markdown",
      "metadata": {
        "id": "view-in-github",
        "colab_type": "text"
      },
      "source": [
        "<a href=\"https://colab.research.google.com/github/secun/JupyterNotebooks/blob/main/Leccion_2.ipynb\" target=\"_parent\"><img src=\"https://colab.research.google.com/assets/colab-badge.svg\" alt=\"Open In Colab\"/></a>"
      ]
    },
    {
      "cell_type": "markdown",
      "metadata": {
        "id": "DajJR-9oCrgS"
      },
      "source": [
        "## Números en Python\n",
        "\n",
        "Python proporcona tres tipos de números: enteros, coma flotante y complejos. "
      ]
    },
    {
      "cell_type": "code",
      "metadata": {
        "id": "JyWGj_7xCrgd",
        "outputId": "1f5cfa54-0520-47f3-ddea-3e39fd2ede97"
      },
      "source": [
        "2+3"
      ],
      "execution_count": null,
      "outputs": [
        {
          "output_type": "execute_result",
          "data": {
            "text/plain": [
              "5"
            ]
          },
          "metadata": {
            "tags": []
          },
          "execution_count": 1
        }
      ]
    },
    {
      "cell_type": "code",
      "metadata": {
        "id": "Ukt77-yfCrgf",
        "outputId": "1855fce6-abb5-4624-dc20-0dc84e89dbc9"
      },
      "source": [
        "2*3"
      ],
      "execution_count": null,
      "outputs": [
        {
          "output_type": "execute_result",
          "data": {
            "text/plain": [
              "6"
            ]
          },
          "metadata": {
            "tags": []
          },
          "execution_count": 2
        }
      ]
    },
    {
      "cell_type": "code",
      "metadata": {
        "id": "_LPWDDjLCrgg",
        "outputId": "940c6acc-cccf-421c-a999-5f57cc257767"
      },
      "source": [
        "2**3"
      ],
      "execution_count": null,
      "outputs": [
        {
          "output_type": "execute_result",
          "data": {
            "text/plain": [
              "8"
            ]
          },
          "metadata": {
            "tags": []
          },
          "execution_count": 3
        }
      ]
    },
    {
      "cell_type": "code",
      "metadata": {
        "id": "I-a2Kkf7Crgg",
        "outputId": "f6fc05ba-ac2a-4090-92e8-76a5e57572dc"
      },
      "source": [
        "2**200"
      ],
      "execution_count": null,
      "outputs": [
        {
          "output_type": "execute_result",
          "data": {
            "text/plain": [
              "1606938044258990275541962092341162602522202993782792835301376"
            ]
          },
          "metadata": {
            "tags": []
          },
          "execution_count": 4
        }
      ]
    },
    {
      "cell_type": "code",
      "metadata": {
        "id": "f1WrJpiBCrgh",
        "outputId": "efc85767-b3fd-4cde-b6aa-6d88037d2b12"
      },
      "source": [
        "15/7"
      ],
      "execution_count": null,
      "outputs": [
        {
          "output_type": "execute_result",
          "data": {
            "text/plain": [
              "2.142857142857143"
            ]
          },
          "metadata": {
            "tags": []
          },
          "execution_count": 5
        }
      ]
    },
    {
      "cell_type": "code",
      "metadata": {
        "id": "hpcYRlpWCrgi",
        "outputId": "f49944f5-2f35-43b4-b654-e082d1d4e052"
      },
      "source": [
        "15//6"
      ],
      "execution_count": null,
      "outputs": [
        {
          "output_type": "execute_result",
          "data": {
            "text/plain": [
              "2"
            ]
          },
          "metadata": {
            "tags": []
          },
          "execution_count": 9
        }
      ]
    },
    {
      "cell_type": "code",
      "metadata": {
        "id": "qGsWDEVZCrgi",
        "outputId": "efa7f8df-d128-4664-8d6e-a6c822200cf9"
      },
      "source": [
        "15%6"
      ],
      "execution_count": null,
      "outputs": [
        {
          "output_type": "execute_result",
          "data": {
            "text/plain": [
              "3"
            ]
          },
          "metadata": {
            "tags": []
          },
          "execution_count": 8
        }
      ]
    },
    {
      "cell_type": "markdown",
      "metadata": {
        "id": "QFKywYVfCrgj"
      },
      "source": [
        "## Boolean "
      ]
    },
    {
      "cell_type": "code",
      "metadata": {
        "id": "gTNpzsALCrgj",
        "outputId": "96b33e92-e75c-4724-c8db-a2a9c464873a"
      },
      "source": [
        "type(True)"
      ],
      "execution_count": null,
      "outputs": [
        {
          "output_type": "execute_result",
          "data": {
            "text/plain": [
              "bool"
            ]
          },
          "metadata": {
            "tags": []
          },
          "execution_count": 7
        }
      ]
    },
    {
      "cell_type": "code",
      "metadata": {
        "id": "jEcbBynbCrgk",
        "outputId": "546a37e4-1f59-40fb-9a6a-e989720b47a5"
      },
      "source": [
        "type(False)"
      ],
      "execution_count": null,
      "outputs": [
        {
          "output_type": "execute_result",
          "data": {
            "text/plain": [
              "bool"
            ]
          },
          "metadata": {
            "tags": []
          },
          "execution_count": 8
        }
      ]
    },
    {
      "cell_type": "code",
      "metadata": {
        "id": "13LwQAYyCrgl",
        "outputId": "6a42c36d-913b-462b-f2f2-4bc2e4d34e26"
      },
      "source": [
        "True or False"
      ],
      "execution_count": null,
      "outputs": [
        {
          "output_type": "execute_result",
          "data": {
            "text/plain": [
              "True"
            ]
          },
          "metadata": {
            "tags": []
          },
          "execution_count": 9
        }
      ]
    },
    {
      "cell_type": "code",
      "metadata": {
        "id": "4JpJ6QGVCrgl",
        "outputId": "fccca95c-cd20-46e1-eb16-9a56f2ac5726"
      },
      "source": [
        "True and False"
      ],
      "execution_count": null,
      "outputs": [
        {
          "output_type": "execute_result",
          "data": {
            "text/plain": [
              "False"
            ]
          },
          "metadata": {
            "tags": []
          },
          "execution_count": 10
        }
      ]
    },
    {
      "cell_type": "code",
      "metadata": {
        "id": "D_I7cKW-Crgm",
        "outputId": "dd35b01a-64f9-4d95-e854-b13c23cb2393"
      },
      "source": [
        "not False"
      ],
      "execution_count": null,
      "outputs": [
        {
          "output_type": "execute_result",
          "data": {
            "text/plain": [
              "True"
            ]
          },
          "metadata": {
            "tags": []
          },
          "execution_count": 11
        }
      ]
    },
    {
      "cell_type": "code",
      "metadata": {
        "id": "ywqD1SC-Crgn",
        "outputId": "c71b4f59-5a4a-4127-d5ca-d7a0c69fe89e"
      },
      "source": [
        "2<4"
      ],
      "execution_count": null,
      "outputs": [
        {
          "output_type": "execute_result",
          "data": {
            "text/plain": [
              "True"
            ]
          },
          "metadata": {
            "tags": []
          },
          "execution_count": 12
        }
      ]
    },
    {
      "cell_type": "code",
      "metadata": {
        "id": "zRBq-dqeCrgn",
        "outputId": "bf94f77d-a019-41d8-aa87-06f20b0a6064"
      },
      "source": [
        "2<=2"
      ],
      "execution_count": null,
      "outputs": [
        {
          "output_type": "execute_result",
          "data": {
            "text/plain": [
              "True"
            ]
          },
          "metadata": {
            "tags": []
          },
          "execution_count": 13
        }
      ]
    },
    {
      "cell_type": "code",
      "metadata": {
        "id": "XoNvPBhtCrgo",
        "outputId": "ac66a43f-7226-4f92-bba2-2ae5bae3a000"
      },
      "source": [
        "2 ==2"
      ],
      "execution_count": null,
      "outputs": [
        {
          "output_type": "execute_result",
          "data": {
            "text/plain": [
              "True"
            ]
          },
          "metadata": {
            "tags": []
          },
          "execution_count": 14
        }
      ]
    },
    {
      "cell_type": "code",
      "metadata": {
        "id": "htptNLTICrgo",
        "outputId": "d111d596-8367-4a76-dc42-b1bdcc190453"
      },
      "source": [
        "2!=2"
      ],
      "execution_count": null,
      "outputs": [
        {
          "output_type": "execute_result",
          "data": {
            "text/plain": [
              "False"
            ]
          },
          "metadata": {
            "tags": []
          },
          "execution_count": 15
        }
      ]
    },
    {
      "cell_type": "code",
      "metadata": {
        "id": "pWuxV2ugCrgp",
        "outputId": "056f219c-0096-4931-faa1-d9d402d5546d"
      },
      "source": [
        "[2,3] == [3,3]"
      ],
      "execution_count": null,
      "outputs": [
        {
          "output_type": "execute_result",
          "data": {
            "text/plain": [
              "False"
            ]
          },
          "metadata": {
            "tags": []
          },
          "execution_count": 16
        }
      ]
    },
    {
      "cell_type": "code",
      "metadata": {
        "id": "LT4suAtbCrgp",
        "outputId": "afd07b61-d844-4340-ef03-e8489edaf44b"
      },
      "source": [
        "[2,3] == [2,3]"
      ],
      "execution_count": null,
      "outputs": [
        {
          "output_type": "execute_result",
          "data": {
            "text/plain": [
              "True"
            ]
          },
          "metadata": {
            "tags": []
          },
          "execution_count": 17
        }
      ]
    },
    {
      "cell_type": "code",
      "metadata": {
        "id": "ujQWvh-iCrgq",
        "outputId": "b6aa9a26-936e-48fd-b5d3-9fd6315c653e"
      },
      "source": [
        "[2,3] is [2,3]"
      ],
      "execution_count": null,
      "outputs": [
        {
          "output_type": "execute_result",
          "data": {
            "text/plain": [
              "False"
            ]
          },
          "metadata": {
            "tags": []
          },
          "execution_count": 18
        }
      ]
    },
    {
      "cell_type": "markdown",
      "metadata": {
        "id": "S6ZU_04oCrgq"
      },
      "source": [
        "Cuando las listas son idénticas en contenido, el resultado de igualar es True. Pero si lo que preguntamos es que si son el mismo objeto, usando is, nos sale false"
      ]
    },
    {
      "cell_type": "markdown",
      "metadata": {
        "id": "iVYkdaYdCrgr"
      },
      "source": [
        "## Secuencias. \n",
        "\n",
        "En Python, una secuencia es una coleción de objetos ordenados por su posición. Hay tres secuencias básicas:\n",
        "$$\n",
        "Listas (lists) \\\\\n",
        "Tuplas (tuples) \\\\\n",
        "range-objects  \\\\\n",
        "$$\n",
        "\n",
        "Por una parte tendrán los métodos y propiedades de las secuencias, pero además tendrán otras propiedades de cada tipo de secuencia.\n",
        "\n",
        "Como las secuencas están ordenadas, podremos llamar a cada elemento de la secuencia por su índice, comenzando en cero [0].\n",
        "\n",
        "Podemos recorrer la secuencia de derecha a izquierda empezando con el [-1].\n",
        "\n",
        "Y por último tiene la propiedad de \"slicing\", que es coger un subconjunto de la secuencia. El primer número se incluye pero el último, no."
      ]
    },
    {
      "cell_type": "markdown",
      "metadata": {
        "id": "7QlHVCqFCrgr"
      },
      "source": [
        "### Listas.\n",
        "\n",
        "Las listas son secuencias mutables de objetos de cualquier tipo. Se usan típicamente para almacenar objetos homogeneos"
      ]
    },
    {
      "cell_type": "code",
      "metadata": {
        "id": "w_IUctPsCrgs"
      },
      "source": [
        "numbers = [2,4,6,8]"
      ],
      "execution_count": null,
      "outputs": []
    },
    {
      "cell_type": "code",
      "metadata": {
        "id": "T8RV5SSBCrgs",
        "outputId": "54943189-1b98-4307-aaf6-72cc6cbb94f6"
      },
      "source": [
        "numbers[0]"
      ],
      "execution_count": null,
      "outputs": [
        {
          "output_type": "execute_result",
          "data": {
            "text/plain": [
              "2"
            ]
          },
          "metadata": {
            "tags": []
          },
          "execution_count": 20
        }
      ]
    },
    {
      "cell_type": "code",
      "metadata": {
        "id": "Pq7XkmxFCrgt",
        "outputId": "b9cbf4c7-bdb8-43c7-8ce1-742ef4f5d250"
      },
      "source": [
        "numbers[-1]"
      ],
      "execution_count": null,
      "outputs": [
        {
          "output_type": "execute_result",
          "data": {
            "text/plain": [
              "8"
            ]
          },
          "metadata": {
            "tags": []
          },
          "execution_count": 21
        }
      ]
    },
    {
      "cell_type": "code",
      "metadata": {
        "id": "BgH3n0b8Crgt",
        "outputId": "039b7962-6146-4f69-83fe-ba9902a56e53"
      },
      "source": [
        "numbers[0:2]"
      ],
      "execution_count": null,
      "outputs": [
        {
          "output_type": "execute_result",
          "data": {
            "text/plain": [
              "[2, 4]"
            ]
          },
          "metadata": {
            "tags": []
          },
          "execution_count": 22
        }
      ]
    },
    {
      "cell_type": "code",
      "metadata": {
        "id": "bGSf3SJVCrgt"
      },
      "source": [
        "numbers.append(10)"
      ],
      "execution_count": null,
      "outputs": []
    },
    {
      "cell_type": "code",
      "metadata": {
        "id": "McFhN5cgCrgu",
        "outputId": "4e5a5477-787a-416d-e743-81c3e07fe86a"
      },
      "source": [
        "numbers"
      ],
      "execution_count": null,
      "outputs": [
        {
          "output_type": "execute_result",
          "data": {
            "text/plain": [
              "[2, 4, 6, 8, 10]"
            ]
          },
          "metadata": {
            "tags": []
          },
          "execution_count": 24
        }
      ]
    },
    {
      "cell_type": "markdown",
      "metadata": {
        "collapsed": true,
        "id": "WEH0TPPpCrgu"
      },
      "source": [
        "## Tuplas"
      ]
    },
    {
      "cell_type": "code",
      "metadata": {
        "id": "touOUaEuCrgv"
      },
      "source": [
        "T=(1,3,5,7)"
      ],
      "execution_count": null,
      "outputs": []
    },
    {
      "cell_type": "code",
      "metadata": {
        "id": "21mC--udCrgv",
        "outputId": "ac627431-9361-4330-bda3-0d59841d6f0a"
      },
      "source": [
        "type(T)"
      ],
      "execution_count": null,
      "outputs": [
        {
          "output_type": "execute_result",
          "data": {
            "text/plain": [
              "tuple"
            ]
          },
          "metadata": {
            "tags": []
          },
          "execution_count": 26
        }
      ]
    },
    {
      "cell_type": "code",
      "metadata": {
        "id": "Bx1ZTL0JCrgw",
        "outputId": "d26db550-f562-4c89-89ec-5e47b90f47dd"
      },
      "source": [
        "len(T)"
      ],
      "execution_count": null,
      "outputs": [
        {
          "output_type": "execute_result",
          "data": {
            "text/plain": [
              "4"
            ]
          },
          "metadata": {
            "tags": []
          },
          "execution_count": 27
        }
      ]
    },
    {
      "cell_type": "code",
      "metadata": {
        "id": "TOpSM3RaCrgw",
        "outputId": "b09bd676-b2a9-47a1-dc84-953466f044f3"
      },
      "source": [
        "T + (9,11)"
      ],
      "execution_count": null,
      "outputs": [
        {
          "output_type": "execute_result",
          "data": {
            "text/plain": [
              "(1, 3, 5, 7, 9, 11)"
            ]
          },
          "metadata": {
            "tags": []
          },
          "execution_count": 28
        }
      ]
    },
    {
      "cell_type": "code",
      "metadata": {
        "id": "_32UBgMfCrgw",
        "outputId": "f6bc22a0-6bca-4a7b-d264-afd4650a4f33"
      },
      "source": [
        "T[1]"
      ],
      "execution_count": null,
      "outputs": [
        {
          "output_type": "execute_result",
          "data": {
            "text/plain": [
              "3"
            ]
          },
          "metadata": {
            "tags": []
          },
          "execution_count": 29
        }
      ]
    },
    {
      "cell_type": "code",
      "metadata": {
        "id": "C92jQ5_TCrgx"
      },
      "source": [
        "x=30.5\n",
        "y=10.3"
      ],
      "execution_count": null,
      "outputs": []
    },
    {
      "cell_type": "code",
      "metadata": {
        "id": "AE3TKjhLCrgx"
      },
      "source": [
        "coordinate = (x,y)"
      ],
      "execution_count": null,
      "outputs": []
    },
    {
      "cell_type": "code",
      "metadata": {
        "id": "kEZXeC5gCrgy",
        "outputId": "84cccef9-0b83-4642-83ed-d9b70e702505"
      },
      "source": [
        "type(coordinate)"
      ],
      "execution_count": null,
      "outputs": [
        {
          "output_type": "execute_result",
          "data": {
            "text/plain": [
              "tuple"
            ]
          },
          "metadata": {
            "tags": []
          },
          "execution_count": 32
        }
      ]
    },
    {
      "cell_type": "code",
      "metadata": {
        "id": "OjjodKI9Crgy",
        "outputId": "72b6040f-fb85-47a5-afd5-403e75da7802"
      },
      "source": [
        "coordinate"
      ],
      "execution_count": null,
      "outputs": [
        {
          "output_type": "execute_result",
          "data": {
            "text/plain": [
              "(30.5, 10.3)"
            ]
          },
          "metadata": {
            "tags": []
          },
          "execution_count": 33
        }
      ]
    },
    {
      "cell_type": "code",
      "metadata": {
        "id": "GFrmI_8cCrgy"
      },
      "source": [
        "(c1,c2)=coordinate"
      ],
      "execution_count": null,
      "outputs": []
    },
    {
      "cell_type": "code",
      "metadata": {
        "id": "-cIyFQ77Crgz",
        "outputId": "5a0e9c83-5e60-48c1-8904-592f6f571f40"
      },
      "source": [
        "c1"
      ],
      "execution_count": null,
      "outputs": [
        {
          "output_type": "execute_result",
          "data": {
            "text/plain": [
              "30.5"
            ]
          },
          "metadata": {
            "tags": []
          },
          "execution_count": 35
        }
      ]
    },
    {
      "cell_type": "code",
      "metadata": {
        "id": "__-JtVjmCrgz",
        "outputId": "6643c99a-df57-4239-f37c-6fb7149f361a"
      },
      "source": [
        "c2"
      ],
      "execution_count": null,
      "outputs": [
        {
          "output_type": "execute_result",
          "data": {
            "text/plain": [
              "10.3"
            ]
          },
          "metadata": {
            "tags": []
          },
          "execution_count": 36
        }
      ]
    },
    {
      "cell_type": "markdown",
      "metadata": {
        "id": "5bmKV1AaCrgz"
      },
      "source": [
        "## Ranges"
      ]
    },
    {
      "cell_type": "code",
      "metadata": {
        "id": "_q_j-HvvCrg0",
        "outputId": "66f02e11-d8e6-481a-923f-8759c8f48782"
      },
      "source": [
        "range(5)"
      ],
      "execution_count": null,
      "outputs": [
        {
          "output_type": "execute_result",
          "data": {
            "text/plain": [
              "range(0, 5)"
            ]
          },
          "metadata": {
            "tags": []
          },
          "execution_count": 37
        }
      ]
    },
    {
      "cell_type": "code",
      "metadata": {
        "id": "yjXXBdPmCrg0",
        "outputId": "95454ab8-3351-42fd-8558-4cff17ac29b5"
      },
      "source": [
        "list(range(5))"
      ],
      "execution_count": null,
      "outputs": [
        {
          "output_type": "execute_result",
          "data": {
            "text/plain": [
              "[0, 1, 2, 3, 4]"
            ]
          },
          "metadata": {
            "tags": []
          },
          "execution_count": 38
        }
      ]
    },
    {
      "cell_type": "code",
      "metadata": {
        "id": "JM8XifFZCrg1",
        "outputId": "8643ab6f-5cdf-413a-8864-819aa7692de8"
      },
      "source": [
        "list(range(1,13,2))"
      ],
      "execution_count": null,
      "outputs": [
        {
          "output_type": "execute_result",
          "data": {
            "text/plain": [
              "[1, 3, 5, 7, 9, 11]"
            ]
          },
          "metadata": {
            "tags": []
          },
          "execution_count": 39
        }
      ]
    },
    {
      "cell_type": "markdown",
      "metadata": {
        "id": "4HeKhOU6Crg1"
      },
      "source": [
        "## Strings"
      ]
    },
    {
      "cell_type": "code",
      "metadata": {
        "id": "zQDewLIECrg1"
      },
      "source": [
        "S = \"Python\""
      ],
      "execution_count": null,
      "outputs": []
    },
    {
      "cell_type": "code",
      "metadata": {
        "id": "SjqkdGKtCrg2",
        "outputId": "35ba80e4-bd1d-4302-bd87-ef1903214097"
      },
      "source": [
        "len(S)"
      ],
      "execution_count": null,
      "outputs": [
        {
          "output_type": "execute_result",
          "data": {
            "text/plain": [
              "6"
            ]
          },
          "metadata": {
            "tags": []
          },
          "execution_count": 41
        }
      ]
    },
    {
      "cell_type": "code",
      "metadata": {
        "id": "jXg8xoIfCrg2",
        "outputId": "d0c465a5-8239-49ea-b49c-8e6503d7ce86"
      },
      "source": [
        "S[0]"
      ],
      "execution_count": null,
      "outputs": [
        {
          "output_type": "execute_result",
          "data": {
            "text/plain": [
              "'P'"
            ]
          },
          "metadata": {
            "tags": []
          },
          "execution_count": 42
        }
      ]
    },
    {
      "cell_type": "code",
      "metadata": {
        "id": "KVtxiq-pCrg3",
        "outputId": "764a2741-283a-4c01-9456-e82732d67b27"
      },
      "source": [
        "S[-1]"
      ],
      "execution_count": null,
      "outputs": [
        {
          "output_type": "execute_result",
          "data": {
            "text/plain": [
              "'n'"
            ]
          },
          "metadata": {
            "tags": []
          },
          "execution_count": 43
        }
      ]
    },
    {
      "cell_type": "code",
      "metadata": {
        "id": "i99l-oJLCrg3",
        "outputId": "dda8bda7-157e-45cd-88ce-591785a2c014"
      },
      "source": [
        "S[0:3]"
      ],
      "execution_count": null,
      "outputs": [
        {
          "output_type": "execute_result",
          "data": {
            "text/plain": [
              "'Pyt'"
            ]
          },
          "metadata": {
            "tags": []
          },
          "execution_count": 44
        }
      ]
    },
    {
      "cell_type": "code",
      "metadata": {
        "id": "Jia4a3VrCrg4",
        "outputId": "824f6134-322a-4b38-c68f-097a69c2a621"
      },
      "source": [
        "S[-3:]"
      ],
      "execution_count": null,
      "outputs": [
        {
          "output_type": "execute_result",
          "data": {
            "text/plain": [
              "'hon'"
            ]
          },
          "metadata": {
            "tags": []
          },
          "execution_count": 45
        }
      ]
    },
    {
      "cell_type": "code",
      "metadata": {
        "id": "_69z_1TWCrg4",
        "outputId": "33160079-997b-4bd0-b57c-57acaf2c778c"
      },
      "source": [
        "\"y\" in S"
      ],
      "execution_count": null,
      "outputs": [
        {
          "output_type": "execute_result",
          "data": {
            "text/plain": [
              "True"
            ]
          },
          "metadata": {
            "tags": []
          },
          "execution_count": 46
        }
      ]
    },
    {
      "cell_type": "code",
      "metadata": {
        "id": "LFwWqhARCrg4",
        "outputId": "8ddbd2ad-1e5f-4619-9a66-a597ce848bb6"
      },
      "source": [
        "S + \" es el mejor\""
      ],
      "execution_count": null,
      "outputs": [
        {
          "output_type": "execute_result",
          "data": {
            "text/plain": [
              "'Python es el mejor'"
            ]
          },
          "metadata": {
            "tags": []
          },
          "execution_count": 47
        }
      ]
    },
    {
      "cell_type": "code",
      "metadata": {
        "id": "FO4VtOYwCrg5",
        "outputId": "66a592ae-32c0-4c56-8b3e-c7687089996b"
      },
      "source": [
        "3*S"
      ],
      "execution_count": null,
      "outputs": [
        {
          "output_type": "execute_result",
          "data": {
            "text/plain": [
              "'PythonPythonPython'"
            ]
          },
          "metadata": {
            "tags": []
          },
          "execution_count": 48
        }
      ]
    },
    {
      "cell_type": "code",
      "metadata": {
        "id": "Vfd-ZuopCrg5",
        "outputId": "b7de4587-1d3f-4acb-eef5-f21e18632d6c"
      },
      "source": [
        "\"ocho es igual a \" + 8 "
      ],
      "execution_count": null,
      "outputs": [
        {
          "output_type": "error",
          "ename": "TypeError",
          "evalue": "can only concatenate str (not \"int\") to str",
          "traceback": [
            "\u001b[0;31m---------------------------------------------------------------------------\u001b[0m",
            "\u001b[0;31mTypeError\u001b[0m                                 Traceback (most recent call last)",
            "\u001b[0;32m<ipython-input-49-03e9dae0116b>\u001b[0m in \u001b[0;36m<module>\u001b[0;34m\u001b[0m\n\u001b[0;32m----> 1\u001b[0;31m \u001b[0;34m\"ocho es igual a \"\u001b[0m \u001b[0;34m+\u001b[0m \u001b[0;36m8\u001b[0m\u001b[0;34m\u001b[0m\u001b[0;34m\u001b[0m\u001b[0m\n\u001b[0m",
            "\u001b[0;31mTypeError\u001b[0m: can only concatenate str (not \"int\") to str"
          ]
        }
      ]
    },
    {
      "cell_type": "code",
      "metadata": {
        "id": "A4hv6mPjCrg6",
        "outputId": "ddfee460-728a-45a2-c139-2c0019b955f8"
      },
      "source": [
        "\"ocho es igual a \" + str(8) "
      ],
      "execution_count": null,
      "outputs": [
        {
          "output_type": "execute_result",
          "data": {
            "text/plain": [
              "'ocho es igual a 8'"
            ]
          },
          "metadata": {
            "tags": []
          },
          "execution_count": 50
        }
      ]
    },
    {
      "cell_type": "code",
      "metadata": {
        "id": "C1rMAAZyCrg6",
        "outputId": "e0a2a500-79e5-4ede-e974-2c6190c0402b"
      },
      "source": [
        "dir(str)"
      ],
      "execution_count": null,
      "outputs": [
        {
          "output_type": "execute_result",
          "data": {
            "text/plain": [
              "['__add__',\n",
              " '__class__',\n",
              " '__contains__',\n",
              " '__delattr__',\n",
              " '__dir__',\n",
              " '__doc__',\n",
              " '__eq__',\n",
              " '__format__',\n",
              " '__ge__',\n",
              " '__getattribute__',\n",
              " '__getitem__',\n",
              " '__getnewargs__',\n",
              " '__gt__',\n",
              " '__hash__',\n",
              " '__init__',\n",
              " '__init_subclass__',\n",
              " '__iter__',\n",
              " '__le__',\n",
              " '__len__',\n",
              " '__lt__',\n",
              " '__mod__',\n",
              " '__mul__',\n",
              " '__ne__',\n",
              " '__new__',\n",
              " '__reduce__',\n",
              " '__reduce_ex__',\n",
              " '__repr__',\n",
              " '__rmod__',\n",
              " '__rmul__',\n",
              " '__setattr__',\n",
              " '__sizeof__',\n",
              " '__str__',\n",
              " '__subclasshook__',\n",
              " 'capitalize',\n",
              " 'casefold',\n",
              " 'center',\n",
              " 'count',\n",
              " 'encode',\n",
              " 'endswith',\n",
              " 'expandtabs',\n",
              " 'find',\n",
              " 'format',\n",
              " 'format_map',\n",
              " 'index',\n",
              " 'isalnum',\n",
              " 'isalpha',\n",
              " 'isascii',\n",
              " 'isdecimal',\n",
              " 'isdigit',\n",
              " 'isidentifier',\n",
              " 'islower',\n",
              " 'isnumeric',\n",
              " 'isprintable',\n",
              " 'isspace',\n",
              " 'istitle',\n",
              " 'isupper',\n",
              " 'join',\n",
              " 'ljust',\n",
              " 'lower',\n",
              " 'lstrip',\n",
              " 'maketrans',\n",
              " 'partition',\n",
              " 'replace',\n",
              " 'rfind',\n",
              " 'rindex',\n",
              " 'rjust',\n",
              " 'rpartition',\n",
              " 'rsplit',\n",
              " 'rstrip',\n",
              " 'split',\n",
              " 'splitlines',\n",
              " 'startswith',\n",
              " 'strip',\n",
              " 'swapcase',\n",
              " 'title',\n",
              " 'translate',\n",
              " 'upper',\n",
              " 'zfill']"
            ]
          },
          "metadata": {
            "tags": []
          },
          "execution_count": 51
        }
      ]
    },
    {
      "cell_type": "code",
      "metadata": {
        "id": "Wkrtgwi3Crg7"
      },
      "source": [
        "name = \"Michael Burnham\""
      ],
      "execution_count": null,
      "outputs": []
    },
    {
      "cell_type": "code",
      "metadata": {
        "id": "cyw5e3FECrg7",
        "outputId": "9465caf3-3a74-49c2-c3bc-abb4c2617e22"
      },
      "source": [
        "name.replace('M','m')"
      ],
      "execution_count": null,
      "outputs": [
        {
          "output_type": "execute_result",
          "data": {
            "text/plain": [
              "'michael Burnham'"
            ]
          },
          "metadata": {
            "tags": []
          },
          "execution_count": 53
        }
      ]
    },
    {
      "cell_type": "code",
      "metadata": {
        "id": "cM0QO1VyCrg8"
      },
      "source": [
        "names = name.split(' ')"
      ],
      "execution_count": null,
      "outputs": []
    },
    {
      "cell_type": "code",
      "metadata": {
        "id": "7eaOFKkhCrg8",
        "outputId": "a0e2477b-dcca-4d24-d6a5-20f4154831df"
      },
      "source": [
        "type(names)"
      ],
      "execution_count": null,
      "outputs": [
        {
          "output_type": "execute_result",
          "data": {
            "text/plain": [
              "list"
            ]
          },
          "metadata": {
            "tags": []
          },
          "execution_count": 55
        }
      ]
    },
    {
      "cell_type": "code",
      "metadata": {
        "id": "h14K66y8Crg8",
        "outputId": "5479426d-8e4e-4ddf-827a-4b0fabcfc0cc"
      },
      "source": [
        "names[0]"
      ],
      "execution_count": null,
      "outputs": [
        {
          "output_type": "execute_result",
          "data": {
            "text/plain": [
              "'Michael'"
            ]
          },
          "metadata": {
            "tags": []
          },
          "execution_count": 56
        }
      ]
    },
    {
      "cell_type": "code",
      "metadata": {
        "id": "Zv1TNQXNCrg9",
        "outputId": "27eb05c7-71e8-4d1b-d52f-507212164be4"
      },
      "source": [
        "type(names[1])"
      ],
      "execution_count": null,
      "outputs": [
        {
          "output_type": "execute_result",
          "data": {
            "text/plain": [
              "str"
            ]
          },
          "metadata": {
            "tags": []
          },
          "execution_count": 57
        }
      ]
    },
    {
      "cell_type": "code",
      "metadata": {
        "id": "TLfe697UCrg9",
        "outputId": "c274d074-a1d8-4eec-8c3e-11e5f37f5e93"
      },
      "source": [
        "names[0].upper()"
      ],
      "execution_count": null,
      "outputs": [
        {
          "output_type": "execute_result",
          "data": {
            "text/plain": [
              "'MICHAEL'"
            ]
          },
          "metadata": {
            "tags": []
          },
          "execution_count": 58
        }
      ]
    },
    {
      "cell_type": "code",
      "metadata": {
        "id": "2U4mByXOCrg-",
        "outputId": "3565fd24-db94-4a74-ef87-5c303ccc61ef"
      },
      "source": [
        "names[1].lower()"
      ],
      "execution_count": null,
      "outputs": [
        {
          "output_type": "execute_result",
          "data": {
            "text/plain": [
              "'burnham'"
            ]
          },
          "metadata": {
            "tags": []
          },
          "execution_count": 59
        }
      ]
    },
    {
      "cell_type": "markdown",
      "metadata": {
        "collapsed": true,
        "id": "7m6KgtG3Crg-"
      },
      "source": [
        "## Bucles"
      ]
    },
    {
      "cell_type": "markdown",
      "metadata": {
        "id": "rf1AT06eCrg_"
      },
      "source": [
        "Para lo que más se usan los rangos es para crear bucles. \n",
        "La sintaxis es \n",
        "\n",
        "for (variable) in (secuencia):\n",
        "\n",
        "    bloque de ejecución (tabulado)\n",
        "    \n",
        "(Fin de la ejecución)\n",
        "\n",
        "Recordad que todo lo que queramos que se ejecute en el bucle debe ir tabulado"
      ]
    },
    {
      "cell_type": "code",
      "metadata": {
        "id": "9n1MzCFQCrg_"
      },
      "source": [
        "names=['Luke','Han','Leia']"
      ],
      "execution_count": null,
      "outputs": []
    },
    {
      "cell_type": "code",
      "metadata": {
        "id": "dLV4FWdPCrg_",
        "outputId": "f1edb67c-9096-4b8c-d6e7-4fd27c50396d"
      },
      "source": [
        "for name in names:\n",
        "    print(name)"
      ],
      "execution_count": null,
      "outputs": [
        {
          "output_type": "stream",
          "text": [
            "Luke\n",
            "Han\n",
            "Leia\n"
          ],
          "name": "stdout"
        }
      ]
    },
    {
      "cell_type": "code",
      "metadata": {
        "id": "Adl4zOlMCrhA",
        "outputId": "9fa0a362-e18c-4d7b-efd2-a8b317ee5ac8"
      },
      "source": [
        "for indice in range(1,13,2):\n",
        "    print(indice)"
      ],
      "execution_count": null,
      "outputs": [
        {
          "output_type": "stream",
          "text": [
            "1\n",
            "3\n",
            "5\n",
            "7\n",
            "9\n",
            "11\n"
          ],
          "name": "stdout"
        }
      ]
    },
    {
      "cell_type": "markdown",
      "metadata": {
        "id": "Z1nbbRLFCrhA"
      },
      "source": [
        "## Functions\n",
        "\n",
        "vamos a ver como se definnen las funciones en Python. Nos van a servir para agrupar procedimientos y no tener que repetirlas un gran número de veces. "
      ]
    },
    {
      "cell_type": "code",
      "metadata": {
        "id": "-h1GyFTvCrhB"
      },
      "source": [
        "def add(a,b):\n",
        "    my_sum = a + b\n",
        "    \n",
        "    return my_sum\n"
      ],
      "execution_count": null,
      "outputs": []
    },
    {
      "cell_type": "code",
      "metadata": {
        "id": "m8oQyHB7CrhB",
        "outputId": "77bf00ae-9a1a-4fdb-deb8-c65f56f06c9b"
      },
      "source": [
        "add(2,3)"
      ],
      "execution_count": null,
      "outputs": [
        {
          "output_type": "execute_result",
          "data": {
            "text/plain": [
              "5"
            ]
          },
          "metadata": {
            "tags": []
          },
          "execution_count": 14
        }
      ]
    },
    {
      "cell_type": "markdown",
      "metadata": {
        "id": "tys7bT3RCrhC"
      },
      "source": [
        "Las variables que se definen dentro de una función por definición son locales, "
      ]
    },
    {
      "cell_type": "code",
      "metadata": {
        "id": "9b6PHZzACrhC"
      },
      "source": [
        "def add_and_sub(a,b):\n",
        "    mysum = a + b\n",
        "    mydiff = a - b\n",
        "    return (mysum,mydiff)"
      ],
      "execution_count": null,
      "outputs": []
    },
    {
      "cell_type": "code",
      "metadata": {
        "id": "hBa7WHYICrhC",
        "outputId": "bda54dec-7c97-45e0-c3db-18ee577c70bc"
      },
      "source": [
        "add_and_sub(12,20)"
      ],
      "execution_count": null,
      "outputs": [
        {
          "output_type": "execute_result",
          "data": {
            "text/plain": [
              "(32, -8)"
            ]
          },
          "metadata": {
            "tags": []
          },
          "execution_count": 16
        }
      ]
    },
    {
      "cell_type": "code",
      "metadata": {
        "id": "_HRuIrsSCrhD"
      },
      "source": [
        "def intersec(s1,s2):\n",
        "    res = []\n",
        "    for x in s1:\n",
        "        if x in s2:\n",
        "            res.append(x)\n",
        "            \n",
        "    return res"
      ],
      "execution_count": null,
      "outputs": []
    },
    {
      "cell_type": "code",
      "metadata": {
        "id": "GKoFvbglCrhD",
        "outputId": "5bf2bf07-30ce-4ec0-c191-d32ce945c276"
      },
      "source": [
        "intersec([1,2,3,4,5],[3,4,5,6,7])"
      ],
      "execution_count": null,
      "outputs": [
        {
          "output_type": "execute_result",
          "data": {
            "text/plain": [
              "[3, 4, 5]"
            ]
          },
          "metadata": {
            "tags": []
          },
          "execution_count": 18
        }
      ]
    },
    {
      "cell_type": "markdown",
      "metadata": {
        "id": "im-r-rAnCrhE"
      },
      "source": [
        "### función para escribir un password\n",
        "\n",
        "Hagamos ahora otra función que por ejemplo nos escriba un password.\n",
        "Para ello voy a importar una librería que se llama random"
      ]
    },
    {
      "cell_type": "code",
      "metadata": {
        "id": "6zfBb_0zCrhE"
      },
      "source": [
        "import random"
      ],
      "execution_count": null,
      "outputs": []
    },
    {
      "cell_type": "code",
      "metadata": {
        "id": "vJkvh7dxCrhE",
        "outputId": "81123eca-81ef-4a81-dff9-2778d8432715"
      },
      "source": [
        "random.choice([1,2,3,4,5])"
      ],
      "execution_count": null,
      "outputs": [
        {
          "output_type": "execute_result",
          "data": {
            "text/plain": [
              "2"
            ]
          },
          "metadata": {
            "tags": []
          },
          "execution_count": 20
        }
      ]
    },
    {
      "cell_type": "code",
      "metadata": {
        "id": "-Ckisam5CrhF",
        "outputId": "68740f7a-64a6-4705-8146-bf3d5406fc8b"
      },
      "source": [
        "random.choice(\"abcdefg\")"
      ],
      "execution_count": null,
      "outputs": [
        {
          "output_type": "execute_result",
          "data": {
            "text/plain": [
              "'g'"
            ]
          },
          "metadata": {
            "tags": []
          },
          "execution_count": 21
        }
      ]
    },
    {
      "cell_type": "code",
      "metadata": {
        "id": "pRQztfxgCrhF",
        "outputId": "2c9edf16-fe9e-4133-f527-9cd3f7091a2d"
      },
      "source": [
        "#length = 4\n",
        "pp = \"\"\n",
        "characters=\"abcdef\"\n",
        "for i in range(len(characters)):\n",
        "        pp = pp + random.choice(characters)\n",
        "        \n",
        "print(pp)"
      ],
      "execution_count": null,
      "outputs": [
        {
          "output_type": "stream",
          "text": [
            "ebabba\n"
          ],
          "name": "stdout"
        }
      ]
    },
    {
      "cell_type": "code",
      "metadata": {
        "id": "z5jx2BhwCrhG"
      },
      "source": [
        "def password(length):\n",
        "    pw = str()\n",
        "    characters=\"abcdef\" + \"0123456789\"\n",
        "    for i in range(length):\n",
        "        pw = pw + random.choice(characters)\n",
        "        \n",
        "    return pw\n",
        "    \n"
      ],
      "execution_count": null,
      "outputs": []
    },
    {
      "cell_type": "code",
      "metadata": {
        "id": "wgbl-8d2CrhG",
        "outputId": "2a2889ce-99a1-49d8-cb15-36ceff684421"
      },
      "source": [
        "password(5)"
      ],
      "execution_count": null,
      "outputs": [
        {
          "output_type": "execute_result",
          "data": {
            "text/plain": [
              "'4f8c7'"
            ]
          },
          "metadata": {
            "tags": []
          },
          "execution_count": 25
        }
      ]
    },
    {
      "cell_type": "code",
      "metadata": {
        "id": "gxY7XglcCrhH"
      },
      "source": [
        "def C2K(temp):\n",
        "    \"\"\"Función que calcula los grados kelvin, \n",
        "    cuando metemos grados centígrados\"\"\"\n",
        "    kelvin = temp + 273\n",
        "    return kelvin"
      ],
      "execution_count": null,
      "outputs": []
    },
    {
      "cell_type": "code",
      "metadata": {
        "id": "2uuuOGT-CrhH",
        "outputId": "543fbfba-7410-4d53-e490-b8785d40fd33"
      },
      "source": [
        "C2K(10)"
      ],
      "execution_count": null,
      "outputs": [
        {
          "output_type": "execute_result",
          "data": {
            "text/plain": [
              "283"
            ]
          },
          "metadata": {
            "tags": []
          },
          "execution_count": 27
        }
      ]
    },
    {
      "cell_type": "code",
      "metadata": {
        "id": "NlPDPFH_CrhI",
        "outputId": "b1b01f24-d383-4a15-d7d5-15f99dbd661c"
      },
      "source": [
        "help(C2K)"
      ],
      "execution_count": null,
      "outputs": [
        {
          "output_type": "stream",
          "text": [
            "Help on function C2K in module __main__:\n",
            "\n",
            "C2K(temp)\n",
            "    Función que calcula los grados kelvin, \n",
            "    cuando metemos grados centígrados\n",
            "\n"
          ],
          "name": "stdout"
        }
      ]
    },
    {
      "cell_type": "code",
      "metadata": {
        "id": "Wmb5YtBgCrhI"
      },
      "source": [
        "C2K?"
      ],
      "execution_count": null,
      "outputs": []
    },
    {
      "cell_type": "code",
      "metadata": {
        "id": "9rjFFEbUCrhI"
      },
      "source": [
        ""
      ],
      "execution_count": null,
      "outputs": []
    }
  ]
}