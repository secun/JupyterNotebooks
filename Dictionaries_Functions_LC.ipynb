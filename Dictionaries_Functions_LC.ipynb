{
  "nbformat": 4,
  "nbformat_minor": 0,
  "metadata": {
    "kernelspec": {
      "display_name": "Python 3",
      "language": "python",
      "name": "python3"
    },
    "language_info": {
      "codemirror_mode": {
        "name": "ipython",
        "version": 3
      },
      "file_extension": ".py",
      "mimetype": "text/x-python",
      "name": "python",
      "nbconvert_exporter": "python",
      "pygments_lexer": "ipython3",
      "version": "3.8.5"
    },
    "colab": {
      "name": "Dictionaries_Functions_LC.ipynb",
      "provenance": [],
      "include_colab_link": true
    }
  },
  "cells": [
    {
      "cell_type": "markdown",
      "metadata": {
        "id": "view-in-github",
        "colab_type": "text"
      },
      "source": [
        "<a href=\"https://colab.research.google.com/github/secun/JupyterNotebooks/blob/main/Dictionaries_Functions_LC.ipynb\" target=\"_parent\"><img src=\"https://colab.research.google.com/assets/colab-badge.svg\" alt=\"Open In Colab\"/></a>"
      ]
    },
    {
      "cell_type": "markdown",
      "metadata": {
        "id": "6gdSwf2OWgKf"
      },
      "source": [
        "# Diccionarios\n",
        "\n",
        "vamos a trabajar con diccionarios. Empecemos creando un diccionario vacío. "
      ]
    },
    {
      "cell_type": "code",
      "metadata": {
        "id": "NNZzdyTLWgKs"
      },
      "source": [
        "age = {}"
      ],
      "execution_count": null,
      "outputs": []
    },
    {
      "cell_type": "code",
      "metadata": {
        "id": "wO9MhzupWgKt"
      },
      "source": [
        "age = dict()"
      ],
      "execution_count": null,
      "outputs": []
    },
    {
      "cell_type": "code",
      "metadata": {
        "id": "3p62NZJyWgKu"
      },
      "source": [
        "# Los dicionarios tienen dos partes las claves (Keys) \n",
        "# y los valores asociados a dichas claves (values)\n",
        "\n",
        "age = {\"Spock\":50, \"Uhura\": 25, \"Even Piell\":120}"
      ],
      "execution_count": null,
      "outputs": []
    },
    {
      "cell_type": "markdown",
      "metadata": {
        "id": "6FMY-eMsWgKu"
      },
      "source": [
        "Vamos ahora a buscar la edad de uno de los integrantes del diccionario."
      ]
    },
    {
      "cell_type": "code",
      "metadata": {
        "id": "cCMjTS8-WgKv",
        "outputId": "e0f79cba-1187-417e-b130-531b95ec2efd"
      },
      "source": [
        "age[\"Spock\"]"
      ],
      "execution_count": null,
      "outputs": [
        {
          "output_type": "execute_result",
          "data": {
            "text/plain": [
              "50"
            ]
          },
          "metadata": {
            "tags": []
          },
          "execution_count": 4
        }
      ]
    },
    {
      "cell_type": "markdown",
      "metadata": {
        "id": "NoYDfgKcWgKx"
      },
      "source": [
        "Supongamos que ha pasado el cumpleaños de Spock y tengo que cambiar la edad de Spock"
      ]
    },
    {
      "cell_type": "code",
      "metadata": {
        "id": "Sj_-yz9FWgKy",
        "outputId": "4a6b8999-b77a-4915-9f1f-7fcf266ece27"
      },
      "source": [
        "age[\"Spock\"] = 51\n",
        "age[\"Spock\"] "
      ],
      "execution_count": null,
      "outputs": [
        {
          "output_type": "execute_result",
          "data": {
            "text/plain": [
              "51"
            ]
          },
          "metadata": {
            "tags": []
          },
          "execution_count": 5
        }
      ]
    },
    {
      "cell_type": "code",
      "metadata": {
        "id": "T-GOcOP_WgKy"
      },
      "source": [
        "age[\"Spock\"] = age[\"Spock\"]+1"
      ],
      "execution_count": null,
      "outputs": []
    },
    {
      "cell_type": "code",
      "metadata": {
        "id": "Iep5mi_uWgKz",
        "outputId": "f16949b4-3937-449b-e584-914576a15f4b"
      },
      "source": [
        "age[\"Spock\"]"
      ],
      "execution_count": null,
      "outputs": [
        {
          "output_type": "execute_result",
          "data": {
            "text/plain": [
              "52"
            ]
          },
          "metadata": {
            "tags": []
          },
          "execution_count": 7
        }
      ]
    },
    {
      "cell_type": "code",
      "metadata": {
        "id": "npWdPAF-WgK0",
        "outputId": "d11af4be-94d8-45a6-d991-3123f7b648eb"
      },
      "source": [
        "age[\"Spock\"] += 1\n",
        "age[\"Spock\"] "
      ],
      "execution_count": null,
      "outputs": [
        {
          "output_type": "execute_result",
          "data": {
            "text/plain": [
              "53"
            ]
          },
          "metadata": {
            "tags": []
          },
          "execution_count": 8
        }
      ]
    },
    {
      "cell_type": "markdown",
      "metadata": {
        "id": "jKHYfnJfWgK0"
      },
      "source": [
        "Podemos trabajar ahora con algunos de los métodos asociados a los diccionarios. Por ejemplo recoger todos nombres en un nuevo objeto o por ejemplo todos los valores en otro. Estos objetos son bastante especiales y se conocen como $\\textbf{View objects}$. "
      ]
    },
    {
      "cell_type": "code",
      "metadata": {
        "id": "msc0ZECYWgK1",
        "outputId": "96539148-a85a-4794-d5bb-daf478aefd23"
      },
      "source": [
        "names = age.keys()\n",
        "names"
      ],
      "execution_count": null,
      "outputs": [
        {
          "output_type": "execute_result",
          "data": {
            "text/plain": [
              "dict_keys(['Spock', 'Uhura', 'Even Piell'])"
            ]
          },
          "metadata": {
            "tags": []
          },
          "execution_count": 9
        }
      ]
    },
    {
      "cell_type": "code",
      "metadata": {
        "id": "gC8dL1BqWgK1",
        "outputId": "6b1046ee-9c56-46b9-97fd-e232909ec47c"
      },
      "source": [
        "type(names)"
      ],
      "execution_count": null,
      "outputs": [
        {
          "output_type": "execute_result",
          "data": {
            "text/plain": [
              "dict_keys"
            ]
          },
          "metadata": {
            "tags": []
          },
          "execution_count": 10
        }
      ]
    },
    {
      "cell_type": "code",
      "metadata": {
        "id": "qqT6kueJWgK2"
      },
      "source": [
        "# Vamos ahora a modificar el diccionario\n",
        "\n",
        "age[\"Leia\"] = 60"
      ],
      "execution_count": null,
      "outputs": []
    },
    {
      "cell_type": "code",
      "metadata": {
        "id": "C5hS0viqWgK3",
        "outputId": "04ff14b0-5b8c-473b-c2f5-58f247401bd0"
      },
      "source": [
        "names"
      ],
      "execution_count": null,
      "outputs": [
        {
          "output_type": "execute_result",
          "data": {
            "text/plain": [
              "dict_keys(['Spock', 'Uhura', 'Even Piell', 'Leia'])"
            ]
          },
          "metadata": {
            "tags": []
          },
          "execution_count": 12
        }
      ]
    },
    {
      "cell_type": "code",
      "metadata": {
        "id": "ANbniLShWgK3",
        "outputId": "2de205ae-1e5f-418b-e1c3-1bc0b37720c0"
      },
      "source": [
        "ages = age.values()\n",
        "ages"
      ],
      "execution_count": null,
      "outputs": [
        {
          "output_type": "execute_result",
          "data": {
            "text/plain": [
              "dict_values([53, 25, 120, 60])"
            ]
          },
          "metadata": {
            "tags": []
          },
          "execution_count": 13
        }
      ]
    },
    {
      "cell_type": "markdown",
      "metadata": {
        "id": "I7VcqSB-WgK4"
      },
      "source": [
        "Por último hagamos una prueba de pertenecia al diccionario"
      ]
    },
    {
      "cell_type": "code",
      "metadata": {
        "id": "uM541q91WgK5",
        "outputId": "0a121e67-2b76-4ef6-9199-910e675afb6d"
      },
      "source": [
        "\"Leia\" in age"
      ],
      "execution_count": null,
      "outputs": [
        {
          "output_type": "execute_result",
          "data": {
            "text/plain": [
              "True"
            ]
          },
          "metadata": {
            "tags": []
          },
          "execution_count": 14
        }
      ]
    },
    {
      "cell_type": "code",
      "metadata": {
        "id": "4gEBseUEWgK5",
        "outputId": "5ff9e6bb-fd15-46c1-8651-d94234d8a343"
      },
      "source": [
        "\"Luke\" in age"
      ],
      "execution_count": null,
      "outputs": [
        {
          "output_type": "execute_result",
          "data": {
            "text/plain": [
              "False"
            ]
          },
          "metadata": {
            "tags": []
          },
          "execution_count": 15
        }
      ]
    },
    {
      "cell_type": "markdown",
      "metadata": {
        "id": "ebfZfVh6WgK6"
      },
      "source": [
        "# Functions\n",
        "\n",
        "vamos a ver como se definnen las funciones en Python. Nos van a servir para agrupar procedimientos y no tener que repetirlas un gran número de veces. "
      ]
    },
    {
      "cell_type": "code",
      "metadata": {
        "id": "yR5oz5HGWgK6"
      },
      "source": [
        "def add(a,b):\n",
        "    my_sum = a + b\n",
        "    \n",
        "    return my_sum"
      ],
      "execution_count": null,
      "outputs": []
    },
    {
      "cell_type": "code",
      "metadata": {
        "id": "K2NvVu0cWgK7",
        "outputId": "9c81f702-c2af-42e7-a158-1b8d39e27bcf"
      },
      "source": [
        "add(12,12)"
      ],
      "execution_count": null,
      "outputs": [
        {
          "output_type": "execute_result",
          "data": {
            "text/plain": [
              "24"
            ]
          },
          "metadata": {
            "tags": []
          },
          "execution_count": 17
        }
      ]
    },
    {
      "cell_type": "markdown",
      "metadata": {
        "id": "iFuRMrBqWgK8"
      },
      "source": [
        "Las variables que se definen dentro de una función por definición son locales, "
      ]
    },
    {
      "cell_type": "code",
      "metadata": {
        "id": "5xRKhb5iWgK8"
      },
      "source": [
        "def add_and_sub(a,b):\n",
        "    mysum = a + b\n",
        "    mydiff = a - b\n",
        "    return (mysum,mydiff)"
      ],
      "execution_count": null,
      "outputs": []
    },
    {
      "cell_type": "code",
      "metadata": {
        "id": "SL7lJnIjWgK9",
        "outputId": "c7eec1e4-6f8f-4e3c-d7b2-68b94ced5ba4"
      },
      "source": [
        "add_and_sub(10,10)"
      ],
      "execution_count": null,
      "outputs": [
        {
          "output_type": "execute_result",
          "data": {
            "text/plain": [
              "(20, 0)"
            ]
          },
          "metadata": {
            "tags": []
          },
          "execution_count": 19
        }
      ]
    },
    {
      "cell_type": "code",
      "metadata": {
        "id": "_iovBTM0WgK-"
      },
      "source": [
        "def intersec(s1,s2):\n",
        "    res = []\n",
        "    for x in s1:\n",
        "        if x in s2:\n",
        "            res.append(x)\n",
        "            \n",
        "    return res"
      ],
      "execution_count": null,
      "outputs": []
    },
    {
      "cell_type": "code",
      "metadata": {
        "id": "RTaPhikUWgK-",
        "outputId": "ade802b3-388e-4d7b-a577-1c6a9d257395"
      },
      "source": [
        "intersec([1,2,3,4,5],[3,4,5,6,7])"
      ],
      "execution_count": null,
      "outputs": [
        {
          "output_type": "execute_result",
          "data": {
            "text/plain": [
              "[3, 4, 5]"
            ]
          },
          "metadata": {
            "tags": []
          },
          "execution_count": 21
        }
      ]
    },
    {
      "cell_type": "markdown",
      "metadata": {
        "id": "7TgwTgm4WgK_"
      },
      "source": [
        "Hagamos ahora otra función que por ejemplo nos escriba un password.\n",
        "Para ello voy a importar una librería que se llama random"
      ]
    },
    {
      "cell_type": "code",
      "metadata": {
        "id": "8bQpRc8HWgK_"
      },
      "source": [
        "import random"
      ],
      "execution_count": null,
      "outputs": []
    },
    {
      "cell_type": "code",
      "metadata": {
        "id": "88TqjTd-WgK_",
        "outputId": "b0b54fa9-1694-40fa-aadb-9c4a6c91ca7f"
      },
      "source": [
        "random.choice([1,2,3,4,5])"
      ],
      "execution_count": null,
      "outputs": [
        {
          "output_type": "execute_result",
          "data": {
            "text/plain": [
              "3"
            ]
          },
          "metadata": {
            "tags": []
          },
          "execution_count": 23
        }
      ]
    },
    {
      "cell_type": "code",
      "metadata": {
        "id": "va5iTiEQWgLA",
        "outputId": "76f6f899-8e13-41fa-daa3-a16dc7085ba8"
      },
      "source": [
        "random.choice(\"abcdefg\")"
      ],
      "execution_count": null,
      "outputs": [
        {
          "output_type": "execute_result",
          "data": {
            "text/plain": [
              "'g'"
            ]
          },
          "metadata": {
            "tags": []
          },
          "execution_count": 24
        }
      ]
    },
    {
      "cell_type": "code",
      "metadata": {
        "id": "wqw7y74nWgLA",
        "outputId": "61d1a119-9033-489d-c593-7f02f93ebf27"
      },
      "source": [
        "#length = 4\n",
        "pp = \"\"\n",
        "characters=\"abcdef\"\n",
        "for i in range(len(characters)):\n",
        "        pp = pp + random.choice(characters)\n",
        "        \n",
        "print(pp)"
      ],
      "execution_count": null,
      "outputs": [
        {
          "output_type": "stream",
          "text": [
            "fcffdf\n"
          ],
          "name": "stdout"
        }
      ]
    },
    {
      "cell_type": "code",
      "metadata": {
        "id": "0BUWOF0kWgLB"
      },
      "source": [
        "def password(length):\n",
        "    pw = str()\n",
        "    characters=\"abcdef\" + \"0123456789\"\n",
        "    for i in range(length):\n",
        "        pw = pw + random.choice(characters)\n",
        "        \n",
        "    return pw\n",
        "    \n",
        "    "
      ],
      "execution_count": null,
      "outputs": []
    },
    {
      "cell_type": "code",
      "metadata": {
        "id": "Auk1VkeuWgLB",
        "outputId": "4f860a9a-0fe5-49ec-94c8-1c55b0c59959"
      },
      "source": [
        "password(4)"
      ],
      "execution_count": null,
      "outputs": [
        {
          "output_type": "execute_result",
          "data": {
            "text/plain": [
              "'93d8'"
            ]
          },
          "metadata": {
            "tags": []
          },
          "execution_count": 29
        }
      ]
    },
    {
      "cell_type": "code",
      "metadata": {
        "id": "wtXpYnTUWgLC"
      },
      "source": [
        "def C2K(temp):\n",
        "    \"\"\"Función que calcula los grados kelvin, \n",
        "    cuando metemos grados centígrados\"\"\"\n",
        "    kelvin = temp + 273\n",
        "    return kelvin"
      ],
      "execution_count": null,
      "outputs": []
    },
    {
      "cell_type": "code",
      "metadata": {
        "id": "Q0aZnYZoWgLC",
        "outputId": "cb7dcd5e-829a-406b-b815-5b262fa1bb06"
      },
      "source": [
        "C2K(10)"
      ],
      "execution_count": null,
      "outputs": [
        {
          "output_type": "execute_result",
          "data": {
            "text/plain": [
              "283"
            ]
          },
          "metadata": {
            "tags": []
          },
          "execution_count": 31
        }
      ]
    },
    {
      "cell_type": "code",
      "metadata": {
        "id": "vpl2Ep3qWgLD",
        "outputId": "f283a8fd-db43-4946-f485-e996443acb15"
      },
      "source": [
        "help(C2K)"
      ],
      "execution_count": null,
      "outputs": [
        {
          "output_type": "stream",
          "text": [
            "Help on function C2K in module __main__:\n",
            "\n",
            "C2K(temp)\n",
            "    Función que calcula los grados kelvin, \n",
            "    cuando metemos grados centígrados\n",
            "\n"
          ],
          "name": "stdout"
        }
      ]
    },
    {
      "cell_type": "code",
      "metadata": {
        "id": "L56f1ER8WgLD"
      },
      "source": [
        "C2K?"
      ],
      "execution_count": null,
      "outputs": []
    },
    {
      "cell_type": "code",
      "metadata": {
        "collapsed": true,
        "id": "AjWkF0tdWgLE"
      },
      "source": [
        ""
      ],
      "execution_count": null,
      "outputs": []
    }
  ]
}